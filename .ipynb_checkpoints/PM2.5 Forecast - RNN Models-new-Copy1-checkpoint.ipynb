{
 "cells": [
  {
   "cell_type": "markdown",
   "id": "35dab1eb",
   "metadata": {},
   "source": [
    "# Bangkok PM2.5 Forecast - RNN Models\n",
    "\n",
    "\n",
    "## Dataset\n",
    "The dataset is from the previous section (Bangkok PM2.5 Forecast - VAR and AR.ipynb)\n",
    "\n",
    "## RNN Models\n",
    "The RNN models used to train and predict PM2.5 are unidirectional and bidirectional LSTM models.\n"
   ]
  },
  {
   "cell_type": "markdown",
   "id": "2b66041f",
   "metadata": {},
   "source": [
    "## Import libraries"
   ]
  },
  {
   "cell_type": "code",
   "execution_count": 75,
   "id": "e0cfb751",
   "metadata": {},
   "outputs": [],
   "source": [
    "import tensorflow as tf\n",
    "from tensorflow.keras.layers import Dense, LSTM, Bidirectional, Dropout\n",
    "from tensorflow.keras.models import Model\n",
    "from tensorflow.keras.preprocessing.sequence import TimeseriesGenerator\n",
    "from tensorflow.keras.optimizers import Adam\n",
    "from tensorflow.keras import Sequential\n",
    "from sklearn.preprocessing import MinMaxScaler\n",
    "\n",
    "import matplotlib.pyplot as plt\n",
    "import pandas as pd\n",
    "import numpy as np\n",
    "%matplotlib inline\n",
    "\n",
    "from statsmodels.tools.eval_measures import rmse"
   ]
  },
  {
   "cell_type": "markdown",
   "id": "882032e5",
   "metadata": {},
   "source": [
    "## Import Data"
   ]
  },
  {
   "cell_type": "code",
   "execution_count": 76,
   "id": "8f775eb7",
   "metadata": {},
   "outputs": [],
   "source": [
    "data = pd.read_csv('cleaned_dataset.csv')"
   ]
  },
  {
   "cell_type": "code",
   "execution_count": 77,
   "id": "11574f37",
   "metadata": {},
   "outputs": [],
   "source": [
    "data['datetime'] = pd.to_datetime(data[\"datetime\"])\n",
    "data.set_index('datetime', inplace=True)\n",
    "data.index.freq = 'H'"
   ]
  },
  {
   "cell_type": "code",
   "execution_count": 78,
   "id": "53e875a6",
   "metadata": {},
   "outputs": [
    {
     "data": {
      "text/html": [
       "<div>\n",
       "<style scoped>\n",
       "    .dataframe tbody tr th:only-of-type {\n",
       "        vertical-align: middle;\n",
       "    }\n",
       "\n",
       "    .dataframe tbody tr th {\n",
       "        vertical-align: top;\n",
       "    }\n",
       "\n",
       "    .dataframe thead th {\n",
       "        text-align: right;\n",
       "    }\n",
       "</style>\n",
       "<table border=\"1\" class=\"dataframe\">\n",
       "  <thead>\n",
       "    <tr style=\"text-align: right;\">\n",
       "      <th></th>\n",
       "      <th>PM2.5</th>\n",
       "      <th>PM10</th>\n",
       "      <th>O3</th>\n",
       "      <th>CO</th>\n",
       "      <th>NO2</th>\n",
       "    </tr>\n",
       "    <tr>\n",
       "      <th>datetime</th>\n",
       "      <th></th>\n",
       "      <th></th>\n",
       "      <th></th>\n",
       "      <th></th>\n",
       "      <th></th>\n",
       "    </tr>\n",
       "  </thead>\n",
       "  <tbody>\n",
       "    <tr>\n",
       "      <th>2021-12-01 00:00:00</th>\n",
       "      <td>32</td>\n",
       "      <td>79</td>\n",
       "      <td>18.0</td>\n",
       "      <td>1.28</td>\n",
       "      <td>32.0</td>\n",
       "    </tr>\n",
       "    <tr>\n",
       "      <th>2021-12-01 01:00:00</th>\n",
       "      <td>27</td>\n",
       "      <td>78</td>\n",
       "      <td>19.0</td>\n",
       "      <td>1.23</td>\n",
       "      <td>29.0</td>\n",
       "    </tr>\n",
       "    <tr>\n",
       "      <th>2021-12-01 02:00:00</th>\n",
       "      <td>25</td>\n",
       "      <td>74</td>\n",
       "      <td>21.0</td>\n",
       "      <td>1.22</td>\n",
       "      <td>25.0</td>\n",
       "    </tr>\n",
       "    <tr>\n",
       "      <th>2021-12-01 03:00:00</th>\n",
       "      <td>33</td>\n",
       "      <td>72</td>\n",
       "      <td>30.0</td>\n",
       "      <td>1.15</td>\n",
       "      <td>18.0</td>\n",
       "    </tr>\n",
       "    <tr>\n",
       "      <th>2021-12-01 04:00:00</th>\n",
       "      <td>40</td>\n",
       "      <td>66</td>\n",
       "      <td>19.0</td>\n",
       "      <td>1.23</td>\n",
       "      <td>26.0</td>\n",
       "    </tr>\n",
       "  </tbody>\n",
       "</table>\n",
       "</div>"
      ],
      "text/plain": [
       "                     PM2.5  PM10    O3    CO   NO2\n",
       "datetime                                          \n",
       "2021-12-01 00:00:00     32    79  18.0  1.28  32.0\n",
       "2021-12-01 01:00:00     27    78  19.0  1.23  29.0\n",
       "2021-12-01 02:00:00     25    74  21.0  1.22  25.0\n",
       "2021-12-01 03:00:00     33    72  30.0  1.15  18.0\n",
       "2021-12-01 04:00:00     40    66  19.0  1.23  26.0"
      ]
     },
     "execution_count": 78,
     "metadata": {},
     "output_type": "execute_result"
    }
   ],
   "source": [
    "data.head()"
   ]
  },
  {
   "cell_type": "code",
   "execution_count": 79,
   "id": "0d71cda7",
   "metadata": {},
   "outputs": [
    {
     "data": {
      "text/plain": [
       "864"
      ]
     },
     "execution_count": 79,
     "metadata": {},
     "output_type": "execute_result"
    }
   ],
   "source": [
    "len(data)"
   ]
  },
  {
   "cell_type": "markdown",
   "id": "7712ad2f",
   "metadata": {},
   "source": [
    "# Deep Learning"
   ]
  },
  {
   "cell_type": "markdown",
   "id": "c402dc66",
   "metadata": {},
   "source": [
    "## Train Test Split\n",
    "The data from the previous 7 days was used to predict the quantity of PM2.5 in the next 2 days."
   ]
  },
  {
   "cell_type": "code",
   "execution_count": 80,
   "id": "a507ca67",
   "metadata": {},
   "outputs": [],
   "source": [
    "# assign the number of input (7 days x 24 hours)\n",
    "n_input = 7*24\n",
    "\n",
    "# assign the number of values to predict (2 days x 24 hours)\n",
    "n_values = 2*24"
   ]
  },
  {
   "cell_type": "code",
   "execution_count": 81,
   "id": "29827265",
   "metadata": {},
   "outputs": [
    {
     "data": {
      "text/plain": [
       "(816, 1)"
      ]
     },
     "execution_count": 81,
     "metadata": {},
     "output_type": "execute_result"
    }
   ],
   "source": [
    "pm25_train = data['PM2.5'][:-n_values].values.reshape(-1,1)\n",
    "pm25_test = data['PM2.5'][-n_values:].values.reshape(-1,1)\n",
    "pm25_train.shape"
   ]
  },
  {
   "cell_type": "markdown",
   "id": "e07c904c",
   "metadata": {},
   "source": [
    "## Data Regularization"
   ]
  },
  {
   "cell_type": "code",
   "execution_count": 82,
   "id": "fc4930bb",
   "metadata": {},
   "outputs": [],
   "source": [
    "scaler = MinMaxScaler()\n",
    "scaled_train = scaler.fit_transform(pm25_train)\n"
   ]
  },
  {
   "cell_type": "code",
   "execution_count": 96,
   "id": "59b8a904",
   "metadata": {},
   "outputs": [],
   "source": [
    "x_train = []\n",
    "y_train = []\n",
    "n_future = 2*24 # next 4 days temperature forecast\n",
    "n_past = 7*24 # Past 30 days \n",
    "for i in range(0,len(scaled_train)-n_past-n_future+1):\n",
    "    x_train.append(scaled_train[i : i + n_past , 0])     \n",
    "    y_train.append(scaled_train[i + n_past : i + n_past + n_future, 0 ])\n",
    "x_train , y_train = np.array(x_train), np.array(y_train)\n",
    "x_train = np.reshape(x_train, (x_train.shape[0] , x_train.shape[1], 1) )"
   ]
  },
  {
   "cell_type": "code",
   "execution_count": 97,
   "id": "cbb83e04",
   "metadata": {},
   "outputs": [
    {
     "data": {
      "text/plain": [
       "(601, 168, 1)"
      ]
     },
     "execution_count": 97,
     "metadata": {},
     "output_type": "execute_result"
    }
   ],
   "source": [
    "x_train.shape"
   ]
  },
  {
   "cell_type": "code",
   "execution_count": 98,
   "id": "990a38b1",
   "metadata": {},
   "outputs": [
    {
     "data": {
      "text/plain": [
       "(601, 48)"
      ]
     },
     "execution_count": 98,
     "metadata": {},
     "output_type": "execute_result"
    }
   ],
   "source": [
    "y_train.shape"
   ]
  },
  {
   "cell_type": "code",
   "execution_count": 99,
   "id": "47a955be",
   "metadata": {},
   "outputs": [
    {
     "data": {
      "text/plain": [
       "array([0.40449438, 0.42696629, 0.46067416, 0.39325843, 0.37078652,\n",
       "       0.35955056, 0.37078652, 0.43820225, 0.47191011, 0.47191011,\n",
       "       0.46067416, 0.42696629, 0.38202247, 0.34831461, 0.29213483,\n",
       "       0.2247191 , 0.26966292, 0.29213483, 0.24719101, 0.24719101,\n",
       "       0.28089888, 0.31460674, 0.3258427 , 0.38202247, 0.41573034,\n",
       "       0.43820225, 0.42696629, 0.40449438, 0.40449438, 0.37078652,\n",
       "       0.33707865, 0.34831461, 0.39325843, 0.43820225, 0.40449438,\n",
       "       0.30337079, 0.24719101, 0.24719101, 0.2247191 , 0.13483146,\n",
       "       0.14606742, 0.17977528, 0.19101124, 0.19101124, 0.17977528,\n",
       "       0.20224719, 0.24719101, 0.28089888])"
      ]
     },
     "execution_count": 99,
     "metadata": {},
     "output_type": "execute_result"
    }
   ],
   "source": [
    "y_train[0]"
   ]
  },
  {
   "cell_type": "markdown",
   "id": "ba2efaa5",
   "metadata": {},
   "source": [
    "## RNN Model\n",
    "\n",
    "1. Unidirectional RNN Model\n",
    "2. Bidirectional RNN Model*\n",
    "\n",
    "Note: The bidirectional model architecture [here](https://medium.com/analytics-vidhya/weather-forecasting-with-recurrent-neural-networks-1eaa057d70c3)"
   ]
  },
  {
   "cell_type": "markdown",
   "id": "a9953db7",
   "metadata": {},
   "source": [
    "### 1. Unidirectional RNN Model"
   ]
  },
  {
   "cell_type": "code",
   "execution_count": 100,
   "id": "279272e1",
   "metadata": {},
   "outputs": [
    {
     "name": "stdout",
     "output_type": "stream",
     "text": [
      "Model: \"sequential_8\"\n",
      "_________________________________________________________________\n",
      " Layer (type)                Output Shape              Param #   \n",
      "=================================================================\n",
      " lstm_32 (LSTM)              (None, 168, 64)           16896     \n",
      "                                                                 \n",
      " dropout_32 (Dropout)        (None, 168, 64)           0         \n",
      "                                                                 \n",
      " lstm_33 (LSTM)              (None, 168, 64)           33024     \n",
      "                                                                 \n",
      " dropout_33 (Dropout)        (None, 168, 64)           0         \n",
      "                                                                 \n",
      " lstm_34 (LSTM)              (None, 168, 64)           33024     \n",
      "                                                                 \n",
      " dropout_34 (Dropout)        (None, 168, 64)           0         \n",
      "                                                                 \n",
      " lstm_35 (LSTM)              (None, 64)                33024     \n",
      "                                                                 \n",
      " dropout_35 (Dropout)        (None, 64)                0         \n",
      "                                                                 \n",
      " dense_8 (Dense)             (None, 48)                3120      \n",
      "                                                                 \n",
      "=================================================================\n",
      "Total params: 119,088\n",
      "Trainable params: 119,088\n",
      "Non-trainable params: 0\n",
      "_________________________________________________________________\n"
     ]
    }
   ],
   "source": [
    "rnn_model = Sequential()\n",
    "rnn_model.add(LSTM(units=64, return_sequences=True, input_shape = (x_train.shape[1],1)))\n",
    "rnn_model.add(Dropout(0.2))\n",
    "rnn_model.add(LSTM(units= 64 , return_sequences=True))\n",
    "rnn_model.add(Dropout(0.2))\n",
    "rnn_model.add(LSTM(units= 64 , return_sequences=True))\n",
    "rnn_model.add(Dropout(0.2))\n",
    "rnn_model.add(LSTM(units= 64))\n",
    "rnn_model.add(Dropout(0.2))\n",
    "rnn_model.add(Dense(units = 48,activation='linear'))\n",
    "rnn_model.compile(optimizer='adam', loss='mse', metrics=['mse'])\n",
    "rnn_model.summary()"
   ]
  },
  {
   "cell_type": "code",
   "execution_count": 101,
   "id": "3134cedb",
   "metadata": {},
   "outputs": [
    {
     "name": "stdout",
     "output_type": "stream",
     "text": [
      "Epoch 1/200\n",
      "19/19 [==============================] - 9s 226ms/step - loss: 0.0871 - mse: 0.0871\n",
      "Epoch 2/200\n",
      "19/19 [==============================] - 4s 232ms/step - loss: 0.0448 - mse: 0.0448\n",
      "Epoch 3/200\n",
      "19/19 [==============================] - 4s 233ms/step - loss: 0.0391 - mse: 0.0391\n",
      "Epoch 4/200\n",
      "19/19 [==============================] - 4s 224ms/step - loss: 0.0356 - mse: 0.0356\n",
      "Epoch 5/200\n",
      "19/19 [==============================] - 5s 249ms/step - loss: 0.0338 - mse: 0.0338\n",
      "Epoch 6/200\n",
      "19/19 [==============================] - 6s 307ms/step - loss: 0.0339 - mse: 0.0339\n",
      "Epoch 7/200\n",
      "19/19 [==============================] - 5s 232ms/step - loss: 0.0306 - mse: 0.0306\n",
      "Epoch 8/200\n",
      "19/19 [==============================] - 4s 226ms/step - loss: 0.0311 - mse: 0.0311\n",
      "Epoch 9/200\n",
      "19/19 [==============================] - 4s 232ms/step - loss: 0.0315 - mse: 0.0315\n",
      "Epoch 10/200\n",
      "19/19 [==============================] - 4s 227ms/step - loss: 0.0303 - mse: 0.0303\n",
      "Epoch 11/200\n",
      "19/19 [==============================] - 4s 232ms/step - loss: 0.0290 - mse: 0.0290\n",
      "Epoch 12/200\n",
      "19/19 [==============================] - 4s 234ms/step - loss: 0.0279 - mse: 0.0279\n",
      "Epoch 13/200\n",
      "19/19 [==============================] - 4s 232ms/step - loss: 0.0294 - mse: 0.0294\n",
      "Epoch 14/200\n",
      "19/19 [==============================] - 4s 225ms/step - loss: 0.0275 - mse: 0.0275\n",
      "Epoch 15/200\n",
      "19/19 [==============================] - 4s 235ms/step - loss: 0.0265 - mse: 0.0265\n",
      "Epoch 16/200\n",
      "19/19 [==============================] - 4s 226ms/step - loss: 0.0258 - mse: 0.0258\n",
      "Epoch 17/200\n",
      "19/19 [==============================] - 4s 234ms/step - loss: 0.0256 - mse: 0.0256\n",
      "Epoch 18/200\n",
      "19/19 [==============================] - 5s 242ms/step - loss: 0.0251 - mse: 0.0251\n",
      "Epoch 19/200\n",
      "19/19 [==============================] - 5s 248ms/step - loss: 0.0238 - mse: 0.0238\n",
      "Epoch 20/200\n",
      "19/19 [==============================] - 5s 240ms/step - loss: 0.0246 - mse: 0.0246\n",
      "Epoch 21/200\n",
      "19/19 [==============================] - 5s 245ms/step - loss: 0.0232 - mse: 0.0232\n",
      "Epoch 22/200\n",
      "19/19 [==============================] - 5s 237ms/step - loss: 0.0204 - mse: 0.0204\n",
      "Epoch 23/200\n",
      "19/19 [==============================] - 5s 238ms/step - loss: 0.0196 - mse: 0.0196\n",
      "Epoch 24/200\n",
      "19/19 [==============================] - 4s 235ms/step - loss: 0.0237 - mse: 0.0237\n",
      "Epoch 25/200\n",
      "19/19 [==============================] - 4s 233ms/step - loss: 0.0216 - mse: 0.0216\n",
      "Epoch 26/200\n",
      "19/19 [==============================] - 5s 249ms/step - loss: 0.0194 - mse: 0.0194\n",
      "Epoch 27/200\n",
      "19/19 [==============================] - 5s 248ms/step - loss: 0.0174 - mse: 0.0174\n",
      "Epoch 28/200\n",
      "19/19 [==============================] - 5s 255ms/step - loss: 0.0165 - mse: 0.0165\n",
      "Epoch 29/200\n",
      "19/19 [==============================] - 5s 247ms/step - loss: 0.0152 - mse: 0.0152\n",
      "Epoch 30/200\n",
      "19/19 [==============================] - 5s 259ms/step - loss: 0.0140 - mse: 0.0140\n",
      "Epoch 31/200\n",
      "19/19 [==============================] - 5s 258ms/step - loss: 0.0136 - mse: 0.0136\n",
      "Epoch 32/200\n",
      "19/19 [==============================] - 5s 268ms/step - loss: 0.0126 - mse: 0.0126\n",
      "Epoch 33/200\n",
      "19/19 [==============================] - 5s 262ms/step - loss: 0.0135 - mse: 0.0135\n",
      "Epoch 34/200\n",
      "19/19 [==============================] - 5s 255ms/step - loss: 0.0129 - mse: 0.0129\n",
      "Epoch 35/200\n",
      "19/19 [==============================] - 5s 245ms/step - loss: 0.0125 - mse: 0.0125\n",
      "Epoch 36/200\n",
      "19/19 [==============================] - 5s 245ms/step - loss: 0.0124 - mse: 0.0124\n",
      "Epoch 37/200\n",
      "19/19 [==============================] - 5s 245ms/step - loss: 0.0119 - mse: 0.0119\n",
      "Epoch 38/200\n",
      "19/19 [==============================] - 5s 248ms/step - loss: 0.0143 - mse: 0.0143\n",
      "Epoch 39/200\n",
      "19/19 [==============================] - 5s 257ms/step - loss: 0.0130 - mse: 0.0130\n",
      "Epoch 40/200\n",
      "19/19 [==============================] - 5s 287ms/step - loss: 0.0123 - mse: 0.0123\n",
      "Epoch 41/200\n",
      "19/19 [==============================] - 5s 268ms/step - loss: 0.0118 - mse: 0.0118\n",
      "Epoch 42/200\n",
      "19/19 [==============================] - 5s 284ms/step - loss: 0.0111 - mse: 0.0111\n",
      "Epoch 43/200\n",
      "19/19 [==============================] - 5s 269ms/step - loss: 0.0114 - mse: 0.0114\n",
      "Epoch 44/200\n",
      "19/19 [==============================] - 5s 252ms/step - loss: 0.0111 - mse: 0.0111\n",
      "Epoch 45/200\n",
      "19/19 [==============================] - 5s 277ms/step - loss: 0.0110 - mse: 0.0110\n",
      "Epoch 46/200\n",
      "19/19 [==============================] - 5s 241ms/step - loss: 0.0106 - mse: 0.0106\n",
      "Epoch 47/200\n",
      "19/19 [==============================] - 5s 240ms/step - loss: 0.0103 - mse: 0.0103\n",
      "Epoch 48/200\n",
      "19/19 [==============================] - 5s 242ms/step - loss: 0.0103 - mse: 0.0103\n",
      "Epoch 49/200\n",
      "19/19 [==============================] - 5s 241ms/step - loss: 0.0102 - mse: 0.0102\n",
      "Epoch 50/200\n",
      "19/19 [==============================] - 5s 239ms/step - loss: 0.0102 - mse: 0.0102\n",
      "Epoch 51/200\n",
      "19/19 [==============================] - 5s 243ms/step - loss: 0.0100 - mse: 0.0100\n",
      "Epoch 52/200\n",
      "19/19 [==============================] - 5s 242ms/step - loss: 0.0099 - mse: 0.0099\n",
      "Epoch 53/200\n",
      "19/19 [==============================] - 5s 256ms/step - loss: 0.0098 - mse: 0.0098\n",
      "Epoch 54/200\n",
      "19/19 [==============================] - 5s 246ms/step - loss: 0.0097 - mse: 0.0097\n",
      "Epoch 55/200\n",
      "19/19 [==============================] - 5s 244ms/step - loss: 0.0097 - mse: 0.0097\n",
      "Epoch 56/200\n",
      "19/19 [==============================] - 5s 251ms/step - loss: 0.0096 - mse: 0.0096\n",
      "Epoch 57/200\n",
      "19/19 [==============================] - 5s 271ms/step - loss: 0.0091 - mse: 0.0091\n",
      "Epoch 58/200\n",
      "19/19 [==============================] - 5s 248ms/step - loss: 0.0091 - mse: 0.0091\n",
      "Epoch 59/200\n",
      "19/19 [==============================] - 5s 248ms/step - loss: 0.0089 - mse: 0.0089\n",
      "Epoch 60/200\n",
      "19/19 [==============================] - 5s 245ms/step - loss: 0.0091 - mse: 0.0091\n",
      "Epoch 61/200\n",
      "19/19 [==============================] - 5s 248ms/step - loss: 0.0089 - mse: 0.0089\n",
      "Epoch 62/200\n",
      "19/19 [==============================] - 5s 284ms/step - loss: 0.0097 - mse: 0.0097\n",
      "Epoch 63/200\n",
      "19/19 [==============================] - 5s 256ms/step - loss: 0.0085 - mse: 0.0085\n",
      "Epoch 64/200\n",
      "19/19 [==============================] - 5s 238ms/step - loss: 0.0084 - mse: 0.0084\n",
      "Epoch 65/200\n",
      "19/19 [==============================] - 4s 236ms/step - loss: 0.0082 - mse: 0.0082\n",
      "Epoch 66/200\n",
      "19/19 [==============================] - 5s 239ms/step - loss: 0.0081 - mse: 0.0081\n",
      "Epoch 67/200\n",
      "19/19 [==============================] - 5s 237ms/step - loss: 0.0079 - mse: 0.0079\n",
      "Epoch 68/200\n",
      "19/19 [==============================] - 5s 239ms/step - loss: 0.0081 - mse: 0.0081\n",
      "Epoch 69/200\n",
      "19/19 [==============================] - 5s 241ms/step - loss: 0.0078 - mse: 0.0078\n",
      "Epoch 70/200\n",
      "19/19 [==============================] - 5s 237ms/step - loss: 0.0080 - mse: 0.0080\n",
      "Epoch 71/200\n",
      "19/19 [==============================] - 5s 239ms/step - loss: 0.0081 - mse: 0.0081\n",
      "Epoch 72/200\n",
      "19/19 [==============================] - 5s 237ms/step - loss: 0.0075 - mse: 0.0075\n",
      "Epoch 73/200\n",
      "19/19 [==============================] - 5s 236ms/step - loss: 0.0077 - mse: 0.0077\n",
      "Epoch 74/200\n",
      "19/19 [==============================] - 4s 236ms/step - loss: 0.0075 - mse: 0.0075\n",
      "Epoch 75/200\n",
      "19/19 [==============================] - 5s 237ms/step - loss: 0.0074 - mse: 0.0074\n",
      "Epoch 76/200\n",
      "19/19 [==============================] - 5s 240ms/step - loss: 0.0074 - mse: 0.0074\n",
      "Epoch 77/200\n",
      "19/19 [==============================] - 5s 237ms/step - loss: 0.0072 - mse: 0.0072\n",
      "Epoch 78/200\n",
      "19/19 [==============================] - 4s 236ms/step - loss: 0.0072 - mse: 0.0072\n",
      "Epoch 79/200\n",
      "19/19 [==============================] - 5s 239ms/step - loss: 0.0073 - mse: 0.0073\n",
      "Epoch 80/200\n",
      "19/19 [==============================] - 5s 245ms/step - loss: 0.0071 - mse: 0.0071\n",
      "Epoch 81/200\n",
      "19/19 [==============================] - 5s 253ms/step - loss: 0.0070 - mse: 0.0070\n",
      "Epoch 82/200\n",
      "19/19 [==============================] - 5s 246ms/step - loss: 0.0070 - mse: 0.0070\n",
      "Epoch 83/200\n",
      "19/19 [==============================] - 4s 228ms/step - loss: 0.0068 - mse: 0.0068\n",
      "Epoch 84/200\n",
      "19/19 [==============================] - 4s 228ms/step - loss: 0.0067 - mse: 0.0067\n",
      "Epoch 85/200\n"
     ]
    },
    {
     "name": "stdout",
     "output_type": "stream",
     "text": [
      "19/19 [==============================] - 5s 241ms/step - loss: 0.0068 - mse: 0.0068\n",
      "Epoch 86/200\n",
      "19/19 [==============================] - 4s 232ms/step - loss: 0.0064 - mse: 0.0064\n",
      "Epoch 87/200\n",
      "19/19 [==============================] - 4s 227ms/step - loss: 0.0064 - mse: 0.0064\n",
      "Epoch 88/200\n",
      "19/19 [==============================] - 4s 233ms/step - loss: 0.0065 - mse: 0.0065\n",
      "Epoch 89/200\n",
      "19/19 [==============================] - 4s 229ms/step - loss: 0.0066 - mse: 0.0066\n",
      "Epoch 90/200\n",
      "19/19 [==============================] - 4s 224ms/step - loss: 0.0064 - mse: 0.0064\n",
      "Epoch 91/200\n",
      "19/19 [==============================] - 5s 251ms/step - loss: 0.0061 - mse: 0.0061\n",
      "Epoch 92/200\n",
      "19/19 [==============================] - 4s 235ms/step - loss: 0.0063 - mse: 0.0063\n",
      "Epoch 93/200\n",
      "19/19 [==============================] - 5s 250ms/step - loss: 0.0064 - mse: 0.0064\n",
      "Epoch 94/200\n",
      "19/19 [==============================] - 5s 240ms/step - loss: 0.0062 - mse: 0.0062\n",
      "Epoch 95/200\n",
      "19/19 [==============================] - 5s 254ms/step - loss: 0.0062 - mse: 0.0062\n",
      "Epoch 96/200\n",
      "19/19 [==============================] - 4s 235ms/step - loss: 0.0061 - mse: 0.0061\n",
      "Epoch 97/200\n",
      "19/19 [==============================] - 4s 223ms/step - loss: 0.0059 - mse: 0.0059\n",
      "Epoch 98/200\n",
      "19/19 [==============================] - 4s 224ms/step - loss: 0.0060 - mse: 0.0060\n",
      "Epoch 99/200\n",
      "19/19 [==============================] - 4s 234ms/step - loss: 0.0062 - mse: 0.0062\n",
      "Epoch 100/200\n",
      "19/19 [==============================] - 5s 238ms/step - loss: 0.0060 - mse: 0.0060\n",
      "Epoch 101/200\n",
      "19/19 [==============================] - 5s 262ms/step - loss: 0.0063 - mse: 0.0063\n",
      "Epoch 102/200\n",
      "19/19 [==============================] - 5s 238ms/step - loss: 0.0060 - mse: 0.0060\n",
      "Epoch 103/200\n",
      "19/19 [==============================] - 4s 222ms/step - loss: 0.0060 - mse: 0.0060\n",
      "Epoch 104/200\n",
      "19/19 [==============================] - 4s 235ms/step - loss: 0.0058 - mse: 0.0058\n",
      "Epoch 105/200\n",
      "19/19 [==============================] - 4s 236ms/step - loss: 0.0058 - mse: 0.0058\n",
      "Epoch 106/200\n",
      "19/19 [==============================] - 4s 232ms/step - loss: 0.0058 - mse: 0.0058\n",
      "Epoch 107/200\n",
      "19/19 [==============================] - 4s 232ms/step - loss: 0.0060 - mse: 0.0060\n",
      "Epoch 108/200\n",
      "19/19 [==============================] - 5s 249ms/step - loss: 0.0058 - mse: 0.0058\n",
      "Epoch 109/200\n",
      "19/19 [==============================] - 4s 232ms/step - loss: 0.0056 - mse: 0.0056\n",
      "Epoch 110/200\n",
      "19/19 [==============================] - 5s 255ms/step - loss: 0.0055 - mse: 0.0055\n",
      "Epoch 111/200\n",
      "19/19 [==============================] - 4s 230ms/step - loss: 0.0057 - mse: 0.0057\n",
      "Epoch 112/200\n",
      "19/19 [==============================] - 4s 230ms/step - loss: 0.0056 - mse: 0.0056\n",
      "Epoch 113/200\n",
      "19/19 [==============================] - 5s 244ms/step - loss: 0.0057 - mse: 0.0057\n",
      "Epoch 114/200\n",
      "19/19 [==============================] - 5s 263ms/step - loss: 0.0058 - mse: 0.0058\n",
      "Epoch 115/200\n",
      "19/19 [==============================] - 4s 228ms/step - loss: 0.0057 - mse: 0.0057\n",
      "Epoch 116/200\n",
      "19/19 [==============================] - 5s 240ms/step - loss: 0.0057 - mse: 0.0057\n",
      "Epoch 117/200\n",
      "19/19 [==============================] - 5s 243ms/step - loss: 0.0054 - mse: 0.0054\n",
      "Epoch 118/200\n",
      "19/19 [==============================] - 5s 248ms/step - loss: 0.0053 - mse: 0.0053\n",
      "Epoch 119/200\n",
      "19/19 [==============================] - 4s 232ms/step - loss: 0.0053 - mse: 0.0053\n",
      "Epoch 120/200\n",
      "19/19 [==============================] - 4s 232ms/step - loss: 0.0053 - mse: 0.0053\n",
      "Epoch 121/200\n",
      "19/19 [==============================] - 5s 238ms/step - loss: 0.0053 - mse: 0.0053\n",
      "Epoch 122/200\n",
      "19/19 [==============================] - 5s 245ms/step - loss: 0.0054 - mse: 0.0054\n",
      "Epoch 123/200\n",
      "19/19 [==============================] - 4s 227ms/step - loss: 0.0053 - mse: 0.0053\n",
      "Epoch 124/200\n",
      "19/19 [==============================] - 5s 254ms/step - loss: 0.0053 - mse: 0.0053\n",
      "Epoch 125/200\n",
      "19/19 [==============================] - 4s 229ms/step - loss: 0.0053 - mse: 0.0053\n",
      "Epoch 126/200\n",
      "19/19 [==============================] - 4s 237ms/step - loss: 0.0053 - mse: 0.0053\n",
      "Epoch 127/200\n",
      "19/19 [==============================] - 5s 243ms/step - loss: 0.0051 - mse: 0.0051\n",
      "Epoch 128/200\n",
      "19/19 [==============================] - 4s 233ms/step - loss: 0.0052 - mse: 0.0052\n",
      "Epoch 129/200\n",
      "19/19 [==============================] - 5s 241ms/step - loss: 0.0051 - mse: 0.0051\n",
      "Epoch 130/200\n",
      "19/19 [==============================] - 4s 237ms/step - loss: 0.0051 - mse: 0.0051\n",
      "Epoch 131/200\n",
      "19/19 [==============================] - 5s 240ms/step - loss: 0.0051 - mse: 0.0051\n",
      "Epoch 132/200\n",
      "19/19 [==============================] - 4s 232ms/step - loss: 0.0050 - mse: 0.0050\n",
      "Epoch 133/200\n",
      "19/19 [==============================] - 4s 235ms/step - loss: 0.0051 - mse: 0.0051\n",
      "Epoch 134/200\n",
      "19/19 [==============================] - 4s 231ms/step - loss: 0.0051 - mse: 0.0051\n",
      "Epoch 135/200\n",
      "19/19 [==============================] - 5s 258ms/step - loss: 0.0048 - mse: 0.0048\n",
      "Epoch 136/200\n",
      "19/19 [==============================] - 5s 262ms/step - loss: 0.0049 - mse: 0.0049\n",
      "Epoch 137/200\n",
      "19/19 [==============================] - 5s 242ms/step - loss: 0.0051 - mse: 0.0051\n",
      "Epoch 138/200\n",
      "19/19 [==============================] - 5s 238ms/step - loss: 0.0050 - mse: 0.0050\n",
      "Epoch 139/200\n",
      "19/19 [==============================] - 5s 238ms/step - loss: 0.0050 - mse: 0.0050\n",
      "Epoch 140/200\n",
      "19/19 [==============================] - 5s 238ms/step - loss: 0.0049 - mse: 0.0049\n",
      "Epoch 141/200\n",
      "19/19 [==============================] - 5s 238ms/step - loss: 0.0048 - mse: 0.0048\n",
      "Epoch 142/200\n",
      "19/19 [==============================] - 5s 238ms/step - loss: 0.0049 - mse: 0.0049\n",
      "Epoch 143/200\n",
      "19/19 [==============================] - 5s 239ms/step - loss: 0.0049 - mse: 0.0049\n",
      "Epoch 144/200\n",
      "19/19 [==============================] - 5s 239ms/step - loss: 0.0049 - mse: 0.0049\n",
      "Epoch 145/200\n",
      "19/19 [==============================] - 5s 239ms/step - loss: 0.0048 - mse: 0.0048\n",
      "Epoch 146/200\n",
      "19/19 [==============================] - 5s 239ms/step - loss: 0.0048 - mse: 0.0048\n",
      "Epoch 147/200\n",
      "19/19 [==============================] - 5s 239ms/step - loss: 0.0050 - mse: 0.0050\n",
      "Epoch 148/200\n",
      "19/19 [==============================] - 5s 238ms/step - loss: 0.0051 - mse: 0.0051\n",
      "Epoch 149/200\n",
      "19/19 [==============================] - 5s 244ms/step - loss: 0.0049 - mse: 0.0049\n",
      "Epoch 150/200\n",
      "19/19 [==============================] - 5s 239ms/step - loss: 0.0048 - mse: 0.0048\n",
      "Epoch 151/200\n",
      "19/19 [==============================] - 5s 238ms/step - loss: 0.0049 - mse: 0.0049\n",
      "Epoch 152/200\n",
      "19/19 [==============================] - 5s 239ms/step - loss: 0.0049 - mse: 0.0049\n",
      "Epoch 153/200\n",
      "19/19 [==============================] - 5s 237ms/step - loss: 0.0054 - mse: 0.0054\n",
      "Epoch 154/200\n",
      "19/19 [==============================] - 5s 248ms/step - loss: 0.0051 - mse: 0.0051\n",
      "Epoch 155/200\n",
      "19/19 [==============================] - 4s 229ms/step - loss: 0.0047 - mse: 0.0047\n",
      "Epoch 156/200\n",
      "19/19 [==============================] - 4s 230ms/step - loss: 0.0048 - mse: 0.0048\n",
      "Epoch 157/200\n",
      "19/19 [==============================] - 5s 276ms/step - loss: 0.0047 - mse: 0.0047\n",
      "Epoch 158/200\n",
      "19/19 [==============================] - 5s 264ms/step - loss: 0.0046 - mse: 0.0046\n",
      "Epoch 159/200\n",
      "19/19 [==============================] - 5s 238ms/step - loss: 0.0046 - mse: 0.0046\n",
      "Epoch 160/200\n",
      "19/19 [==============================] - 4s 229ms/step - loss: 0.0045 - mse: 0.0045\n",
      "Epoch 161/200\n",
      "19/19 [==============================] - 4s 230ms/step - loss: 0.0045 - mse: 0.0045\n",
      "Epoch 162/200\n",
      "19/19 [==============================] - 5s 276ms/step - loss: 0.0046 - mse: 0.0046\n",
      "Epoch 163/200\n",
      "19/19 [==============================] - 5s 276ms/step - loss: 0.0044 - mse: 0.0044\n",
      "Epoch 164/200\n",
      "19/19 [==============================] - 4s 230ms/step - loss: 0.0046 - mse: 0.0046\n",
      "Epoch 165/200\n",
      "19/19 [==============================] - 5s 234ms/step - loss: 0.0045 - mse: 0.0045\n",
      "Epoch 166/200\n",
      "19/19 [==============================] - 4s 227ms/step - loss: 0.0045 - mse: 0.0045\n",
      "Epoch 167/200\n",
      "19/19 [==============================] - 4s 233ms/step - loss: 0.0044 - mse: 0.0044\n",
      "Epoch 168/200\n"
     ]
    },
    {
     "name": "stdout",
     "output_type": "stream",
     "text": [
      "19/19 [==============================] - 4s 227ms/step - loss: 0.0044 - mse: 0.0044\n",
      "Epoch 169/200\n",
      "19/19 [==============================] - 4s 230ms/step - loss: 0.0046 - mse: 0.0046\n",
      "Epoch 170/200\n",
      "19/19 [==============================] - 4s 230ms/step - loss: 0.0045 - mse: 0.0045\n",
      "Epoch 171/200\n",
      "19/19 [==============================] - 4s 230ms/step - loss: 0.0044 - mse: 0.0044\n",
      "Epoch 172/200\n",
      "19/19 [==============================] - 5s 240ms/step - loss: 0.0046 - mse: 0.0046\n",
      "Epoch 173/200\n",
      "19/19 [==============================] - 5s 271ms/step - loss: 0.0045 - mse: 0.0045\n",
      "Epoch 174/200\n",
      "19/19 [==============================] - 5s 259ms/step - loss: 0.0044 - mse: 0.0044\n",
      "Epoch 175/200\n",
      "19/19 [==============================] - 4s 234ms/step - loss: 0.0044 - mse: 0.0044\n",
      "Epoch 176/200\n",
      "19/19 [==============================] - 4s 230ms/step - loss: 0.0045 - mse: 0.0045\n",
      "Epoch 177/200\n",
      "19/19 [==============================] - 5s 243ms/step - loss: 0.0044 - mse: 0.0044\n",
      "Epoch 178/200\n",
      "19/19 [==============================] - 5s 259ms/step - loss: 0.0043 - mse: 0.0043\n",
      "Epoch 179/200\n",
      "19/19 [==============================] - 5s 270ms/step - loss: 0.0044 - mse: 0.0044\n",
      "Epoch 180/200\n",
      "19/19 [==============================] - 5s 259ms/step - loss: 0.0043 - mse: 0.0043\n",
      "Epoch 181/200\n",
      "19/19 [==============================] - 5s 262ms/step - loss: 0.0043 - mse: 0.0043\n",
      "Epoch 182/200\n",
      "19/19 [==============================] - 5s 252ms/step - loss: 0.0044 - mse: 0.0044\n",
      "Epoch 183/200\n",
      "19/19 [==============================] - 5s 260ms/step - loss: 0.0043 - mse: 0.0043\n",
      "Epoch 184/200\n",
      "19/19 [==============================] - 5s 245ms/step - loss: 0.0044 - mse: 0.0044\n",
      "Epoch 185/200\n",
      "19/19 [==============================] - 5s 242ms/step - loss: 0.0042 - mse: 0.0042\n",
      "Epoch 186/200\n",
      "19/19 [==============================] - 5s 247ms/step - loss: 0.0043 - mse: 0.0043\n",
      "Epoch 187/200\n",
      "19/19 [==============================] - 5s 246ms/step - loss: 0.0044 - mse: 0.0044\n",
      "Epoch 188/200\n",
      "19/19 [==============================] - 5s 243ms/step - loss: 0.0043 - mse: 0.0043\n",
      "Epoch 189/200\n",
      "19/19 [==============================] - 5s 249ms/step - loss: 0.0043 - mse: 0.0043\n",
      "Epoch 190/200\n",
      "19/19 [==============================] - 5s 242ms/step - loss: 0.0044 - mse: 0.0044\n",
      "Epoch 191/200\n",
      "19/19 [==============================] - 5s 241ms/step - loss: 0.0043 - mse: 0.0043\n",
      "Epoch 192/200\n",
      "19/19 [==============================] - 5s 247ms/step - loss: 0.0041 - mse: 0.0041\n",
      "Epoch 193/200\n",
      "19/19 [==============================] - 5s 244ms/step - loss: 0.0042 - mse: 0.0042\n",
      "Epoch 194/200\n",
      "19/19 [==============================] - 5s 241ms/step - loss: 0.0041 - mse: 0.0041\n",
      "Epoch 195/200\n",
      "19/19 [==============================] - 5s 240ms/step - loss: 0.0041 - mse: 0.0041\n",
      "Epoch 196/200\n",
      "19/19 [==============================] - 5s 251ms/step - loss: 0.0042 - mse: 0.0042\n",
      "Epoch 197/200\n",
      "19/19 [==============================] - 4s 233ms/step - loss: 0.0042 - mse: 0.0042\n",
      "Epoch 198/200\n",
      "19/19 [==============================] - 4s 231ms/step - loss: 0.0042 - mse: 0.0042\n",
      "Epoch 199/200\n",
      "19/19 [==============================] - 4s 229ms/step - loss: 0.0042 - mse: 0.0042\n",
      "Epoch 200/200\n",
      "19/19 [==============================] - 4s 228ms/step - loss: 0.0040 - mse: 0.0040\n"
     ]
    }
   ],
   "source": [
    "history = rnn_model.fit(x_train, y_train, epochs=200, batch_size=32)"
   ]
  },
  {
   "cell_type": "code",
   "execution_count": 102,
   "id": "b0f96ea2",
   "metadata": {},
   "outputs": [
    {
     "data": {
      "image/png": "[encoded data removed]",
      "text/plain": [
       "<Figure size 432x288 with 1 Axes>"
      ]
     },
     "metadata": {
      "needs_background": "light"
     },
     "output_type": "display_data"
    }
   ],
   "source": [
    "plt.plot(history.history['loss'])\n",
    "plt.title('Loss - Unidirectional RNN Model')\n",
    "plt.xlabel('epochs')\n",
    "plt.ylabel('mean squared error')\n",
    "plt.show()"
   ]
  },
  {
   "cell_type": "code",
   "execution_count": 103,
   "id": "7872e407",
   "metadata": {},
   "outputs": [
    {
     "data": {
      "text/plain": [
       "(1, 168, 1)"
      ]
     },
     "execution_count": 103,
     "metadata": {},
     "output_type": "execute_result"
    }
   ],
   "source": [
    "x_test = np.array(scaled_train[-n_input:])\n",
    "x_test = np.reshape(x_test, (x_test.shape[1], x_test.shape[0],1))\n",
    "x_test.shape"
   ]
  },
  {
   "cell_type": "code",
   "execution_count": 104,
   "id": "48c3f810",
   "metadata": {},
   "outputs": [
    {
     "name": "stdout",
     "output_type": "stream",
     "text": [
      "WARNING:tensorflow:5 out of the last 10 calls to <function Model.make_predict_function.<locals>.predict_function at 0x7f0b14fc7d30> triggered tf.function retracing. Tracing is expensive and the excessive number of tracings could be due to (1) creating @tf.function repeatedly in a loop, (2) passing tensors with different shapes, (3) passing Python objects instead of tensors. For (1), please define your @tf.function outside of the loop. For (2), @tf.function has experimental_relax_shapes=True option that relaxes argument shapes that can avoid unnecessary retracing. For (3), please refer to https://www.tensorflow.org/guide/function#controlling_retracing and https://www.tensorflow.org/api_docs/python/tf/function for  more details.\n"
     ]
    },
    {
     "data": {
      "text/plain": [
       "(1, 48)"
      ]
     },
     "execution_count": 104,
     "metadata": {},
     "output_type": "execute_result"
    }
   ],
   "source": [
    "predictions = rnn_model.predict(x_test)\n",
    "predictions = scaler.inverse_transform(predictions)\n",
    "\n",
    "predictions.shape"
   ]
  },
  {
   "cell_type": "code",
   "execution_count": 105,
   "id": "aaa26fb3",
   "metadata": {},
   "outputs": [],
   "source": [
    "predictions = np.reshape(predictions, (predictions.shape[1],predictions.shape[0]))"
   ]
  },
  {
   "cell_type": "code",
   "execution_count": 106,
   "id": "1f6f21a5",
   "metadata": {},
   "outputs": [
    {
     "data": {
      "text/plain": [
       "array([[25.980804],\n",
       "       [24.687666],\n",
       "       [23.890976],\n",
       "       [23.381819],\n",
       "       [23.278942],\n",
       "       [24.026598],\n",
       "       [24.754356],\n",
       "       [25.77342 ],\n",
       "       [27.478508],\n",
       "       [28.98373 ],\n",
       "       [30.48808 ],\n",
       "       [32.24235 ],\n",
       "       [33.032448],\n",
       "       [33.955544],\n",
       "       [34.853832],\n",
       "       [34.76128 ],\n",
       "       [34.60967 ],\n",
       "       [34.37816 ],\n",
       "       [33.509327],\n",
       "       [32.502213],\n",
       "       [31.293537],\n",
       "       [30.054964],\n",
       "       [28.554092],\n",
       "       [26.75098 ],\n",
       "       [25.22999 ],\n",
       "       [23.454065],\n",
       "       [22.357027],\n",
       "       [21.771025],\n",
       "       [21.603813],\n",
       "       [22.422653],\n",
       "       [23.947533],\n",
       "       [25.824705],\n",
       "       [28.081133],\n",
       "       [30.442526],\n",
       "       [32.803925],\n",
       "       [34.53619 ],\n",
       "       [35.75027 ],\n",
       "       [36.23267 ],\n",
       "       [36.140533],\n",
       "       [35.313595],\n",
       "       [33.792297],\n",
       "       [32.27062 ],\n",
       "       [31.014328],\n",
       "       [29.354662],\n",
       "       [28.067822],\n",
       "       [27.202818],\n",
       "       [26.450481],\n",
       "       [26.377169]], dtype=float32)"
      ]
     },
     "execution_count": 106,
     "metadata": {},
     "output_type": "execute_result"
    }
   ],
   "source": [
    "predictions"
   ]
  },
  {
   "cell_type": "code",
   "execution_count": 107,
   "id": "e0f95d7b",
   "metadata": {},
   "outputs": [
    {
     "data": {
      "text/html": [
       "<div>\n",
       "<style scoped>\n",
       "    .dataframe tbody tr th:only-of-type {\n",
       "        vertical-align: middle;\n",
       "    }\n",
       "\n",
       "    .dataframe tbody tr th {\n",
       "        vertical-align: top;\n",
       "    }\n",
       "\n",
       "    .dataframe thead th {\n",
       "        text-align: right;\n",
       "    }\n",
       "</style>\n",
       "<table border=\"1\" class=\"dataframe\">\n",
       "  <thead>\n",
       "    <tr style=\"text-align: right;\">\n",
       "      <th></th>\n",
       "      <th>PM2.5</th>\n",
       "    </tr>\n",
       "    <tr>\n",
       "      <th>datetime</th>\n",
       "      <th></th>\n",
       "    </tr>\n",
       "  </thead>\n",
       "  <tbody>\n",
       "    <tr>\n",
       "      <th>2022-01-04 00:00:00</th>\n",
       "      <td>29</td>\n",
       "    </tr>\n",
       "    <tr>\n",
       "      <th>2022-01-04 01:00:00</th>\n",
       "      <td>35</td>\n",
       "    </tr>\n",
       "    <tr>\n",
       "      <th>2022-01-04 02:00:00</th>\n",
       "      <td>37</td>\n",
       "    </tr>\n",
       "    <tr>\n",
       "      <th>2022-01-04 03:00:00</th>\n",
       "      <td>47</td>\n",
       "    </tr>\n",
       "    <tr>\n",
       "      <th>2022-01-04 04:00:00</th>\n",
       "      <td>50</td>\n",
       "    </tr>\n",
       "  </tbody>\n",
       "</table>\n",
       "</div>"
      ],
      "text/plain": [
       "                     PM2.5\n",
       "datetime                  \n",
       "2022-01-04 00:00:00     29\n",
       "2022-01-04 01:00:00     35\n",
       "2022-01-04 02:00:00     37\n",
       "2022-01-04 03:00:00     47\n",
       "2022-01-04 04:00:00     50"
      ]
     },
     "execution_count": 107,
     "metadata": {},
     "output_type": "execute_result"
    }
   ],
   "source": [
    "test_df = pd.DataFrame(data['PM2.5'][-n_values:])\n",
    "test_df.head()"
   ]
  },
  {
   "cell_type": "code",
   "execution_count": 108,
   "id": "7acccd7c",
   "metadata": {},
   "outputs": [
    {
     "data": {
      "text/html": [
       "<div>\n",
       "<style scoped>\n",
       "    .dataframe tbody tr th:only-of-type {\n",
       "        vertical-align: middle;\n",
       "    }\n",
       "\n",
       "    .dataframe tbody tr th {\n",
       "        vertical-align: top;\n",
       "    }\n",
       "\n",
       "    .dataframe thead th {\n",
       "        text-align: right;\n",
       "    }\n",
       "</style>\n",
       "<table border=\"1\" class=\"dataframe\">\n",
       "  <thead>\n",
       "    <tr style=\"text-align: right;\">\n",
       "      <th></th>\n",
       "      <th>PM2.5</th>\n",
       "      <th>predicted_PM2.5</th>\n",
       "    </tr>\n",
       "    <tr>\n",
       "      <th>datetime</th>\n",
       "      <th></th>\n",
       "      <th></th>\n",
       "    </tr>\n",
       "  </thead>\n",
       "  <tbody>\n",
       "    <tr>\n",
       "      <th>2022-01-04 00:00:00</th>\n",
       "      <td>29</td>\n",
       "      <td>25.980804</td>\n",
       "    </tr>\n",
       "    <tr>\n",
       "      <th>2022-01-04 01:00:00</th>\n",
       "      <td>35</td>\n",
       "      <td>24.687666</td>\n",
       "    </tr>\n",
       "    <tr>\n",
       "      <th>2022-01-04 02:00:00</th>\n",
       "      <td>37</td>\n",
       "      <td>23.890976</td>\n",
       "    </tr>\n",
       "    <tr>\n",
       "      <th>2022-01-04 03:00:00</th>\n",
       "      <td>47</td>\n",
       "      <td>23.381819</td>\n",
       "    </tr>\n",
       "    <tr>\n",
       "      <th>2022-01-04 04:00:00</th>\n",
       "      <td>50</td>\n",
       "      <td>23.278942</td>\n",
       "    </tr>\n",
       "  </tbody>\n",
       "</table>\n",
       "</div>"
      ],
      "text/plain": [
       "                     PM2.5  predicted_PM2.5\n",
       "datetime                                   \n",
       "2022-01-04 00:00:00     29        25.980804\n",
       "2022-01-04 01:00:00     35        24.687666\n",
       "2022-01-04 02:00:00     37        23.890976\n",
       "2022-01-04 03:00:00     47        23.381819\n",
       "2022-01-04 04:00:00     50        23.278942"
      ]
     },
     "execution_count": 108,
     "metadata": {},
     "output_type": "execute_result"
    }
   ],
   "source": [
    "test_df['predicted_PM2.5'] = predictions\n",
    "test_df.head()\n"
   ]
  },
  {
   "cell_type": "code",
   "execution_count": 109,
   "id": "ef456c0e",
   "metadata": {},
   "outputs": [
    {
     "data": {
      "image/png": "[encoded data removed]",
      "text/plain": [
       "<Figure size 576x432 with 1 Axes>"
      ]
     },
     "metadata": {
      "needs_background": "light"
     },
     "output_type": "display_data"
    }
   ],
   "source": [
    "test_df.plot(figsize=(8,6), color = ['blue', 'red']);\n",
    "plt.title(\"PM2.5 Prediction\")\n",
    "plt.ylabel('ug/m^3')\n",
    "plt.show()"
   ]
  },
  {
   "cell_type": "code",
   "execution_count": 113,
   "id": "42be095d",
   "metadata": {},
   "outputs": [
    {
     "name": "stdout",
     "output_type": "stream",
     "text": [
      "RMSE from Unidirectional RNN Model: 20.753395600044115\n"
     ]
    }
   ],
   "source": [
    "rmse_rnn = rmse(test_df['PM2.5'], test_df['predicted_PM2.5'])\n",
    "print(\"RMSE from Unidirectional RNN Model: {}\".format(str(rmse_rnn)))"
   ]
  },
  {
   "cell_type": "markdown",
   "id": "cdf232f1",
   "metadata": {},
   "source": [
    "### 2. Bidirectional LSTM Model"
   ]
  },
  {
   "cell_type": "code",
   "execution_count": 114,
   "id": "0133cf18",
   "metadata": {},
   "outputs": [
    {
     "name": "stdout",
     "output_type": "stream",
     "text": [
      "Model: \"sequential_9\"\n",
      "_________________________________________________________________\n",
      " Layer (type)                Output Shape              Param #   \n",
      "=================================================================\n",
      " bidirectional_3 (Bidirectio  (None, 168, 128)         33792     \n",
      " nal)                                                            \n",
      "                                                                 \n",
      " dropout_36 (Dropout)        (None, 168, 128)          0         \n",
      "                                                                 \n",
      " lstm_37 (LSTM)              (None, 168, 64)           49408     \n",
      "                                                                 \n",
      " dropout_37 (Dropout)        (None, 168, 64)           0         \n",
      "                                                                 \n",
      " lstm_38 (LSTM)              (None, 168, 64)           33024     \n",
      "                                                                 \n",
      " dropout_38 (Dropout)        (None, 168, 64)           0         \n",
      "                                                                 \n",
      " lstm_39 (LSTM)              (None, 64)                33024     \n",
      "                                                                 \n",
      " dropout_39 (Dropout)        (None, 64)                0         \n",
      "                                                                 \n",
      " dense_9 (Dense)             (None, 48)                3120      \n",
      "                                                                 \n",
      "=================================================================\n",
      "Total params: 152,368\n",
      "Trainable params: 152,368\n",
      "Non-trainable params: 0\n",
      "_________________________________________________________________\n"
     ]
    }
   ],
   "source": [
    "bi_rnn_model = Sequential()\n",
    "bi_rnn_model.add(Bidirectional(LSTM(units=64, return_sequences=True), input_shape = (x_train.shape[1],1)))\n",
    "bi_rnn_model.add(Dropout(0.2))\n",
    "bi_rnn_model.add(LSTM(units= 64 , return_sequences=True))\n",
    "bi_rnn_model.add(Dropout(0.2))\n",
    "bi_rnn_model.add(LSTM(units= 64 , return_sequences=True))\n",
    "bi_rnn_model.add(Dropout(0.2))\n",
    "bi_rnn_model.add(LSTM(units= 64))\n",
    "bi_rnn_model.add(Dropout(0.2))\n",
    "bi_rnn_model.add(Dense(units = 48,activation='linear'))\n",
    "bi_rnn_model.compile(optimizer='adam', loss='mse', metrics=['mse'])\n",
    "\n",
    "bi_rnn_model.summary()"
   ]
  },
  {
   "cell_type": "code",
   "execution_count": null,
   "id": "5e9c6c6c",
   "metadata": {},
   "outputs": [
    {
     "name": "stdout",
     "output_type": "stream",
     "text": [
      "Epoch 1/200\n",
      "19/19 [==============================] - 5s 243ms/step - loss: 0.0763 - mse: 0.0763\n",
      "Epoch 2/200\n",
      "19/19 [==============================] - 5s 252ms/step - loss: 0.0426 - mse: 0.0426\n",
      "Epoch 3/200\n",
      "19/19 [==============================] - 5s 243ms/step - loss: 0.0368 - mse: 0.0368\n",
      "Epoch 4/200\n",
      "19/19 [==============================] - 5s 244ms/step - loss: 0.0335 - mse: 0.0335\n",
      "Epoch 5/200\n",
      "19/19 [==============================] - 5s 243ms/step - loss: 0.0323 - mse: 0.0323\n",
      "Epoch 6/200\n",
      "19/19 [==============================] - 5s 243ms/step - loss: 0.0318 - mse: 0.0318\n",
      "Epoch 7/200\n",
      "19/19 [==============================] - 5s 243ms/step - loss: 0.0308 - mse: 0.0308\n",
      "Epoch 8/200\n",
      "19/19 [==============================] - 5s 242ms/step - loss: 0.0294 - mse: 0.0294\n",
      "Epoch 9/200\n",
      "19/19 [==============================] - 5s 252ms/step - loss: 0.0303 - mse: 0.0303\n",
      "Epoch 10/200\n",
      "19/19 [==============================] - 5s 243ms/step - loss: 0.0307 - mse: 0.0307\n",
      "Epoch 11/200\n",
      "19/19 [==============================] - 5s 241ms/step - loss: 0.0288 - mse: 0.0288\n",
      "Epoch 12/200\n",
      "19/19 [==============================] - 5s 244ms/step - loss: 0.0264 - mse: 0.0264\n",
      "Epoch 13/200\n",
      "19/19 [==============================] - 5s 257ms/step - loss: 0.0276 - mse: 0.0276\n",
      "Epoch 14/200\n",
      "19/19 [==============================] - 5s 252ms/step - loss: 0.0252 - mse: 0.0252\n",
      "Epoch 15/200\n",
      " 1/19 [>.............................] - ETA: 4s - loss: 0.0303 - mse: 0.0303"
     ]
    }
   ],
   "source": [
    "history_bi_rnn = bi_rnn_model.fit(x_train, y_train, epochs=200, batch_size=32)"
   ]
  },
  {
   "cell_type": "code",
   "execution_count": 68,
   "id": "b917c579",
   "metadata": {},
   "outputs": [
    {
     "data": {
      "image/png": "[encoded data removed]",
      "text/plain": [
       "<Figure size 432x288 with 1 Axes>"
      ]
     },
     "metadata": {
      "needs_background": "light"
     },
     "output_type": "display_data"
    }
   ],
   "source": [
    "plt.plot(history_bi_rnn.history['loss'])\n",
    "plt.title('Loss - Bidirectional RNN Model')\n",
    "plt.xlabel('epochs')\n",
    "plt.ylabel('mean squared error')\n",
    "plt.show()\n"
   ]
  },
  {
   "cell_type": "code",
   "execution_count": 69,
   "id": "dd823f84",
   "metadata": {},
   "outputs": [
    {
     "data": {
      "text/plain": [
       "(1, 48)"
      ]
     },
     "execution_count": 69,
     "metadata": {},
     "output_type": "execute_result"
    }
   ],
   "source": [
    "bi_rnn_predictions = bi_rnn_model.predict(x_test)\n",
    "bi_rnn_predictions = scaler.inverse_transform(bi_rnn_predictions)\n",
    "bi_rnn_predictions.shape"
   ]
  },
  {
   "cell_type": "code",
   "execution_count": 70,
   "id": "daea1080",
   "metadata": {},
   "outputs": [],
   "source": [
    "bi_rnn_predictions = np.reshape(bi_rnn_predictions, (bi_rnn_predictions.shape[1], bi_rnn_predictions.shape[0]))"
   ]
  },
  {
   "cell_type": "code",
   "execution_count": 71,
   "id": "66d8c46b",
   "metadata": {},
   "outputs": [
    {
     "data": {
      "text/html": [
       "<div>\n",
       "<style scoped>\n",
       "    .dataframe tbody tr th:only-of-type {\n",
       "        vertical-align: middle;\n",
       "    }\n",
       "\n",
       "    .dataframe tbody tr th {\n",
       "        vertical-align: top;\n",
       "    }\n",
       "\n",
       "    .dataframe thead th {\n",
       "        text-align: right;\n",
       "    }\n",
       "</style>\n",
       "<table border=\"1\" class=\"dataframe\">\n",
       "  <thead>\n",
       "    <tr style=\"text-align: right;\">\n",
       "      <th></th>\n",
       "      <th>PM2.5</th>\n",
       "    </tr>\n",
       "    <tr>\n",
       "      <th>datetime</th>\n",
       "      <th></th>\n",
       "    </tr>\n",
       "  </thead>\n",
       "  <tbody>\n",
       "    <tr>\n",
       "      <th>2022-01-04 00:00:00</th>\n",
       "      <td>29</td>\n",
       "    </tr>\n",
       "    <tr>\n",
       "      <th>2022-01-04 01:00:00</th>\n",
       "      <td>35</td>\n",
       "    </tr>\n",
       "    <tr>\n",
       "      <th>2022-01-04 02:00:00</th>\n",
       "      <td>37</td>\n",
       "    </tr>\n",
       "    <tr>\n",
       "      <th>2022-01-04 03:00:00</th>\n",
       "      <td>47</td>\n",
       "    </tr>\n",
       "    <tr>\n",
       "      <th>2022-01-04 04:00:00</th>\n",
       "      <td>50</td>\n",
       "    </tr>\n",
       "  </tbody>\n",
       "</table>\n",
       "</div>"
      ],
      "text/plain": [
       "                     PM2.5\n",
       "datetime                  \n",
       "2022-01-04 00:00:00     29\n",
       "2022-01-04 01:00:00     35\n",
       "2022-01-04 02:00:00     37\n",
       "2022-01-04 03:00:00     47\n",
       "2022-01-04 04:00:00     50"
      ]
     },
     "execution_count": 71,
     "metadata": {},
     "output_type": "execute_result"
    }
   ],
   "source": [
    "test_df2 = pd.DataFrame(data['PM2.5'][-n_values:])\n",
    "test_df2.head()"
   ]
  },
  {
   "cell_type": "code",
   "execution_count": 72,
   "id": "2bf4ed0b",
   "metadata": {},
   "outputs": [
    {
     "data": {
      "text/html": [
       "<div>\n",
       "<style scoped>\n",
       "    .dataframe tbody tr th:only-of-type {\n",
       "        vertical-align: middle;\n",
       "    }\n",
       "\n",
       "    .dataframe tbody tr th {\n",
       "        vertical-align: top;\n",
       "    }\n",
       "\n",
       "    .dataframe thead th {\n",
       "        text-align: right;\n",
       "    }\n",
       "</style>\n",
       "<table border=\"1\" class=\"dataframe\">\n",
       "  <thead>\n",
       "    <tr style=\"text-align: right;\">\n",
       "      <th></th>\n",
       "      <th>PM2.5</th>\n",
       "      <th>Predicted PM2.5_Bi</th>\n",
       "    </tr>\n",
       "    <tr>\n",
       "      <th>datetime</th>\n",
       "      <th></th>\n",
       "      <th></th>\n",
       "    </tr>\n",
       "  </thead>\n",
       "  <tbody>\n",
       "    <tr>\n",
       "      <th>2022-01-04 00:00:00</th>\n",
       "      <td>29</td>\n",
       "      <td>27.114153</td>\n",
       "    </tr>\n",
       "    <tr>\n",
       "      <th>2022-01-04 01:00:00</th>\n",
       "      <td>35</td>\n",
       "      <td>26.433601</td>\n",
       "    </tr>\n",
       "    <tr>\n",
       "      <th>2022-01-04 02:00:00</th>\n",
       "      <td>37</td>\n",
       "      <td>25.889357</td>\n",
       "    </tr>\n",
       "    <tr>\n",
       "      <th>2022-01-04 03:00:00</th>\n",
       "      <td>47</td>\n",
       "      <td>25.596491</td>\n",
       "    </tr>\n",
       "    <tr>\n",
       "      <th>2022-01-04 04:00:00</th>\n",
       "      <td>50</td>\n",
       "      <td>25.770319</td>\n",
       "    </tr>\n",
       "  </tbody>\n",
       "</table>\n",
       "</div>"
      ],
      "text/plain": [
       "                     PM2.5  Predicted PM2.5_Bi\n",
       "datetime                                      \n",
       "2022-01-04 00:00:00     29           27.114153\n",
       "2022-01-04 01:00:00     35           26.433601\n",
       "2022-01-04 02:00:00     37           25.889357\n",
       "2022-01-04 03:00:00     47           25.596491\n",
       "2022-01-04 04:00:00     50           25.770319"
      ]
     },
     "execution_count": 72,
     "metadata": {},
     "output_type": "execute_result"
    }
   ],
   "source": [
    "test_df2['Predicted PM2.5_Bi'] = bi_rnn_predictions\n",
    "test_df2.head()"
   ]
  },
  {
   "cell_type": "code",
   "execution_count": 73,
   "id": "a99035f4",
   "metadata": {},
   "outputs": [
    {
     "data": {
      "image/png": "[encoded data removed]",
      "text/plain": [
       "<Figure size 576x432 with 1 Axes>"
      ]
     },
     "metadata": {
      "needs_background": "light"
     },
     "output_type": "display_data"
    }
   ],
   "source": [
    "test_df2.plot(figsize=(8,6), color = ['blue', 'red']);\n",
    "plt.title(\"PM2.5 Prediction - Bidirectional RNN Model\")\n",
    "plt.ylabel('ug/m^3')\n",
    "plt.show()"
   ]
  },
  {
   "cell_type": "code",
   "execution_count": 74,
   "id": "a7c49c90",
   "metadata": {},
   "outputs": [
    {
     "name": "stdout",
     "output_type": "stream",
     "text": [
      "RMSE from Bidirectional RNN Model: 19.740320460177234\n"
     ]
    }
   ],
   "source": [
    "rmse_bi_rnn = rmse(test_df2['PM2.5'], test_df2['Predicted PM2.5_Bi'])\n",
    "print(\"RMSE from Bidirectional RNN Model: {}\".format(str(rmse_bi_rnn)))"
   ]
  },
  {
   "cell_type": "markdown",
   "id": "747da45a",
   "metadata": {},
   "source": [
    "# Summary\n",
    "The PACF plots showed that pollutants changes in Din Daeng District, Bangkok had insignificantly relationship with its lag 1. Even though each pollutant seemed to have effects on each other, their errors after training with Vector Autoregression model did not clearly different from training with Autoregression model. Moreover, both VAR and AR models were still not good to predict the value in the next five days (120 hours) as their errors were still high compared to their means."
   ]
  }
 ],
 "metadata": {
  "kernelspec": {
   "display_name": "Python 3 (ipykernel)",
   "language": "python",
   "name": "python3"
  },
  "language_info": {
   "codemirror_mode": {
    "name": "ipython",
    "version": 3
   },
   "file_extension": ".py",
   "mimetype": "text/x-python",
   "name": "python",
   "nbconvert_exporter": "python",
   "pygments_lexer": "ipython3",
   "version": "3.8.10"
  }
 },
 "nbformat": 4,
 "nbformat_minor": 5
}
