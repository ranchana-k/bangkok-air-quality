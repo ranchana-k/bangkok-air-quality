{
 "cells": [
  {
   "cell_type": "markdown",
   "id": "35dab1eb",
   "metadata": {},
   "source": [
    "# Bangkok PM2.5 Forecast - RNN Models\n",
    "\n",
    "\n",
    "## Dataset\n",
    "The dataset is from the previous section (Bangkok PM2.5 Forecast - VAR and AR.ipynb)\n",
    "\n",
    "## RNN Models\n",
    "The RNN models used to train and predict PM2.5 are unidirectional and bidirectional LSTM models.\n"
   ]
  },
  {
   "cell_type": "markdown",
   "id": "2b66041f",
   "metadata": {},
   "source": [
    "## Import libraries"
   ]
  },
  {
   "cell_type": "code",
   "execution_count": 2,
   "id": "e0cfb751",
   "metadata": {},
   "outputs": [
    {
     "name": "stderr",
     "output_type": "stream",
     "text": [
      "2022-02-21 14:04:28.534002: W tensorflow/stream_executor/platform/default/dso_loader.cc:64] Could not load dynamic library 'libcudart.so.11.0'; dlerror: libcudart.so.11.0: cannot open shared object file: No such file or directory\n",
      "2022-02-21 14:04:28.534253: I tensorflow/stream_executor/cuda/cudart_stub.cc:29] Ignore above cudart dlerror if you do not have a GPU set up on your machine.\n",
      "/usr/lib/python3/dist-packages/requests/__init__.py:89: RequestsDependencyWarning: urllib3 (1.26.7) or chardet (3.0.4) doesn't match a supported version!\n",
      "  warnings.warn(\"urllib3 ({}) or chardet ({}) doesn't match a supported \"\n"
     ]
    }
   ],
   "source": [
    "import tensorflow as tf\n",
    "from tensorflow.keras.layers import Dense, LSTM, Bidirectional, Dropout\n",
    "from tensorflow.keras.models import Model\n",
    "from tensorflow.keras.preprocessing.sequence import TimeseriesGenerator\n",
    "from tensorflow.keras.optimizers import Adam\n",
    "from tensorflow.keras import Sequential\n",
    "from sklearn.preprocessing import MinMaxScaler\n",
    "\n",
    "import matplotlib.pyplot as plt\n",
    "import pandas as pd\n",
    "import numpy as np\n",
    "%matplotlib inline\n",
    "\n",
    "from statsmodels.tools.eval_measures import rmse"
   ]
  },
  {
   "cell_type": "markdown",
   "id": "882032e5",
   "metadata": {},
   "source": [
    "## Import Data"
   ]
  },
  {
   "cell_type": "code",
   "execution_count": 27,
   "id": "0c4f840c",
   "metadata": {},
   "outputs": [],
   "source": [
    "data = pd.read_csv('cleaned_dataset.csv')"
   ]
  },
  {
   "cell_type": "code",
   "execution_count": 28,
   "id": "e0dc2c43",
   "metadata": {},
   "outputs": [],
   "source": [
    "data['datetime'] = pd.to_datetime(data[\"datetime\"])\n",
    "data.set_index('datetime', inplace=True)\n",
    "data.index.freq = 'H'"
   ]
  },
  {
   "cell_type": "code",
   "execution_count": 29,
   "id": "c03a708f",
   "metadata": {},
   "outputs": [
    {
     "data": {
      "text/html": [
       "<div>\n",
       "<style scoped>\n",
       "    .dataframe tbody tr th:only-of-type {\n",
       "        vertical-align: middle;\n",
       "    }\n",
       "\n",
       "    .dataframe tbody tr th {\n",
       "        vertical-align: top;\n",
       "    }\n",
       "\n",
       "    .dataframe thead th {\n",
       "        text-align: right;\n",
       "    }\n",
       "</style>\n",
       "<table border=\"1\" class=\"dataframe\">\n",
       "  <thead>\n",
       "    <tr style=\"text-align: right;\">\n",
       "      <th></th>\n",
       "      <th>PM2.5</th>\n",
       "      <th>PM10</th>\n",
       "      <th>O3</th>\n",
       "      <th>CO</th>\n",
       "      <th>NO2</th>\n",
       "    </tr>\n",
       "    <tr>\n",
       "      <th>datetime</th>\n",
       "      <th></th>\n",
       "      <th></th>\n",
       "      <th></th>\n",
       "      <th></th>\n",
       "      <th></th>\n",
       "    </tr>\n",
       "  </thead>\n",
       "  <tbody>\n",
       "    <tr>\n",
       "      <th>2021-12-01 00:00:00</th>\n",
       "      <td>32</td>\n",
       "      <td>79</td>\n",
       "      <td>18.0</td>\n",
       "      <td>1.28</td>\n",
       "      <td>32.0</td>\n",
       "    </tr>\n",
       "    <tr>\n",
       "      <th>2021-12-01 01:00:00</th>\n",
       "      <td>27</td>\n",
       "      <td>78</td>\n",
       "      <td>19.0</td>\n",
       "      <td>1.23</td>\n",
       "      <td>29.0</td>\n",
       "    </tr>\n",
       "    <tr>\n",
       "      <th>2021-12-01 02:00:00</th>\n",
       "      <td>25</td>\n",
       "      <td>74</td>\n",
       "      <td>21.0</td>\n",
       "      <td>1.22</td>\n",
       "      <td>25.0</td>\n",
       "    </tr>\n",
       "    <tr>\n",
       "      <th>2021-12-01 03:00:00</th>\n",
       "      <td>33</td>\n",
       "      <td>72</td>\n",
       "      <td>30.0</td>\n",
       "      <td>1.15</td>\n",
       "      <td>18.0</td>\n",
       "    </tr>\n",
       "    <tr>\n",
       "      <th>2021-12-01 04:00:00</th>\n",
       "      <td>40</td>\n",
       "      <td>66</td>\n",
       "      <td>19.0</td>\n",
       "      <td>1.23</td>\n",
       "      <td>26.0</td>\n",
       "    </tr>\n",
       "  </tbody>\n",
       "</table>\n",
       "</div>"
      ],
      "text/plain": [
       "                     PM2.5  PM10    O3    CO   NO2\n",
       "datetime                                          \n",
       "2021-12-01 00:00:00     32    79  18.0  1.28  32.0\n",
       "2021-12-01 01:00:00     27    78  19.0  1.23  29.0\n",
       "2021-12-01 02:00:00     25    74  21.0  1.22  25.0\n",
       "2021-12-01 03:00:00     33    72  30.0  1.15  18.0\n",
       "2021-12-01 04:00:00     40    66  19.0  1.23  26.0"
      ]
     },
     "execution_count": 29,
     "metadata": {},
     "output_type": "execute_result"
    }
   ],
   "source": [
    "data.head()"
   ]
  },
  {
   "cell_type": "code",
   "execution_count": 5,
   "id": "8ff3da7a",
   "metadata": {},
   "outputs": [
    {
     "data": {
      "text/plain": [
       "864"
      ]
     },
     "execution_count": 5,
     "metadata": {},
     "output_type": "execute_result"
    }
   ],
   "source": [
    "len(data)"
   ]
  },
  {
   "cell_type": "markdown",
   "id": "7712ad2f",
   "metadata": {},
   "source": [
    "# Deep Learning"
   ]
  },
  {
   "cell_type": "markdown",
   "id": "a9c1af7d",
   "metadata": {},
   "source": [
    "## Train Test Split\n",
    "The data from the previous 7 days was used to predict the quantity of PM2.5 in the next 2 days."
   ]
  },
  {
   "cell_type": "code",
   "execution_count": 6,
   "id": "07f9a0b3",
   "metadata": {},
   "outputs": [],
   "source": [
    "# assign the number of input (7 days x 24 hours)\n",
    "n_input = 7*24\n",
    "\n",
    "# assign the number of values to predict (2 days x 24 hours)\n",
    "n_values = 2*24"
   ]
  },
  {
   "cell_type": "code",
   "execution_count": 7,
   "id": "dd17e844",
   "metadata": {},
   "outputs": [
    {
     "data": {
      "text/plain": [
       "(816, 1)"
      ]
     },
     "execution_count": 7,
     "metadata": {},
     "output_type": "execute_result"
    }
   ],
   "source": [
    "pm25_train = data['PM2.5'][:-n_values].values.reshape(-1,1)\n",
    "pm25_test = data['PM2.5'][-n_values:].values.reshape(-1,1)\n",
    "pm25_train.shape"
   ]
  },
  {
   "cell_type": "code",
   "execution_count": 8,
   "id": "9e3e2747",
   "metadata": {},
   "outputs": [
    {
     "data": {
      "text/plain": [
       "(48, 1)"
      ]
     },
     "execution_count": 8,
     "metadata": {},
     "output_type": "execute_result"
    }
   ],
   "source": [
    "pm25_test.shape"
   ]
  },
  {
   "cell_type": "markdown",
   "id": "b87e9343",
   "metadata": {},
   "source": [
    "## Data Regularization"
   ]
  },
  {
   "cell_type": "code",
   "execution_count": 9,
   "id": "63a1e40a",
   "metadata": {},
   "outputs": [],
   "source": [
    "scaler = MinMaxScaler()\n",
    "scaled_train = scaler.fit_transform(pm25_train)\n",
    "scaled_test = scaler.transform(pm25_test)"
   ]
  },
  {
   "cell_type": "code",
   "execution_count": 10,
   "id": "ab060db8",
   "metadata": {},
   "outputs": [
    {
     "data": {
      "text/plain": [
       "array([[0.2247191 ],\n",
       "       [0.16853933],\n",
       "       [0.14606742],\n",
       "       [0.23595506],\n",
       "       [0.31460674]])"
      ]
     },
     "execution_count": 10,
     "metadata": {},
     "output_type": "execute_result"
    }
   ],
   "source": [
    "scaled_train[:5]"
   ]
  },
  {
   "cell_type": "markdown",
   "id": "0262123e",
   "metadata": {},
   "source": [
    "## Training Set Generator\n",
    "The training batches including input data with the same intervals and their target value were generated.  "
   ]
  },
  {
   "cell_type": "code",
   "execution_count": 11,
   "id": "910d5257",
   "metadata": {},
   "outputs": [],
   "source": [
    "generator = tf.keras.preprocessing.sequence.TimeseriesGenerator(scaled_train, scaled_train, length=n_input, batch_size=1)"
   ]
  },
  {
   "cell_type": "code",
   "execution_count": 12,
   "id": "fc57ec60",
   "metadata": {},
   "outputs": [
    {
     "data": {
      "text/plain": [
       "648"
      ]
     },
     "execution_count": 12,
     "metadata": {},
     "output_type": "execute_result"
    }
   ],
   "source": [
    "len(generator)"
   ]
  },
  {
   "cell_type": "code",
   "execution_count": 14,
   "id": "2219acdd",
   "metadata": {},
   "outputs": [
    {
     "name": "stdout",
     "output_type": "stream",
     "text": [
      "Given data: [0.2247191  0.16853933 0.14606742 0.23595506 0.31460674 0.40449438\n",
      " 0.39325843 0.33707865 0.28089888 0.25842697 0.26966292 0.25842697\n",
      " 0.28089888 0.29213483 0.31460674 0.26966292 0.17977528 0.16853933\n",
      " 0.19101124 0.2247191  0.31460674 0.34831461 0.35955056 0.35955056\n",
      " 0.30337079 0.23595506 0.21348315 0.19101124 0.25842697 0.30337079\n",
      " 0.25842697 0.26966292 0.25842697 0.2247191  0.28089888 0.29213483\n",
      " 0.33707865 0.28089888 0.30337079 0.25842697 0.20224719 0.20224719\n",
      " 0.19101124 0.23595506 0.26966292 0.26966292 0.29213483 0.30337079\n",
      " 0.2247191  0.21348315 0.25842697 0.30337079 0.33707865 0.34831461\n",
      " 0.37078652 0.39325843 0.38202247 0.33707865 0.3258427  0.3258427\n",
      " 0.26966292 0.26966292 0.21348315 0.2247191  0.2247191  0.21348315\n",
      " 0.20224719 0.19101124 0.17977528 0.19101124 0.20224719 0.16853933\n",
      " 0.2247191  0.16853933 0.19101124 0.25842697 0.24719101 0.2247191\n",
      " 0.2247191  0.21348315 0.17977528 0.29213483 0.34831461 0.31460674\n",
      " 0.34831461 0.26966292 0.30337079 0.23595506 0.16853933 0.16853933\n",
      " 0.20224719 0.26966292 0.3258427  0.41573034 0.38202247 0.35955056\n",
      " 0.24719101 0.21348315 0.2247191  0.25842697 0.26966292 0.28089888\n",
      " 0.24719101 0.17977528 0.28089888 0.33707865 0.53932584 0.40449438\n",
      " 0.35955056 0.33707865 0.2247191  0.26966292 0.23595506 0.28089888\n",
      " 0.29213483 0.30337079 0.30337079 0.42696629 0.35955056 0.39325843\n",
      " 0.30337079 0.25842697 0.31460674 0.29213483 0.26966292 0.30337079\n",
      " 0.30337079 0.29213483 0.34831461 0.41573034 0.42696629 0.39325843\n",
      " 0.35955056 0.31460674 0.29213483 0.2247191  0.19101124 0.23595506\n",
      " 0.24719101 0.24719101 0.24719101 0.2247191  0.23595506 0.28089888\n",
      " 0.31460674 0.48314607 0.59550562 0.50561798 0.47191011 0.39325843\n",
      " 0.35955056 0.4494382  0.48314607 0.49438202 0.49438202 0.43820225\n",
      " 0.40449438 0.43820225 0.42696629 0.37078652 0.34831461 0.34831461\n",
      " 0.37078652 0.41573034 0.4494382  0.4494382  0.4494382  0.43820225]\n",
      "Target: [0.40449438]\n"
     ]
    }
   ],
   "source": [
    "# check the first batch\n",
    "sample_x, sample_y = generator[0]\n",
    "print('Given data: {}'.format(sample_x.flatten()))\n",
    "print('Target: {}'.format(sample_y.flatten()))"
   ]
  },
  {
   "cell_type": "markdown",
   "id": "0b39b4c8",
   "metadata": {},
   "source": [
    "## RNN Model\n",
    "\n",
    "1. Unidirectional RNN Model\n",
    "2. Bidirectional RNN Model*\n",
    "\n",
    "Note: The bidirectional model architecture [here](https://medium.com/analytics-vidhya/weather-forecasting-with-recurrent-neural-networks-1eaa057d70c3)"
   ]
  },
  {
   "cell_type": "markdown",
   "id": "631f6d98",
   "metadata": {},
   "source": [
    "### 1. Unidirectional RNN Model"
   ]
  },
  {
   "cell_type": "code",
   "execution_count": 15,
   "id": "cc744f1d",
   "metadata": {},
   "outputs": [
    {
     "name": "stderr",
     "output_type": "stream",
     "text": [
      "2022-02-21 14:05:09.927239: W tensorflow/stream_executor/platform/default/dso_loader.cc:64] Could not load dynamic library 'libcuda.so.1'; dlerror: libcuda.so.1: cannot open shared object file: No such file or directory\n",
      "2022-02-21 14:05:09.927649: W tensorflow/stream_executor/cuda/cuda_driver.cc:269] failed call to cuInit: UNKNOWN ERROR (303)\n",
      "2022-02-21 14:05:09.927682: I tensorflow/stream_executor/cuda/cuda_diagnostics.cc:156] kernel driver does not appear to be running on this host (jabib-Lenovo-ideapad-700-15ISK): /proc/driver/nvidia/version does not exist\n",
      "2022-02-21 14:05:09.937038: I tensorflow/core/platform/cpu_feature_guard.cc:151] This TensorFlow binary is optimized with oneAPI Deep Neural Network Library (oneDNN) to use the following CPU instructions in performance-critical operations:  AVX2 FMA\n",
      "To enable them in other operations, rebuild TensorFlow with the appropriate compiler flags.\n"
     ]
    },
    {
     "name": "stdout",
     "output_type": "stream",
     "text": [
      "Model: \"sequential\"\n",
      "_________________________________________________________________\n",
      " Layer (type)                Output Shape              Param #   \n",
      "=================================================================\n",
      " lstm (LSTM)                 (None, 168, 32)           4352      \n",
      "                                                                 \n",
      " dropout (Dropout)           (None, 168, 32)           0         \n",
      "                                                                 \n",
      " lstm_1 (LSTM)               (None, 168, 32)           8320      \n",
      "                                                                 \n",
      " dropout_1 (Dropout)         (None, 168, 32)           0         \n",
      "                                                                 \n",
      " lstm_2 (LSTM)               (None, 168, 32)           8320      \n",
      "                                                                 \n",
      " dropout_2 (Dropout)         (None, 168, 32)           0         \n",
      "                                                                 \n",
      " lstm_3 (LSTM)               (None, 32)                8320      \n",
      "                                                                 \n",
      " dropout_3 (Dropout)         (None, 32)                0         \n",
      "                                                                 \n",
      " dense (Dense)               (None, 1)                 33        \n",
      "                                                                 \n",
      "=================================================================\n",
      "Total params: 29,345\n",
      "Trainable params: 29,345\n",
      "Non-trainable params: 0\n",
      "_________________________________________________________________\n"
     ]
    }
   ],
   "source": [
    "rnn_model = Sequential()\n",
    "rnn_model.add(LSTM(units=32, return_sequences=True, input_shape = (n_input,1)))\n",
    "rnn_model.add(Dropout(0.2))\n",
    "rnn_model.add(LSTM(units= 32 , return_sequences=True))\n",
    "rnn_model.add(Dropout(0.2))\n",
    "rnn_model.add(LSTM(units= 32 , return_sequences=True))\n",
    "rnn_model.add(Dropout(0.2))\n",
    "rnn_model.add(LSTM(units= 32))\n",
    "rnn_model.add(Dropout(0.2))\n",
    "rnn_model.add(Dense(units = 1,activation='linear'))\n",
    "rnn_model.compile(optimizer='adam', loss='mse', metrics=['mse'])\n",
    "rnn_model.summary()"
   ]
  },
  {
   "cell_type": "code",
   "execution_count": 377,
   "id": "62ce3c8d",
   "metadata": {},
   "outputs": [
    {
     "name": "stdout",
     "output_type": "stream",
     "text": [
      "Epoch 1/50\n",
      "648/648 [==============================] - 84s 130ms/step - loss: 0.0247 - mse: 0.0247\n",
      "Epoch 2/50\n",
      "648/648 [==============================] - 88s 136ms/step - loss: 0.0188 - mse: 0.0188\n",
      "Epoch 3/50\n",
      "648/648 [==============================] - 88s 137ms/step - loss: 0.0159 - mse: 0.0159\n",
      "Epoch 4/50\n",
      "648/648 [==============================] - 96s 148ms/step - loss: 0.0141 - mse: 0.0141\n",
      "Epoch 5/50\n",
      "648/648 [==============================] - 85s 131ms/step - loss: 0.0106 - mse: 0.0106\n",
      "Epoch 6/50\n",
      "648/648 [==============================] - 92s 142ms/step - loss: 0.0101 - mse: 0.0101\n",
      "Epoch 7/50\n",
      "648/648 [==============================] - 88s 136ms/step - loss: 0.0092 - mse: 0.0092\n",
      "Epoch 8/50\n",
      "648/648 [==============================] - 86s 133ms/step - loss: 0.0075 - mse: 0.0075\n",
      "Epoch 9/50\n",
      "648/648 [==============================] - 92s 141ms/step - loss: 0.0065 - mse: 0.0065\n",
      "Epoch 10/50\n",
      "648/648 [==============================] - 83s 129ms/step - loss: 0.0065 - mse: 0.0065\n",
      "Epoch 11/50\n",
      "648/648 [==============================] - 83s 128ms/step - loss: 0.0064 - mse: 0.0064\n",
      "Epoch 12/50\n",
      "648/648 [==============================] - 82s 127ms/step - loss: 0.0057 - mse: 0.0057\n",
      "Epoch 13/50\n",
      "648/648 [==============================] - 88s 135ms/step - loss: 0.0056 - mse: 0.0056\n",
      "Epoch 14/50\n",
      "648/648 [==============================] - 84s 130ms/step - loss: 0.0054 - mse: 0.0054\n",
      "Epoch 15/50\n",
      "648/648 [==============================] - 85s 132ms/step - loss: 0.0053 - mse: 0.0053\n",
      "Epoch 16/50\n",
      "648/648 [==============================] - 85s 131ms/step - loss: 0.0057 - mse: 0.0057\n",
      "Epoch 17/50\n",
      "648/648 [==============================] - 83s 128ms/step - loss: 0.0053 - mse: 0.0053\n",
      "Epoch 18/50\n",
      "648/648 [==============================] - 83s 127ms/step - loss: 0.0050 - mse: 0.0050\n",
      "Epoch 19/50\n",
      "648/648 [==============================] - 83s 128ms/step - loss: 0.0049 - mse: 0.0049\n",
      "Epoch 20/50\n",
      "648/648 [==============================] - 91s 140ms/step - loss: 0.0048 - mse: 0.0048\n",
      "Epoch 21/50\n",
      "648/648 [==============================] - 93s 143ms/step - loss: 0.0045 - mse: 0.0045\n",
      "Epoch 22/50\n",
      "648/648 [==============================] - 84s 130ms/step - loss: 0.0050 - mse: 0.0050\n",
      "Epoch 23/50\n",
      "648/648 [==============================] - 86s 133ms/step - loss: 0.0046 - mse: 0.0046\n",
      "Epoch 24/50\n",
      "648/648 [==============================] - 87s 134ms/step - loss: 0.0047 - mse: 0.0047\n",
      "Epoch 25/50\n",
      "648/648 [==============================] - 90s 139ms/step - loss: 0.0048 - mse: 0.0048\n",
      "Epoch 26/50\n",
      "648/648 [==============================] - 88s 136ms/step - loss: 0.0045 - mse: 0.0045\n",
      "Epoch 27/50\n",
      "648/648 [==============================] - 90s 139ms/step - loss: 0.0048 - mse: 0.0048\n",
      "Epoch 28/50\n",
      "648/648 [==============================] - 84s 130ms/step - loss: 0.0047 - mse: 0.0047\n",
      "Epoch 29/50\n",
      "648/648 [==============================] - 84s 129ms/step - loss: 0.0043 - mse: 0.0043\n",
      "Epoch 30/50\n",
      "648/648 [==============================] - 83s 128ms/step - loss: 0.0043 - mse: 0.0043\n",
      "Epoch 31/50\n",
      "648/648 [==============================] - 84s 129ms/step - loss: 0.0046 - mse: 0.0046\n",
      "Epoch 32/50\n",
      "648/648 [==============================] - 87s 134ms/step - loss: 0.0042 - mse: 0.0042\n",
      "Epoch 33/50\n",
      "648/648 [==============================] - 84s 130ms/step - loss: 0.0046 - mse: 0.0046\n",
      "Epoch 34/50\n",
      "648/648 [==============================] - 84s 129ms/step - loss: 0.0049 - mse: 0.0049\n",
      "Epoch 35/50\n",
      "648/648 [==============================] - 84s 129ms/step - loss: 0.0044 - mse: 0.0044\n",
      "Epoch 36/50\n",
      "648/648 [==============================] - 84s 129ms/step - loss: 0.0041 - mse: 0.0041\n",
      "Epoch 37/50\n",
      "648/648 [==============================] - 84s 130ms/step - loss: 0.0041 - mse: 0.0041\n",
      "Epoch 38/50\n",
      "648/648 [==============================] - 84s 130ms/step - loss: 0.0047 - mse: 0.0047\n",
      "Epoch 39/50\n",
      "648/648 [==============================] - 83s 129ms/step - loss: 0.0042 - mse: 0.0042\n",
      "Epoch 40/50\n",
      "648/648 [==============================] - 84s 129ms/step - loss: 0.0042 - mse: 0.0042\n",
      "Epoch 41/50\n",
      "648/648 [==============================] - 84s 129ms/step - loss: 0.0046 - mse: 0.0046\n",
      "Epoch 42/50\n",
      "648/648 [==============================] - 84s 129ms/step - loss: 0.0039 - mse: 0.0039\n",
      "Epoch 43/50\n",
      "648/648 [==============================] - 84s 129ms/step - loss: 0.0044 - mse: 0.0044\n",
      "Epoch 44/50\n",
      "648/648 [==============================] - 92s 142ms/step - loss: 0.0043 - mse: 0.0043\n",
      "Epoch 45/50\n",
      "648/648 [==============================] - 87s 134ms/step - loss: 0.0042 - mse: 0.0042\n",
      "Epoch 46/50\n",
      "648/648 [==============================] - 85s 131ms/step - loss: 0.0045 - mse: 0.0045\n",
      "Epoch 47/50\n",
      "648/648 [==============================] - 83s 129ms/step - loss: 0.0039 - mse: 0.0039\n",
      "Epoch 48/50\n",
      "648/648 [==============================] - 84s 129ms/step - loss: 0.0039 - mse: 0.0039\n",
      "Epoch 49/50\n",
      "648/648 [==============================] - 84s 129ms/step - loss: 0.0040 - mse: 0.0040\n",
      "Epoch 50/50\n",
      "648/648 [==============================] - 84s 129ms/step - loss: 0.0037 - mse: 0.0037\n"
     ]
    },
    {
     "data": {
      "text/plain": [
       "<keras.callbacks.History at 0x7f0c8fd46670>"
      ]
     },
     "execution_count": 377,
     "metadata": {},
     "output_type": "execute_result"
    }
   ],
   "source": [
    "rnn_model.fit(generator, epochs=50)"
   ]
  },
  {
   "cell_type": "code",
   "execution_count": 378,
   "id": "f9976575",
   "metadata": {},
   "outputs": [],
   "source": [
    "test_predictions = []\n",
    "\n",
    "first_eval_batch = scaled_train[-n_input:]\n",
    "current_batch = first_eval_batch.reshape((1, n_input, 1))\n",
    "\n",
    "for i in range(len(pm25_test)):\n",
    "    \n",
    "    # get prediction 1 time stamp ahead ([0] is for grabbing just the number instead of [array])\n",
    "    current_pred = rnn_model.predict(current_batch)[0]\n",
    "    \n",
    "    # store prediction\n",
    "    test_predictions.append(current_pred) \n",
    "    \n",
    "    # update batch to now include prediction and drop first value\n",
    "    current_batch = np.append(current_batch[:,1:,:],[[current_pred]],axis=1)"
   ]
  },
  {
   "cell_type": "code",
   "execution_count": 379,
   "id": "240c3fad",
   "metadata": {},
   "outputs": [
    {
     "data": {
      "text/plain": [
       "(48, 1)"
      ]
     },
     "execution_count": 379,
     "metadata": {},
     "output_type": "execute_result"
    }
   ],
   "source": [
    "predictions = scaler.inverse_transform(test_predictions)\n",
    "predictions.shape"
   ]
  },
  {
   "cell_type": "code",
   "execution_count": 380,
   "id": "bee6e3a7",
   "metadata": {},
   "outputs": [
    {
     "data": {
      "text/html": [
       "<div>\n",
       "<style scoped>\n",
       "    .dataframe tbody tr th:only-of-type {\n",
       "        vertical-align: middle;\n",
       "    }\n",
       "\n",
       "    .dataframe tbody tr th {\n",
       "        vertical-align: top;\n",
       "    }\n",
       "\n",
       "    .dataframe thead th {\n",
       "        text-align: right;\n",
       "    }\n",
       "</style>\n",
       "<table border=\"1\" class=\"dataframe\">\n",
       "  <thead>\n",
       "    <tr style=\"text-align: right;\">\n",
       "      <th></th>\n",
       "      <th>PM2.5</th>\n",
       "    </tr>\n",
       "    <tr>\n",
       "      <th>datetime</th>\n",
       "      <th></th>\n",
       "    </tr>\n",
       "  </thead>\n",
       "  <tbody>\n",
       "    <tr>\n",
       "      <th>2022-01-04 00:00:00</th>\n",
       "      <td>29</td>\n",
       "    </tr>\n",
       "    <tr>\n",
       "      <th>2022-01-04 01:00:00</th>\n",
       "      <td>35</td>\n",
       "    </tr>\n",
       "    <tr>\n",
       "      <th>2022-01-04 02:00:00</th>\n",
       "      <td>37</td>\n",
       "    </tr>\n",
       "    <tr>\n",
       "      <th>2022-01-04 03:00:00</th>\n",
       "      <td>47</td>\n",
       "    </tr>\n",
       "    <tr>\n",
       "      <th>2022-01-04 04:00:00</th>\n",
       "      <td>50</td>\n",
       "    </tr>\n",
       "  </tbody>\n",
       "</table>\n",
       "</div>"
      ],
      "text/plain": [
       "                     PM2.5\n",
       "datetime                  \n",
       "2022-01-04 00:00:00     29\n",
       "2022-01-04 01:00:00     35\n",
       "2022-01-04 02:00:00     37\n",
       "2022-01-04 03:00:00     47\n",
       "2022-01-04 04:00:00     50"
      ]
     },
     "execution_count": 380,
     "metadata": {},
     "output_type": "execute_result"
    }
   ],
   "source": [
    "test_df = pd.DataFrame(cleaned_pollutants['PM2.5'][-n_values:])\n",
    "test_df.head()"
   ]
  },
  {
   "cell_type": "code",
   "execution_count": 381,
   "id": "1e373bba",
   "metadata": {},
   "outputs": [
    {
     "data": {
      "text/html": [
       "<div>\n",
       "<style scoped>\n",
       "    .dataframe tbody tr th:only-of-type {\n",
       "        vertical-align: middle;\n",
       "    }\n",
       "\n",
       "    .dataframe tbody tr th {\n",
       "        vertical-align: top;\n",
       "    }\n",
       "\n",
       "    .dataframe thead th {\n",
       "        text-align: right;\n",
       "    }\n",
       "</style>\n",
       "<table border=\"1\" class=\"dataframe\">\n",
       "  <thead>\n",
       "    <tr style=\"text-align: right;\">\n",
       "      <th></th>\n",
       "      <th>PM2.5</th>\n",
       "      <th>predicted_PM2.5</th>\n",
       "    </tr>\n",
       "    <tr>\n",
       "      <th>datetime</th>\n",
       "      <th></th>\n",
       "      <th></th>\n",
       "    </tr>\n",
       "  </thead>\n",
       "  <tbody>\n",
       "    <tr>\n",
       "      <th>2022-01-04 00:00:00</th>\n",
       "      <td>29</td>\n",
       "      <td>30.387596</td>\n",
       "    </tr>\n",
       "    <tr>\n",
       "      <th>2022-01-04 01:00:00</th>\n",
       "      <td>35</td>\n",
       "      <td>32.767334</td>\n",
       "    </tr>\n",
       "    <tr>\n",
       "      <th>2022-01-04 02:00:00</th>\n",
       "      <td>37</td>\n",
       "      <td>33.981889</td>\n",
       "    </tr>\n",
       "    <tr>\n",
       "      <th>2022-01-04 03:00:00</th>\n",
       "      <td>47</td>\n",
       "      <td>35.545881</td>\n",
       "    </tr>\n",
       "    <tr>\n",
       "      <th>2022-01-04 04:00:00</th>\n",
       "      <td>50</td>\n",
       "      <td>36.865138</td>\n",
       "    </tr>\n",
       "  </tbody>\n",
       "</table>\n",
       "</div>"
      ],
      "text/plain": [
       "                     PM2.5  predicted_PM2.5\n",
       "datetime                                   \n",
       "2022-01-04 00:00:00     29        30.387596\n",
       "2022-01-04 01:00:00     35        32.767334\n",
       "2022-01-04 02:00:00     37        33.981889\n",
       "2022-01-04 03:00:00     47        35.545881\n",
       "2022-01-04 04:00:00     50        36.865138"
      ]
     },
     "execution_count": 381,
     "metadata": {},
     "output_type": "execute_result"
    }
   ],
   "source": [
    "test_df['predicted_PM2.5'] = predictions\n",
    "test_df.head()\n"
   ]
  },
  {
   "cell_type": "code",
   "execution_count": 402,
   "id": "24b866e1",
   "metadata": {},
   "outputs": [
    {
     "data": {
      "image/png": "[encoded data removed]",
      "text/plain": [
       "<Figure size 576x432 with 1 Axes>"
      ]
     },
     "metadata": {
      "needs_background": "light"
     },
     "output_type": "display_data"
    }
   ],
   "source": [
    "test_df.plot(figsize=(8,6), color = ['blue', 'red']);\n",
    "plt.title(\"PM2.5 Prediction\")\n",
    "plt.ylabel('ug/m^3')\n",
    "plt.show()"
   ]
  },
  {
   "cell_type": "code",
   "execution_count": 412,
   "id": "b5391e00",
   "metadata": {},
   "outputs": [
    {
     "name": "stdout",
     "output_type": "stream",
     "text": [
      "RMSE from Bidirectional RNN Model: 24.6866404961901\n"
     ]
    }
   ],
   "source": [
    "rmse_rnn = rmse(test_df['PM2.5'], test_df['predicted_PM2.5'])\n",
    "print(\"RMSE from Bidirectional RNN Model: {}\".format(str(rmse_rnn)))"
   ]
  },
  {
   "cell_type": "markdown",
   "id": "67cc8216",
   "metadata": {},
   "source": [
    "### 2. Bidirectional LSTM Model"
   ]
  },
  {
   "cell_type": "code",
   "execution_count": 16,
   "id": "8030d438",
   "metadata": {},
   "outputs": [
    {
     "name": "stdout",
     "output_type": "stream",
     "text": [
      "Model: \"sequential_1\"\n",
      "_________________________________________________________________\n",
      " Layer (type)                Output Shape              Param #   \n",
      "=================================================================\n",
      " bidirectional (Bidirectiona  (None, 168, 64)          8704      \n",
      " l)                                                              \n",
      "                                                                 \n",
      " dropout_4 (Dropout)         (None, 168, 64)           0         \n",
      "                                                                 \n",
      " lstm_5 (LSTM)               (None, 168, 32)           12416     \n",
      "                                                                 \n",
      " dropout_5 (Dropout)         (None, 168, 32)           0         \n",
      "                                                                 \n",
      " lstm_6 (LSTM)               (None, 168, 32)           8320      \n",
      "                                                                 \n",
      " dropout_6 (Dropout)         (None, 168, 32)           0         \n",
      "                                                                 \n",
      " lstm_7 (LSTM)               (None, 32)                8320      \n",
      "                                                                 \n",
      " dropout_7 (Dropout)         (None, 32)                0         \n",
      "                                                                 \n",
      " dense_1 (Dense)             (None, 1)                 33        \n",
      "                                                                 \n",
      "=================================================================\n",
      "Total params: 37,793\n",
      "Trainable params: 37,793\n",
      "Non-trainable params: 0\n",
      "_________________________________________________________________\n"
     ]
    }
   ],
   "source": [
    "bi_rnn_model = Sequential()\n",
    "bi_rnn_model.add(Bidirectional(LSTM(units=32, return_sequences=True), input_shape = (n_input,1)))\n",
    "bi_rnn_model.add(Dropout(0.2))\n",
    "bi_rnn_model.add(LSTM(units= 32 , return_sequences=True))\n",
    "bi_rnn_model.add(Dropout(0.2))\n",
    "bi_rnn_model.add(LSTM(units= 32 , return_sequences=True))\n",
    "bi_rnn_model.add(Dropout(0.2))\n",
    "bi_rnn_model.add(LSTM(units= 32))\n",
    "bi_rnn_model.add(Dropout(0.2))\n",
    "bi_rnn_model.add(Dense(units = 1,activation='linear'))\n",
    "bi_rnn_model.compile(optimizer='adam', loss='mse', metrics=['mse'])\n",
    "\n",
    "bi_rnn_model.summary()"
   ]
  },
  {
   "cell_type": "code",
   "execution_count": 17,
   "id": "5e9c6c6c",
   "metadata": {},
   "outputs": [
    {
     "name": "stdout",
     "output_type": "stream",
     "text": [
      "Epoch 1/50\n",
      "648/648 [==============================] - 118s 164ms/step - loss: 0.0206 - mse: 0.0206\n",
      "Epoch 2/50\n",
      "648/648 [==============================] - 99s 153ms/step - loss: 0.0138 - mse: 0.0138\n",
      "Epoch 3/50\n",
      "648/648 [==============================] - 91s 141ms/step - loss: 0.0119 - mse: 0.0119\n",
      "Epoch 4/50\n",
      "648/648 [==============================] - 98s 151ms/step - loss: 0.0099 - mse: 0.0099\n",
      "Epoch 5/50\n",
      "648/648 [==============================] - 114s 176ms/step - loss: 0.0094 - mse: 0.0094\n",
      "Epoch 6/50\n",
      "648/648 [==============================] - 89s 137ms/step - loss: 0.0084 - mse: 0.0084\n",
      "Epoch 7/50\n",
      "648/648 [==============================] - 84s 129ms/step - loss: 0.0080 - mse: 0.0080\n",
      "Epoch 8/50\n",
      "648/648 [==============================] - 84s 130ms/step - loss: 0.0081 - mse: 0.0081\n",
      "Epoch 9/50\n",
      "648/648 [==============================] - 85s 131ms/step - loss: 0.0074 - mse: 0.0074\n",
      "Epoch 10/50\n",
      "648/648 [==============================] - 85s 131ms/step - loss: 0.0070 - mse: 0.0070\n",
      "Epoch 11/50\n",
      "648/648 [==============================] - 85s 131ms/step - loss: 0.0068 - mse: 0.0068\n",
      "Epoch 12/50\n",
      "648/648 [==============================] - 85s 131ms/step - loss: 0.0066 - mse: 0.0066\n",
      "Epoch 13/50\n",
      "648/648 [==============================] - 86s 132ms/step - loss: 0.0062 - mse: 0.0062\n",
      "Epoch 14/50\n",
      "648/648 [==============================] - 86s 132ms/step - loss: 0.0062 - mse: 0.0062\n",
      "Epoch 15/50\n",
      "648/648 [==============================] - 85s 132ms/step - loss: 0.0062 - mse: 0.0062\n",
      "Epoch 16/50\n",
      "648/648 [==============================] - 87s 134ms/step - loss: 0.0059 - mse: 0.0059\n",
      "Epoch 17/50\n",
      "648/648 [==============================] - 86s 133ms/step - loss: 0.0056 - mse: 0.0056\n",
      "Epoch 18/50\n",
      "648/648 [==============================] - 86s 133ms/step - loss: 0.0063 - mse: 0.0063\n",
      "Epoch 19/50\n",
      "648/648 [==============================] - 86s 133ms/step - loss: 0.0055 - mse: 0.0055\n",
      "Epoch 20/50\n",
      "648/648 [==============================] - 86s 133ms/step - loss: 0.0057 - mse: 0.0057\n",
      "Epoch 21/50\n",
      "648/648 [==============================] - 86s 133ms/step - loss: 0.0053 - mse: 0.0053\n",
      "Epoch 22/50\n",
      "648/648 [==============================] - 86s 133ms/step - loss: 0.0055 - mse: 0.0055\n",
      "Epoch 23/50\n",
      "648/648 [==============================] - 87s 134ms/step - loss: 0.0049 - mse: 0.0049\n",
      "Epoch 24/50\n",
      "648/648 [==============================] - 87s 134ms/step - loss: 0.0054 - mse: 0.0054\n",
      "Epoch 25/50\n",
      "648/648 [==============================] - 87s 134ms/step - loss: 0.0050 - mse: 0.0050\n",
      "Epoch 26/50\n",
      "648/648 [==============================] - 87s 134ms/step - loss: 0.0048 - mse: 0.0048\n",
      "Epoch 27/50\n",
      "648/648 [==============================] - 87s 134ms/step - loss: 0.0051 - mse: 0.0051\n",
      "Epoch 28/50\n",
      "648/648 [==============================] - 87s 134ms/step - loss: 0.0053 - mse: 0.0053\n",
      "Epoch 29/50\n",
      "648/648 [==============================] - 87s 134ms/step - loss: 0.0047 - mse: 0.0047\n",
      "Epoch 30/50\n",
      "648/648 [==============================] - 86s 133ms/step - loss: 0.0045 - mse: 0.0045\n",
      "Epoch 31/50\n",
      "648/648 [==============================] - 86s 133ms/step - loss: 0.0050 - mse: 0.0050\n",
      "Epoch 32/50\n",
      "648/648 [==============================] - 87s 134ms/step - loss: 0.0046 - mse: 0.0046\n",
      "Epoch 33/50\n",
      "648/648 [==============================] - 87s 134ms/step - loss: 0.0045 - mse: 0.0045\n",
      "Epoch 34/50\n",
      "648/648 [==============================] - 86s 133ms/step - loss: 0.0045 - mse: 0.0045\n",
      "Epoch 35/50\n",
      "648/648 [==============================] - 86s 133ms/step - loss: 0.0046 - mse: 0.0046\n",
      "Epoch 36/50\n",
      "648/648 [==============================] - 86s 133ms/step - loss: 0.0047 - mse: 0.0047\n",
      "Epoch 37/50\n",
      "648/648 [==============================] - 87s 134ms/step - loss: 0.0047 - mse: 0.0047\n",
      "Epoch 38/50\n",
      "648/648 [==============================] - 87s 134ms/step - loss: 0.0048 - mse: 0.0048\n",
      "Epoch 39/50\n",
      "648/648 [==============================] - 86s 133ms/step - loss: 0.0043 - mse: 0.0043\n",
      "Epoch 40/50\n",
      "648/648 [==============================] - 87s 134ms/step - loss: 0.0044 - mse: 0.0044\n",
      "Epoch 41/50\n",
      "648/648 [==============================] - 87s 134ms/step - loss: 0.0044 - mse: 0.0044\n",
      "Epoch 42/50\n",
      "648/648 [==============================] - 87s 134ms/step - loss: 0.0046 - mse: 0.0046\n",
      "Epoch 43/50\n",
      "648/648 [==============================] - 87s 134ms/step - loss: 0.0041 - mse: 0.0041\n",
      "Epoch 44/50\n",
      "648/648 [==============================] - 87s 134ms/step - loss: 0.0044 - mse: 0.0044\n",
      "Epoch 45/50\n",
      "648/648 [==============================] - 90s 140ms/step - loss: 0.0041 - mse: 0.0041\n",
      "Epoch 46/50\n",
      "648/648 [==============================] - 88s 136ms/step - loss: 0.0043 - mse: 0.0043\n",
      "Epoch 47/50\n",
      "648/648 [==============================] - 87s 134ms/step - loss: 0.0041 - mse: 0.0041\n",
      "Epoch 48/50\n",
      "648/648 [==============================] - 87s 134ms/step - loss: 0.0042 - mse: 0.0042\n",
      "Epoch 49/50\n",
      "648/648 [==============================] - 87s 134ms/step - loss: 0.0041 - mse: 0.0041\n",
      "Epoch 50/50\n",
      "648/648 [==============================] - 87s 135ms/step - loss: 0.0044 - mse: 0.0044\n"
     ]
    }
   ],
   "source": [
    "history_bi_rnn = bi_rnn_model.fit(generator, epochs=50)"
   ]
  },
  {
   "cell_type": "code",
   "execution_count": 18,
   "id": "b917c579",
   "metadata": {},
   "outputs": [
    {
     "data": {
      "image/png": "[encoded data removed]",
      "text/plain": [
       "<Figure size 432x288 with 1 Axes>"
      ]
     },
     "metadata": {
      "needs_background": "light"
     },
     "output_type": "display_data"
    }
   ],
   "source": [
    "plt.plot(history_bi_rnn.history['loss'])\n",
    "plt.title('loss - mean squared error')\n",
    "plt.xlabel('epochs')\n",
    "plt.show()\n"
   ]
  },
  {
   "cell_type": "code",
   "execution_count": 19,
   "id": "9a57da31",
   "metadata": {},
   "outputs": [],
   "source": [
    "bi_rnn_predictions = []\n",
    "\n",
    "first_eval_batch = scaled_train[-n_input:]\n",
    "current_batch = first_eval_batch.reshape((1, n_input, 1))\n",
    "\n",
    "for i in range(len(pm25_test)):\n",
    "    \n",
    "    # get prediction 1 time stamp ahead ([0] is for grabbing just the number instead of [array])\n",
    "    current_pred = bi_rnn_model.predict(current_batch)[0]\n",
    "    \n",
    "    # store prediction\n",
    "    bi_rnn_predictions.append(current_pred) \n",
    "    \n",
    "    # update batch to now include prediction and drop first value\n",
    "    current_batch = np.append(current_batch[:,1:,:],[[current_pred]],axis=1)"
   ]
  },
  {
   "cell_type": "code",
   "execution_count": 20,
   "id": "77ec8f68",
   "metadata": {},
   "outputs": [],
   "source": [
    "bi_rnn_predictions = scaler.inverse_transform(bi_rnn_predictions)"
   ]
  },
  {
   "cell_type": "code",
   "execution_count": 30,
   "id": "08be26e1",
   "metadata": {},
   "outputs": [
    {
     "data": {
      "text/html": [
       "<div>\n",
       "<style scoped>\n",
       "    .dataframe tbody tr th:only-of-type {\n",
       "        vertical-align: middle;\n",
       "    }\n",
       "\n",
       "    .dataframe tbody tr th {\n",
       "        vertical-align: top;\n",
       "    }\n",
       "\n",
       "    .dataframe thead th {\n",
       "        text-align: right;\n",
       "    }\n",
       "</style>\n",
       "<table border=\"1\" class=\"dataframe\">\n",
       "  <thead>\n",
       "    <tr style=\"text-align: right;\">\n",
       "      <th></th>\n",
       "      <th>PM2.5</th>\n",
       "    </tr>\n",
       "    <tr>\n",
       "      <th>datetime</th>\n",
       "      <th></th>\n",
       "    </tr>\n",
       "  </thead>\n",
       "  <tbody>\n",
       "    <tr>\n",
       "      <th>2022-01-04 00:00:00</th>\n",
       "      <td>29</td>\n",
       "    </tr>\n",
       "    <tr>\n",
       "      <th>2022-01-04 01:00:00</th>\n",
       "      <td>35</td>\n",
       "    </tr>\n",
       "    <tr>\n",
       "      <th>2022-01-04 02:00:00</th>\n",
       "      <td>37</td>\n",
       "    </tr>\n",
       "    <tr>\n",
       "      <th>2022-01-04 03:00:00</th>\n",
       "      <td>47</td>\n",
       "    </tr>\n",
       "    <tr>\n",
       "      <th>2022-01-04 04:00:00</th>\n",
       "      <td>50</td>\n",
       "    </tr>\n",
       "  </tbody>\n",
       "</table>\n",
       "</div>"
      ],
      "text/plain": [
       "                     PM2.5\n",
       "datetime                  \n",
       "2022-01-04 00:00:00     29\n",
       "2022-01-04 01:00:00     35\n",
       "2022-01-04 02:00:00     37\n",
       "2022-01-04 03:00:00     47\n",
       "2022-01-04 04:00:00     50"
      ]
     },
     "execution_count": 30,
     "metadata": {},
     "output_type": "execute_result"
    }
   ],
   "source": [
    "test_df2 = pd.DataFrame(data['PM2.5'][-n_values:])\n",
    "test_df2.head()"
   ]
  },
  {
   "cell_type": "code",
   "execution_count": 31,
   "id": "09ab7592",
   "metadata": {},
   "outputs": [
    {
     "data": {
      "text/html": [
       "<div>\n",
       "<style scoped>\n",
       "    .dataframe tbody tr th:only-of-type {\n",
       "        vertical-align: middle;\n",
       "    }\n",
       "\n",
       "    .dataframe tbody tr th {\n",
       "        vertical-align: top;\n",
       "    }\n",
       "\n",
       "    .dataframe thead th {\n",
       "        text-align: right;\n",
       "    }\n",
       "</style>\n",
       "<table border=\"1\" class=\"dataframe\">\n",
       "  <thead>\n",
       "    <tr style=\"text-align: right;\">\n",
       "      <th></th>\n",
       "      <th>PM2.5</th>\n",
       "      <th>Predicted PM2.5_Bi</th>\n",
       "    </tr>\n",
       "    <tr>\n",
       "      <th>datetime</th>\n",
       "      <th></th>\n",
       "      <th></th>\n",
       "    </tr>\n",
       "  </thead>\n",
       "  <tbody>\n",
       "    <tr>\n",
       "      <th>2022-01-04 00:00:00</th>\n",
       "      <td>29</td>\n",
       "      <td>31.452607</td>\n",
       "    </tr>\n",
       "    <tr>\n",
       "      <th>2022-01-04 01:00:00</th>\n",
       "      <td>35</td>\n",
       "      <td>32.480589</td>\n",
       "    </tr>\n",
       "    <tr>\n",
       "      <th>2022-01-04 02:00:00</th>\n",
       "      <td>37</td>\n",
       "      <td>35.286287</td>\n",
       "    </tr>\n",
       "    <tr>\n",
       "      <th>2022-01-04 03:00:00</th>\n",
       "      <td>47</td>\n",
       "      <td>38.099231</td>\n",
       "    </tr>\n",
       "    <tr>\n",
       "      <th>2022-01-04 04:00:00</th>\n",
       "      <td>50</td>\n",
       "      <td>40.003850</td>\n",
       "    </tr>\n",
       "  </tbody>\n",
       "</table>\n",
       "</div>"
      ],
      "text/plain": [
       "                     PM2.5  Predicted PM2.5_Bi\n",
       "datetime                                      \n",
       "2022-01-04 00:00:00     29           31.452607\n",
       "2022-01-04 01:00:00     35           32.480589\n",
       "2022-01-04 02:00:00     37           35.286287\n",
       "2022-01-04 03:00:00     47           38.099231\n",
       "2022-01-04 04:00:00     50           40.003850"
      ]
     },
     "execution_count": 31,
     "metadata": {},
     "output_type": "execute_result"
    }
   ],
   "source": [
    "test_df2['Predicted PM2.5_Bi'] = bi_rnn_predictions\n",
    "test_df2.head()"
   ]
  },
  {
   "cell_type": "code",
   "execution_count": 32,
   "id": "78f815bd",
   "metadata": {},
   "outputs": [
    {
     "data": {
      "image/png": "[encoded data removed]",
      "text/plain": [
       "<Figure size 576x432 with 1 Axes>"
      ]
     },
     "metadata": {
      "needs_background": "light"
     },
     "output_type": "display_data"
    }
   ],
   "source": [
    "test_df2.plot(figsize=(8,6), color = ['blue', 'red']);\n",
    "plt.title(\"PM2.5 Prediction - Bidirectional RNN Model\")\n",
    "plt.ylabel('ug/m^3')\n",
    "plt.show()"
   ]
  },
  {
   "cell_type": "code",
   "execution_count": 33,
   "id": "f1eb39d8",
   "metadata": {},
   "outputs": [
    {
     "name": "stdout",
     "output_type": "stream",
     "text": [
      "RMSE from Bidirectional RNN Model: 11.799104446053526\n"
     ]
    }
   ],
   "source": [
    "rmse_bi_rnn = rmse(test_df2['PM2.5'], test_df2['Predicted PM2.5_Bi'])\n",
    "print(\"RMSE from Bidirectional RNN Model: {}\".format(str(rmse_bi_rnn)))"
   ]
  },
  {
   "cell_type": "markdown",
   "id": "747da45a",
   "metadata": {},
   "source": [
    "# Summary\n",
    "The PACF plots showed that pollutants changes in Din Daeng District, Bangkok had insignificantly relationship with its lag 1. Even though each pollutant seemed to have effects on each other, their errors after training with Vector Autoregression model did not clearly different from training with Autoregression model. Moreover, both VAR and AR models were still not good to predict the value in the next five days (120 hours) as their errors were still high compared to their means."
   ]
  }
 ],
 "metadata": {
  "kernelspec": {
   "display_name": "Python 3 (ipykernel)",
   "language": "python",
   "name": "python3"
  },
  "language_info": {
   "codemirror_mode": {
    "name": "ipython",
    "version": 3
   },
   "file_extension": ".py",
   "mimetype": "text/x-python",
   "name": "python",
   "nbconvert_exporter": "python",
   "pygments_lexer": "ipython3",
   "version": "3.8.10"
  }
 },
 "nbformat": 4,
 "nbformat_minor": 5
}
