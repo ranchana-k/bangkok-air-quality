{
 "cells": [
  {
   "cell_type": "markdown",
   "id": "35dab1eb",
   "metadata": {},
   "source": [
    "# Bangkok PM2.5 Forecast - RNN Models\n",
    "\n",
    "\n",
    "## Dataset\n",
    "The data collected for time series analysis and prediction with VAR and AR were from Dec 1, 2021 to Jan 5, 2022. As it was hourly measured, there were 864 rows in total with 815 rows (with differencing level 1) for training and 48 rows for testing. Then, the dataset was updated to Feb 23, 2022 09:00:00 in order to train with RNN model.\n",
    "\n",
    "## RNN Models\n",
    "The RNN models used to train and predict PM2.5 are unidirectional LSTM model.\n"
   ]
  },
  {
   "cell_type": "markdown",
   "id": "2b66041f",
   "metadata": {},
   "source": [
    "## Import libraries"
   ]
  },
  {
   "cell_type": "code",
   "execution_count": 38,
   "id": "e0cfb751",
   "metadata": {},
   "outputs": [],
   "source": [
    "import tensorflow as tf\n",
    "from tensorflow.keras.layers import Dense, LSTM, Bidirectional, Dropout, TimeDistributed\n",
    "from tensorflow.keras.models import Model\n",
    "from tensorflow.keras.preprocessing.sequence import TimeseriesGenerator\n",
    "from tensorflow.keras.optimizers import Adam\n",
    "from tensorflow.keras import Sequential\n",
    "from sklearn.preprocessing import StandardScaler\n",
    "from tensorflow.keras.regularizers import l2\n",
    "\n",
    "import matplotlib.pyplot as plt\n",
    "import pandas as pd\n",
    "import numpy as np\n",
    "import random\n",
    "import os\n",
    "%matplotlib inline\n",
    "\n",
    "from statsmodels.tools.eval_measures import rmse"
   ]
  },
  {
   "cell_type": "code",
   "execution_count": 2,
   "id": "9efe66d6",
   "metadata": {},
   "outputs": [
    {
     "name": "stderr",
     "output_type": "stream",
     "text": [
      "2022-02-28 02:37:35.087201: I tensorflow/core/platform/cpu_feature_guard.cc:151] This TensorFlow binary is optimized with oneAPI Deep Neural Network Library (oneDNN) to use the following CPU instructions in performance-critical operations:  AVX2 FMA\n",
      "To enable them in other operations, rebuild TensorFlow with the appropriate compiler flags.\n",
      "2022-02-28 02:37:35.091181: W tensorflow/stream_executor/platform/default/dso_loader.cc:64] Could not load dynamic library 'libcuda.so.1'; dlerror: libcuda.so.1: cannot open shared object file: No such file or directory\n",
      "2022-02-28 02:37:35.091462: W tensorflow/stream_executor/cuda/cuda_driver.cc:269] failed call to cuInit: UNKNOWN ERROR (303)\n",
      "2022-02-28 02:37:35.091492: I tensorflow/stream_executor/cuda/cuda_diagnostics.cc:156] kernel driver does not appear to be running on this host (jabib-Lenovo-ideapad-700-15ISK): /proc/driver/nvidia/version does not exist\n"
     ]
    },
    {
     "name": "stdout",
     "output_type": "stream",
     "text": [
      "WARNING:tensorflow:From /tmp/ipykernel_8799/3183241957.py:10: The name tf.keras.backend.set_session is deprecated. Please use tf.compat.v1.keras.backend.set_session instead.\n",
      "\n"
     ]
    }
   ],
   "source": [
    "# Reproduce\n",
    "SEED = 22\n",
    "os.environ['PYTHONHASHSEED']=str(SEED)\n",
    "random.seed(SEED)\n",
    "np.random.seed(SEED)\n",
    "tf.random.set_seed(SEED)\n",
    "\n",
    "session_conf = tf.compat.v1.ConfigProto(intra_op_parallelism_threads=1, inter_op_parallelism_threads=1)\n",
    "sess = tf.compat.v1.Session(graph=tf.compat.v1.get_default_graph(), config=session_conf)\n",
    "tf.compat.v1.keras.backend.set_session(sess)"
   ]
  },
  {
   "cell_type": "markdown",
   "id": "882032e5",
   "metadata": {},
   "source": [
    "## Import Data and Data Preparation"
   ]
  },
  {
   "cell_type": "code",
   "execution_count": 3,
   "id": "de9ec789",
   "metadata": {},
   "outputs": [],
   "source": [
    "df1 = pd.read_csv('report_54t_dindaeng.csv')\n",
    "df2 = pd.read_csv('report_54t_dindaeng2.csv')"
   ]
  },
  {
   "cell_type": "code",
   "execution_count": 4,
   "id": "c9206267",
   "metadata": {},
   "outputs": [
    {
     "name": "stdout",
     "output_type": "stream",
     "text": [
      "864\n",
      "1162\n"
     ]
    }
   ],
   "source": [
    "print(len(df1))\n",
    "print(len(df2))"
   ]
  },
  {
   "cell_type": "code",
   "execution_count": 5,
   "id": "9b7e3bbc",
   "metadata": {},
   "outputs": [
    {
     "data": {
      "text/html": [
       "<div>\n",
       "<style scoped>\n",
       "    .dataframe tbody tr th:only-of-type {\n",
       "        vertical-align: middle;\n",
       "    }\n",
       "\n",
       "    .dataframe tbody tr th {\n",
       "        vertical-align: top;\n",
       "    }\n",
       "\n",
       "    .dataframe thead th {\n",
       "        text-align: right;\n",
       "    }\n",
       "</style>\n",
       "<table border=\"1\" class=\"dataframe\">\n",
       "  <thead>\n",
       "    <tr style=\"text-align: right;\">\n",
       "      <th></th>\n",
       "      <th>No</th>\n",
       "      <th>date</th>\n",
       "      <th>time</th>\n",
       "      <th>PM2.5</th>\n",
       "      <th>PM10</th>\n",
       "      <th>O3</th>\n",
       "      <th>CO</th>\n",
       "      <th>NO2</th>\n",
       "    </tr>\n",
       "  </thead>\n",
       "  <tbody>\n",
       "    <tr>\n",
       "      <th>0</th>\n",
       "      <td>1</td>\n",
       "      <td>2021-12-01</td>\n",
       "      <td>00:00 - 01:00</td>\n",
       "      <td>32</td>\n",
       "      <td>79</td>\n",
       "      <td>18.0</td>\n",
       "      <td>1.28</td>\n",
       "      <td>32.0</td>\n",
       "    </tr>\n",
       "    <tr>\n",
       "      <th>1</th>\n",
       "      <td>2</td>\n",
       "      <td>2021-12-01</td>\n",
       "      <td>01:00 - 02:00</td>\n",
       "      <td>27</td>\n",
       "      <td>78</td>\n",
       "      <td>19.0</td>\n",
       "      <td>1.23</td>\n",
       "      <td>29.0</td>\n",
       "    </tr>\n",
       "    <tr>\n",
       "      <th>2</th>\n",
       "      <td>3</td>\n",
       "      <td>2021-12-01</td>\n",
       "      <td>02:00 - 03:00</td>\n",
       "      <td>25</td>\n",
       "      <td>74</td>\n",
       "      <td>21.0</td>\n",
       "      <td>1.22</td>\n",
       "      <td>25.0</td>\n",
       "    </tr>\n",
       "    <tr>\n",
       "      <th>3</th>\n",
       "      <td>4</td>\n",
       "      <td>2021-12-01</td>\n",
       "      <td>03:00 - 04:00</td>\n",
       "      <td>33</td>\n",
       "      <td>72</td>\n",
       "      <td>30.0</td>\n",
       "      <td>1.15</td>\n",
       "      <td>18.0</td>\n",
       "    </tr>\n",
       "    <tr>\n",
       "      <th>4</th>\n",
       "      <td>5</td>\n",
       "      <td>2021-12-01</td>\n",
       "      <td>04:00 - 05:00</td>\n",
       "      <td>40</td>\n",
       "      <td>66</td>\n",
       "      <td>19.0</td>\n",
       "      <td>1.23</td>\n",
       "      <td>26.0</td>\n",
       "    </tr>\n",
       "  </tbody>\n",
       "</table>\n",
       "</div>"
      ],
      "text/plain": [
       "   No        date           time  PM2.5  PM10    O3    CO   NO2\n",
       "0   1  2021-12-01  00:00 - 01:00     32    79  18.0  1.28  32.0\n",
       "1   2  2021-12-01  01:00 - 02:00     27    78  19.0  1.23  29.0\n",
       "2   3  2021-12-01  02:00 - 03:00     25    74  21.0  1.22  25.0\n",
       "3   4  2021-12-01  03:00 - 04:00     33    72  30.0  1.15  18.0\n",
       "4   5  2021-12-01  04:00 - 05:00     40    66  19.0  1.23  26.0"
      ]
     },
     "execution_count": 5,
     "metadata": {},
     "output_type": "execute_result"
    }
   ],
   "source": [
    "raw_data = pd.concat([df1, df2])\n",
    "raw_data.head()"
   ]
  },
  {
   "cell_type": "code",
   "execution_count": 6,
   "id": "9529a35d",
   "metadata": {},
   "outputs": [],
   "source": [
    "# drop 'No' column \n",
    "raw_data = raw_data.drop(['No'], axis=1)"
   ]
  },
  {
   "cell_type": "code",
   "execution_count": 7,
   "id": "3336994b",
   "metadata": {},
   "outputs": [
    {
     "data": {
      "text/html": [
       "<div>\n",
       "<style scoped>\n",
       "    .dataframe tbody tr th:only-of-type {\n",
       "        vertical-align: middle;\n",
       "    }\n",
       "\n",
       "    .dataframe tbody tr th {\n",
       "        vertical-align: top;\n",
       "    }\n",
       "\n",
       "    .dataframe thead th {\n",
       "        text-align: right;\n",
       "    }\n",
       "</style>\n",
       "<table border=\"1\" class=\"dataframe\">\n",
       "  <thead>\n",
       "    <tr style=\"text-align: right;\">\n",
       "      <th></th>\n",
       "      <th>date</th>\n",
       "      <th>time</th>\n",
       "      <th>PM2.5</th>\n",
       "      <th>PM10</th>\n",
       "      <th>O3</th>\n",
       "      <th>CO</th>\n",
       "      <th>NO2</th>\n",
       "      <th>time_</th>\n",
       "    </tr>\n",
       "  </thead>\n",
       "  <tbody>\n",
       "    <tr>\n",
       "      <th>0</th>\n",
       "      <td>2021-12-01</td>\n",
       "      <td>00:00 - 01:00</td>\n",
       "      <td>32</td>\n",
       "      <td>79</td>\n",
       "      <td>18.0</td>\n",
       "      <td>1.28</td>\n",
       "      <td>32.0</td>\n",
       "      <td>00:00</td>\n",
       "    </tr>\n",
       "    <tr>\n",
       "      <th>1</th>\n",
       "      <td>2021-12-01</td>\n",
       "      <td>01:00 - 02:00</td>\n",
       "      <td>27</td>\n",
       "      <td>78</td>\n",
       "      <td>19.0</td>\n",
       "      <td>1.23</td>\n",
       "      <td>29.0</td>\n",
       "      <td>01:00</td>\n",
       "    </tr>\n",
       "    <tr>\n",
       "      <th>2</th>\n",
       "      <td>2021-12-01</td>\n",
       "      <td>02:00 - 03:00</td>\n",
       "      <td>25</td>\n",
       "      <td>74</td>\n",
       "      <td>21.0</td>\n",
       "      <td>1.22</td>\n",
       "      <td>25.0</td>\n",
       "      <td>02:00</td>\n",
       "    </tr>\n",
       "    <tr>\n",
       "      <th>3</th>\n",
       "      <td>2021-12-01</td>\n",
       "      <td>03:00 - 04:00</td>\n",
       "      <td>33</td>\n",
       "      <td>72</td>\n",
       "      <td>30.0</td>\n",
       "      <td>1.15</td>\n",
       "      <td>18.0</td>\n",
       "      <td>03:00</td>\n",
       "    </tr>\n",
       "    <tr>\n",
       "      <th>4</th>\n",
       "      <td>2021-12-01</td>\n",
       "      <td>04:00 - 05:00</td>\n",
       "      <td>40</td>\n",
       "      <td>66</td>\n",
       "      <td>19.0</td>\n",
       "      <td>1.23</td>\n",
       "      <td>26.0</td>\n",
       "      <td>04:00</td>\n",
       "    </tr>\n",
       "  </tbody>\n",
       "</table>\n",
       "</div>"
      ],
      "text/plain": [
       "         date           time  PM2.5  PM10    O3    CO   NO2  time_\n",
       "0  2021-12-01  00:00 - 01:00     32    79  18.0  1.28  32.0  00:00\n",
       "1  2021-12-01  01:00 - 02:00     27    78  19.0  1.23  29.0  01:00\n",
       "2  2021-12-01  02:00 - 03:00     25    74  21.0  1.22  25.0  02:00\n",
       "3  2021-12-01  03:00 - 04:00     33    72  30.0  1.15  18.0  03:00\n",
       "4  2021-12-01  04:00 - 05:00     40    66  19.0  1.23  26.0  04:00"
      ]
     },
     "execution_count": 7,
     "metadata": {},
     "output_type": "execute_result"
    }
   ],
   "source": [
    "raw_data['time_'] = raw_data['time'].str.split().str.get(0)\n",
    "raw_data.head()"
   ]
  },
  {
   "cell_type": "code",
   "execution_count": 8,
   "id": "bb827676",
   "metadata": {},
   "outputs": [
    {
     "data": {
      "text/html": [
       "<div>\n",
       "<style scoped>\n",
       "    .dataframe tbody tr th:only-of-type {\n",
       "        vertical-align: middle;\n",
       "    }\n",
       "\n",
       "    .dataframe tbody tr th {\n",
       "        vertical-align: top;\n",
       "    }\n",
       "\n",
       "    .dataframe thead th {\n",
       "        text-align: right;\n",
       "    }\n",
       "</style>\n",
       "<table border=\"1\" class=\"dataframe\">\n",
       "  <thead>\n",
       "    <tr style=\"text-align: right;\">\n",
       "      <th></th>\n",
       "      <th>date</th>\n",
       "      <th>time</th>\n",
       "      <th>PM2.5</th>\n",
       "      <th>PM10</th>\n",
       "      <th>O3</th>\n",
       "      <th>CO</th>\n",
       "      <th>NO2</th>\n",
       "      <th>time_</th>\n",
       "      <th>datetime</th>\n",
       "    </tr>\n",
       "  </thead>\n",
       "  <tbody>\n",
       "    <tr>\n",
       "      <th>0</th>\n",
       "      <td>2021-12-01</td>\n",
       "      <td>00:00 - 01:00</td>\n",
       "      <td>32</td>\n",
       "      <td>79</td>\n",
       "      <td>18.0</td>\n",
       "      <td>1.28</td>\n",
       "      <td>32.0</td>\n",
       "      <td>00:00</td>\n",
       "      <td>2021-12-01 00:00:00</td>\n",
       "    </tr>\n",
       "    <tr>\n",
       "      <th>1</th>\n",
       "      <td>2021-12-01</td>\n",
       "      <td>01:00 - 02:00</td>\n",
       "      <td>27</td>\n",
       "      <td>78</td>\n",
       "      <td>19.0</td>\n",
       "      <td>1.23</td>\n",
       "      <td>29.0</td>\n",
       "      <td>01:00</td>\n",
       "      <td>2021-12-01 01:00:00</td>\n",
       "    </tr>\n",
       "    <tr>\n",
       "      <th>2</th>\n",
       "      <td>2021-12-01</td>\n",
       "      <td>02:00 - 03:00</td>\n",
       "      <td>25</td>\n",
       "      <td>74</td>\n",
       "      <td>21.0</td>\n",
       "      <td>1.22</td>\n",
       "      <td>25.0</td>\n",
       "      <td>02:00</td>\n",
       "      <td>2021-12-01 02:00:00</td>\n",
       "    </tr>\n",
       "    <tr>\n",
       "      <th>3</th>\n",
       "      <td>2021-12-01</td>\n",
       "      <td>03:00 - 04:00</td>\n",
       "      <td>33</td>\n",
       "      <td>72</td>\n",
       "      <td>30.0</td>\n",
       "      <td>1.15</td>\n",
       "      <td>18.0</td>\n",
       "      <td>03:00</td>\n",
       "      <td>2021-12-01 03:00:00</td>\n",
       "    </tr>\n",
       "    <tr>\n",
       "      <th>4</th>\n",
       "      <td>2021-12-01</td>\n",
       "      <td>04:00 - 05:00</td>\n",
       "      <td>40</td>\n",
       "      <td>66</td>\n",
       "      <td>19.0</td>\n",
       "      <td>1.23</td>\n",
       "      <td>26.0</td>\n",
       "      <td>04:00</td>\n",
       "      <td>2021-12-01 04:00:00</td>\n",
       "    </tr>\n",
       "  </tbody>\n",
       "</table>\n",
       "</div>"
      ],
      "text/plain": [
       "         date           time  PM2.5  PM10    O3    CO   NO2  time_  \\\n",
       "0  2021-12-01  00:00 - 01:00     32    79  18.0  1.28  32.0  00:00   \n",
       "1  2021-12-01  01:00 - 02:00     27    78  19.0  1.23  29.0  01:00   \n",
       "2  2021-12-01  02:00 - 03:00     25    74  21.0  1.22  25.0  02:00   \n",
       "3  2021-12-01  03:00 - 04:00     33    72  30.0  1.15  18.0  03:00   \n",
       "4  2021-12-01  04:00 - 05:00     40    66  19.0  1.23  26.0  04:00   \n",
       "\n",
       "              datetime  \n",
       "0  2021-12-01 00:00:00  \n",
       "1  2021-12-01 01:00:00  \n",
       "2  2021-12-01 02:00:00  \n",
       "3  2021-12-01 03:00:00  \n",
       "4  2021-12-01 04:00:00  "
      ]
     },
     "execution_count": 8,
     "metadata": {},
     "output_type": "execute_result"
    }
   ],
   "source": [
    "raw_data['datetime'] = raw_data['date'] + ' ' + raw_data['time_'] + ':00'\n",
    "raw_data.head()"
   ]
  },
  {
   "cell_type": "code",
   "execution_count": 9,
   "id": "e942a7b2",
   "metadata": {},
   "outputs": [
    {
     "data": {
      "text/html": [
       "<div>\n",
       "<style scoped>\n",
       "    .dataframe tbody tr th:only-of-type {\n",
       "        vertical-align: middle;\n",
       "    }\n",
       "\n",
       "    .dataframe tbody tr th {\n",
       "        vertical-align: top;\n",
       "    }\n",
       "\n",
       "    .dataframe thead th {\n",
       "        text-align: right;\n",
       "    }\n",
       "</style>\n",
       "<table border=\"1\" class=\"dataframe\">\n",
       "  <thead>\n",
       "    <tr style=\"text-align: right;\">\n",
       "      <th></th>\n",
       "      <th>datetime</th>\n",
       "      <th>PM2.5</th>\n",
       "      <th>PM10</th>\n",
       "      <th>O3</th>\n",
       "      <th>CO</th>\n",
       "      <th>NO2</th>\n",
       "    </tr>\n",
       "  </thead>\n",
       "  <tbody>\n",
       "    <tr>\n",
       "      <th>0</th>\n",
       "      <td>2021-12-01 00:00:00</td>\n",
       "      <td>32</td>\n",
       "      <td>79</td>\n",
       "      <td>18.0</td>\n",
       "      <td>1.28</td>\n",
       "      <td>32.0</td>\n",
       "    </tr>\n",
       "    <tr>\n",
       "      <th>1</th>\n",
       "      <td>2021-12-01 01:00:00</td>\n",
       "      <td>27</td>\n",
       "      <td>78</td>\n",
       "      <td>19.0</td>\n",
       "      <td>1.23</td>\n",
       "      <td>29.0</td>\n",
       "    </tr>\n",
       "    <tr>\n",
       "      <th>2</th>\n",
       "      <td>2021-12-01 02:00:00</td>\n",
       "      <td>25</td>\n",
       "      <td>74</td>\n",
       "      <td>21.0</td>\n",
       "      <td>1.22</td>\n",
       "      <td>25.0</td>\n",
       "    </tr>\n",
       "    <tr>\n",
       "      <th>3</th>\n",
       "      <td>2021-12-01 03:00:00</td>\n",
       "      <td>33</td>\n",
       "      <td>72</td>\n",
       "      <td>30.0</td>\n",
       "      <td>1.15</td>\n",
       "      <td>18.0</td>\n",
       "    </tr>\n",
       "    <tr>\n",
       "      <th>4</th>\n",
       "      <td>2021-12-01 04:00:00</td>\n",
       "      <td>40</td>\n",
       "      <td>66</td>\n",
       "      <td>19.0</td>\n",
       "      <td>1.23</td>\n",
       "      <td>26.0</td>\n",
       "    </tr>\n",
       "  </tbody>\n",
       "</table>\n",
       "</div>"
      ],
      "text/plain": [
       "              datetime  PM2.5  PM10    O3    CO   NO2\n",
       "0  2021-12-01 00:00:00     32    79  18.0  1.28  32.0\n",
       "1  2021-12-01 01:00:00     27    78  19.0  1.23  29.0\n",
       "2  2021-12-01 02:00:00     25    74  21.0  1.22  25.0\n",
       "3  2021-12-01 03:00:00     33    72  30.0  1.15  18.0\n",
       "4  2021-12-01 04:00:00     40    66  19.0  1.23  26.0"
      ]
     },
     "execution_count": 9,
     "metadata": {},
     "output_type": "execute_result"
    }
   ],
   "source": [
    "pollutants = raw_data[['datetime', 'PM2.5', 'PM10', 'O3', 'CO', 'NO2']]\n",
    "pollutants.head()"
   ]
  },
  {
   "cell_type": "code",
   "execution_count": 10,
   "id": "f52a5181",
   "metadata": {},
   "outputs": [
    {
     "name": "stderr",
     "output_type": "stream",
     "text": [
      "/tmp/ipykernel_8799/2103422390.py:1: SettingWithCopyWarning: \n",
      "A value is trying to be set on a copy of a slice from a DataFrame.\n",
      "Try using .loc[row_indexer,col_indexer] = value instead\n",
      "\n",
      "See the caveats in the documentation: https://pandas.pydata.org/pandas-docs/stable/user_guide/indexing.html#returning-a-view-versus-a-copy\n",
      "  pollutants['datetime'] = pd.to_datetime(pollutants[\"datetime\"])\n"
     ]
    }
   ],
   "source": [
    "pollutants['datetime'] = pd.to_datetime(pollutants[\"datetime\"])\n",
    "pollutants.set_index('datetime', inplace=True)\n",
    "pollutants.index.freq = 'H'"
   ]
  },
  {
   "cell_type": "code",
   "execution_count": 11,
   "id": "81c1d9c5",
   "metadata": {},
   "outputs": [
    {
     "data": {
      "text/html": [
       "<div>\n",
       "<style scoped>\n",
       "    .dataframe tbody tr th:only-of-type {\n",
       "        vertical-align: middle;\n",
       "    }\n",
       "\n",
       "    .dataframe tbody tr th {\n",
       "        vertical-align: top;\n",
       "    }\n",
       "\n",
       "    .dataframe thead th {\n",
       "        text-align: right;\n",
       "    }\n",
       "</style>\n",
       "<table border=\"1\" class=\"dataframe\">\n",
       "  <thead>\n",
       "    <tr style=\"text-align: right;\">\n",
       "      <th></th>\n",
       "      <th>PM2.5</th>\n",
       "      <th>PM10</th>\n",
       "      <th>O3</th>\n",
       "      <th>CO</th>\n",
       "      <th>NO2</th>\n",
       "    </tr>\n",
       "    <tr>\n",
       "      <th>datetime</th>\n",
       "      <th></th>\n",
       "      <th></th>\n",
       "      <th></th>\n",
       "      <th></th>\n",
       "      <th></th>\n",
       "    </tr>\n",
       "  </thead>\n",
       "  <tbody>\n",
       "    <tr>\n",
       "      <th>2021-12-01 00:00:00</th>\n",
       "      <td>32</td>\n",
       "      <td>79</td>\n",
       "      <td>18.0</td>\n",
       "      <td>1.28</td>\n",
       "      <td>32.0</td>\n",
       "    </tr>\n",
       "    <tr>\n",
       "      <th>2021-12-01 01:00:00</th>\n",
       "      <td>27</td>\n",
       "      <td>78</td>\n",
       "      <td>19.0</td>\n",
       "      <td>1.23</td>\n",
       "      <td>29.0</td>\n",
       "    </tr>\n",
       "    <tr>\n",
       "      <th>2021-12-01 02:00:00</th>\n",
       "      <td>25</td>\n",
       "      <td>74</td>\n",
       "      <td>21.0</td>\n",
       "      <td>1.22</td>\n",
       "      <td>25.0</td>\n",
       "    </tr>\n",
       "    <tr>\n",
       "      <th>2021-12-01 03:00:00</th>\n",
       "      <td>33</td>\n",
       "      <td>72</td>\n",
       "      <td>30.0</td>\n",
       "      <td>1.15</td>\n",
       "      <td>18.0</td>\n",
       "    </tr>\n",
       "    <tr>\n",
       "      <th>2021-12-01 04:00:00</th>\n",
       "      <td>40</td>\n",
       "      <td>66</td>\n",
       "      <td>19.0</td>\n",
       "      <td>1.23</td>\n",
       "      <td>26.0</td>\n",
       "    </tr>\n",
       "  </tbody>\n",
       "</table>\n",
       "</div>"
      ],
      "text/plain": [
       "                     PM2.5  PM10    O3    CO   NO2\n",
       "datetime                                          \n",
       "2021-12-01 00:00:00     32    79  18.0  1.28  32.0\n",
       "2021-12-01 01:00:00     27    78  19.0  1.23  29.0\n",
       "2021-12-01 02:00:00     25    74  21.0  1.22  25.0\n",
       "2021-12-01 03:00:00     33    72  30.0  1.15  18.0\n",
       "2021-12-01 04:00:00     40    66  19.0  1.23  26.0"
      ]
     },
     "execution_count": 11,
     "metadata": {},
     "output_type": "execute_result"
    }
   ],
   "source": [
    "pollutants.head()"
   ]
  },
  {
   "cell_type": "code",
   "execution_count": 12,
   "id": "cd12d5e0",
   "metadata": {},
   "outputs": [
    {
     "data": {
      "text/plain": [
       "DatetimeIndex(['2021-12-01 00:00:00', '2021-12-01 01:00:00',\n",
       "               '2021-12-01 02:00:00', '2021-12-01 03:00:00',\n",
       "               '2021-12-01 04:00:00', '2021-12-01 05:00:00',\n",
       "               '2021-12-01 06:00:00', '2021-12-01 07:00:00',\n",
       "               '2021-12-01 08:00:00', '2021-12-01 09:00:00',\n",
       "               ...\n",
       "               '2022-02-23 00:00:00', '2022-02-23 01:00:00',\n",
       "               '2022-02-23 02:00:00', '2022-02-23 03:00:00',\n",
       "               '2022-02-23 04:00:00', '2022-02-23 05:00:00',\n",
       "               '2022-02-23 06:00:00', '2022-02-23 07:00:00',\n",
       "               '2022-02-23 08:00:00', '2022-02-23 09:00:00'],\n",
       "              dtype='datetime64[ns]', name='datetime', length=2026, freq='H')"
      ]
     },
     "execution_count": 12,
     "metadata": {},
     "output_type": "execute_result"
    }
   ],
   "source": [
    "pollutants.index"
   ]
  },
  {
   "cell_type": "code",
   "execution_count": 13,
   "id": "1e649877",
   "metadata": {},
   "outputs": [
    {
     "data": {
      "text/plain": [
       "PM2.5      0\n",
       "PM10       0\n",
       "O3       199\n",
       "CO       145\n",
       "NO2      145\n",
       "dtype: int64"
      ]
     },
     "execution_count": 13,
     "metadata": {},
     "output_type": "execute_result"
    }
   ],
   "source": [
    "pollutants.isna().sum()"
   ]
  },
  {
   "cell_type": "code",
   "execution_count": 14,
   "id": "d60519db",
   "metadata": {},
   "outputs": [
    {
     "data": {
      "text/plain": [
       "PM2.5    0\n",
       "PM10     0\n",
       "O3       0\n",
       "CO       0\n",
       "NO2      0\n",
       "dtype: int64"
      ]
     },
     "execution_count": 14,
     "metadata": {},
     "output_type": "execute_result"
    }
   ],
   "source": [
    "cleaned_pollutants = pollutants.fillna(method='ffill')\n",
    "cleaned_pollutants.isna().sum()"
   ]
  },
  {
   "cell_type": "code",
   "execution_count": 15,
   "id": "f57ec8be",
   "metadata": {},
   "outputs": [],
   "source": [
    "cleaned_pollutants.to_csv('cleaned_dataset_updated.csv')"
   ]
  },
  {
   "cell_type": "code",
   "execution_count": 16,
   "id": "0c4f840c",
   "metadata": {},
   "outputs": [],
   "source": [
    "data = pd.read_csv('cleaned_dataset_updated.csv')"
   ]
  },
  {
   "cell_type": "code",
   "execution_count": 17,
   "id": "5741710b",
   "metadata": {},
   "outputs": [
    {
     "data": {
      "text/html": [
       "<div>\n",
       "<style scoped>\n",
       "    .dataframe tbody tr th:only-of-type {\n",
       "        vertical-align: middle;\n",
       "    }\n",
       "\n",
       "    .dataframe tbody tr th {\n",
       "        vertical-align: top;\n",
       "    }\n",
       "\n",
       "    .dataframe thead th {\n",
       "        text-align: right;\n",
       "    }\n",
       "</style>\n",
       "<table border=\"1\" class=\"dataframe\">\n",
       "  <thead>\n",
       "    <tr style=\"text-align: right;\">\n",
       "      <th></th>\n",
       "      <th>datetime</th>\n",
       "      <th>PM2.5</th>\n",
       "      <th>PM10</th>\n",
       "      <th>O3</th>\n",
       "      <th>CO</th>\n",
       "      <th>NO2</th>\n",
       "    </tr>\n",
       "  </thead>\n",
       "  <tbody>\n",
       "    <tr>\n",
       "      <th>0</th>\n",
       "      <td>2021-12-01 00:00:00</td>\n",
       "      <td>32</td>\n",
       "      <td>79</td>\n",
       "      <td>18.0</td>\n",
       "      <td>1.28</td>\n",
       "      <td>32.0</td>\n",
       "    </tr>\n",
       "    <tr>\n",
       "      <th>1</th>\n",
       "      <td>2021-12-01 01:00:00</td>\n",
       "      <td>27</td>\n",
       "      <td>78</td>\n",
       "      <td>19.0</td>\n",
       "      <td>1.23</td>\n",
       "      <td>29.0</td>\n",
       "    </tr>\n",
       "    <tr>\n",
       "      <th>2</th>\n",
       "      <td>2021-12-01 02:00:00</td>\n",
       "      <td>25</td>\n",
       "      <td>74</td>\n",
       "      <td>21.0</td>\n",
       "      <td>1.22</td>\n",
       "      <td>25.0</td>\n",
       "    </tr>\n",
       "    <tr>\n",
       "      <th>3</th>\n",
       "      <td>2021-12-01 03:00:00</td>\n",
       "      <td>33</td>\n",
       "      <td>72</td>\n",
       "      <td>30.0</td>\n",
       "      <td>1.15</td>\n",
       "      <td>18.0</td>\n",
       "    </tr>\n",
       "    <tr>\n",
       "      <th>4</th>\n",
       "      <td>2021-12-01 04:00:00</td>\n",
       "      <td>40</td>\n",
       "      <td>66</td>\n",
       "      <td>19.0</td>\n",
       "      <td>1.23</td>\n",
       "      <td>26.0</td>\n",
       "    </tr>\n",
       "  </tbody>\n",
       "</table>\n",
       "</div>"
      ],
      "text/plain": [
       "              datetime  PM2.5  PM10    O3    CO   NO2\n",
       "0  2021-12-01 00:00:00     32    79  18.0  1.28  32.0\n",
       "1  2021-12-01 01:00:00     27    78  19.0  1.23  29.0\n",
       "2  2021-12-01 02:00:00     25    74  21.0  1.22  25.0\n",
       "3  2021-12-01 03:00:00     33    72  30.0  1.15  18.0\n",
       "4  2021-12-01 04:00:00     40    66  19.0  1.23  26.0"
      ]
     },
     "execution_count": 17,
     "metadata": {},
     "output_type": "execute_result"
    }
   ],
   "source": [
    "data.head()"
   ]
  },
  {
   "cell_type": "code",
   "execution_count": 18,
   "id": "e0dc2c43",
   "metadata": {},
   "outputs": [],
   "source": [
    "data['datetime'] = pd.to_datetime(data[\"datetime\"])\n",
    "data.set_index('datetime', inplace=True)\n",
    "data.index.freq = 'H'"
   ]
  },
  {
   "cell_type": "code",
   "execution_count": 19,
   "id": "c03a708f",
   "metadata": {},
   "outputs": [
    {
     "data": {
      "text/html": [
       "<div>\n",
       "<style scoped>\n",
       "    .dataframe tbody tr th:only-of-type {\n",
       "        vertical-align: middle;\n",
       "    }\n",
       "\n",
       "    .dataframe tbody tr th {\n",
       "        vertical-align: top;\n",
       "    }\n",
       "\n",
       "    .dataframe thead th {\n",
       "        text-align: right;\n",
       "    }\n",
       "</style>\n",
       "<table border=\"1\" class=\"dataframe\">\n",
       "  <thead>\n",
       "    <tr style=\"text-align: right;\">\n",
       "      <th></th>\n",
       "      <th>PM2.5</th>\n",
       "      <th>PM10</th>\n",
       "      <th>O3</th>\n",
       "      <th>CO</th>\n",
       "      <th>NO2</th>\n",
       "    </tr>\n",
       "    <tr>\n",
       "      <th>datetime</th>\n",
       "      <th></th>\n",
       "      <th></th>\n",
       "      <th></th>\n",
       "      <th></th>\n",
       "      <th></th>\n",
       "    </tr>\n",
       "  </thead>\n",
       "  <tbody>\n",
       "    <tr>\n",
       "      <th>2021-12-01 00:00:00</th>\n",
       "      <td>32</td>\n",
       "      <td>79</td>\n",
       "      <td>18.0</td>\n",
       "      <td>1.28</td>\n",
       "      <td>32.0</td>\n",
       "    </tr>\n",
       "    <tr>\n",
       "      <th>2021-12-01 01:00:00</th>\n",
       "      <td>27</td>\n",
       "      <td>78</td>\n",
       "      <td>19.0</td>\n",
       "      <td>1.23</td>\n",
       "      <td>29.0</td>\n",
       "    </tr>\n",
       "    <tr>\n",
       "      <th>2021-12-01 02:00:00</th>\n",
       "      <td>25</td>\n",
       "      <td>74</td>\n",
       "      <td>21.0</td>\n",
       "      <td>1.22</td>\n",
       "      <td>25.0</td>\n",
       "    </tr>\n",
       "    <tr>\n",
       "      <th>2021-12-01 03:00:00</th>\n",
       "      <td>33</td>\n",
       "      <td>72</td>\n",
       "      <td>30.0</td>\n",
       "      <td>1.15</td>\n",
       "      <td>18.0</td>\n",
       "    </tr>\n",
       "    <tr>\n",
       "      <th>2021-12-01 04:00:00</th>\n",
       "      <td>40</td>\n",
       "      <td>66</td>\n",
       "      <td>19.0</td>\n",
       "      <td>1.23</td>\n",
       "      <td>26.0</td>\n",
       "    </tr>\n",
       "  </tbody>\n",
       "</table>\n",
       "</div>"
      ],
      "text/plain": [
       "                     PM2.5  PM10    O3    CO   NO2\n",
       "datetime                                          \n",
       "2021-12-01 00:00:00     32    79  18.0  1.28  32.0\n",
       "2021-12-01 01:00:00     27    78  19.0  1.23  29.0\n",
       "2021-12-01 02:00:00     25    74  21.0  1.22  25.0\n",
       "2021-12-01 03:00:00     33    72  30.0  1.15  18.0\n",
       "2021-12-01 04:00:00     40    66  19.0  1.23  26.0"
      ]
     },
     "execution_count": 19,
     "metadata": {},
     "output_type": "execute_result"
    }
   ],
   "source": [
    "data.head()"
   ]
  },
  {
   "cell_type": "code",
   "execution_count": 20,
   "id": "8ff3da7a",
   "metadata": {},
   "outputs": [
    {
     "data": {
      "text/plain": [
       "2026"
      ]
     },
     "execution_count": 20,
     "metadata": {},
     "output_type": "execute_result"
    }
   ],
   "source": [
    "len(data)"
   ]
  },
  {
   "cell_type": "code",
   "execution_count": 21,
   "id": "5afa6313",
   "metadata": {},
   "outputs": [
    {
     "data": {
      "text/plain": [
       "(2026, 1)"
      ]
     },
     "execution_count": 21,
     "metadata": {},
     "output_type": "execute_result"
    }
   ],
   "source": [
    "pm25 = data['PM2.5'].values.reshape(-1,1)\n",
    "pm25.shape"
   ]
  },
  {
   "cell_type": "code",
   "execution_count": 23,
   "id": "201801a2",
   "metadata": {},
   "outputs": [
    {
     "data": {
      "image/png": "[encoded data removed]",
      "text/plain": [
       "<Figure size 864x432 with 1 Axes>"
      ]
     },
     "metadata": {
      "needs_background": "light"
     },
     "output_type": "display_data"
    }
   ],
   "source": [
    "data['PM2.5'].plot(figsize=(12,6))\n",
    "plt.title(\"PM2.5\");"
   ]
  },
  {
   "cell_type": "markdown",
   "id": "7712ad2f",
   "metadata": {},
   "source": [
    "# Deep Learning Model Training"
   ]
  },
  {
   "cell_type": "markdown",
   "id": "a9c1af7d",
   "metadata": {},
   "source": [
    "## Train/ Test Split\n",
    "The dataset was divided into Train/Test set at 80:20 ratio."
   ]
  },
  {
   "cell_type": "markdown",
   "id": "b87e9343",
   "metadata": {},
   "source": [
    "## Data Regularization"
   ]
  },
  {
   "cell_type": "code",
   "execution_count": 142,
   "id": "16b969ae",
   "metadata": {},
   "outputs": [],
   "source": [
    "TRAIN_SPLIT = 2026-288\n",
    "BATCH_SIZE = 128"
   ]
  },
  {
   "cell_type": "code",
   "execution_count": 143,
   "id": "9761ffa4",
   "metadata": {},
   "outputs": [],
   "source": [
    "# check training data mean\n",
    "x_train_mean = pm25[:TRAIN_SPLIT].mean()\n",
    "x_train_std = pm25[:TRAIN_SPLIT].std()"
   ]
  },
  {
   "cell_type": "code",
   "execution_count": 144,
   "id": "17dacb8b",
   "metadata": {},
   "outputs": [
    {
     "data": {
      "text/plain": [
       "39.075949367088604"
      ]
     },
     "execution_count": 144,
     "metadata": {},
     "output_type": "execute_result"
    }
   ],
   "source": [
    "x_train_mean"
   ]
  },
  {
   "cell_type": "code",
   "execution_count": 145,
   "id": "941fdeb3",
   "metadata": {},
   "outputs": [],
   "source": [
    "scaled_pm25 = (pm25 - x_train_mean)/x_train_std"
   ]
  },
  {
   "cell_type": "code",
   "execution_count": 146,
   "id": "ee72705d",
   "metadata": {},
   "outputs": [
    {
     "data": {
      "text/plain": [
       "2026"
      ]
     },
     "execution_count": 146,
     "metadata": {},
     "output_type": "execute_result"
    }
   ],
   "source": [
    "len(scaled_pm25)"
   ]
  },
  {
   "cell_type": "markdown",
   "id": "ad2397cf",
   "metadata": {},
   "source": [
    "## Generator Function"
   ]
  },
  {
   "cell_type": "code",
   "execution_count": 147,
   "id": "07f9a0b3",
   "metadata": {},
   "outputs": [],
   "source": [
    "def generator(dataset, start_index, end_index, history_size, target_size, single_step=False):\n",
    "    data = []\n",
    "    labels = []\n",
    "    \n",
    "    start_index = start_index + history_size\n",
    "    if end_index is None:\n",
    "        end_index = len(dataset) - target_size\n",
    "    for i in range(start_index, end_index):\n",
    "        indices = range(i - history_size, i)\n",
    "    \n",
    "        # Reshape data from (history_size,) to (history_size,1)\n",
    "        data.append(np.reshape(dataset[indices], (history_size, 1)))\n",
    "        if single_step:\n",
    "            labels.append(dataset[i + target_size])\n",
    "        else:\n",
    "            labels.append(dataset[i: i + target_size])\n",
    "    return np.array(data), np.array(labels)"
   ]
  },
  {
   "cell_type": "markdown",
   "id": "0262123e",
   "metadata": {},
   "source": [
    "## Generate Train/Test Sets\n",
    "The training batches including input data with the same intervals and their target value were generated.  "
   ]
  },
  {
   "cell_type": "code",
   "execution_count": 148,
   "id": "910d5257",
   "metadata": {},
   "outputs": [],
   "source": [
    "n_past = 3*24 # 3 days * 24 hours\n",
    "n_future = 2*24 # 2 days * 24 hours\n",
    "x_train, y_train = generator(scaled_pm25, start_index=0, end_index=TRAIN_SPLIT, \n",
    "                            history_size=n_past, target_size=n_future)\n",
    "x_test, y_test = generator(scaled_pm25, start_index=TRAIN_SPLIT, end_index=None, \n",
    "                           history_size=n_past, target_size=n_future)"
   ]
  },
  {
   "cell_type": "code",
   "execution_count": 149,
   "id": "fc57ec60",
   "metadata": {},
   "outputs": [
    {
     "data": {
      "text/plain": [
       "(1666, 72, 1)"
      ]
     },
     "execution_count": 149,
     "metadata": {},
     "output_type": "execute_result"
    }
   ],
   "source": [
    "x_train.shape"
   ]
  },
  {
   "cell_type": "code",
   "execution_count": 150,
   "id": "5baa58b4",
   "metadata": {},
   "outputs": [
    {
     "data": {
      "text/plain": [
       "(1666, 48, 1)"
      ]
     },
     "execution_count": 150,
     "metadata": {},
     "output_type": "execute_result"
    }
   ],
   "source": [
    "y_train.shape"
   ]
  },
  {
   "cell_type": "code",
   "execution_count": 151,
   "id": "1e047a89",
   "metadata": {},
   "outputs": [
    {
     "data": {
      "text/plain": [
       "(168, 72, 1)"
      ]
     },
     "execution_count": 151,
     "metadata": {},
     "output_type": "execute_result"
    }
   ],
   "source": [
    "x_test.shape"
   ]
  },
  {
   "cell_type": "code",
   "execution_count": 152,
   "id": "53ec17dc",
   "metadata": {},
   "outputs": [
    {
     "data": {
      "text/plain": [
       "(168, 48, 1)"
      ]
     },
     "execution_count": 152,
     "metadata": {},
     "output_type": "execute_result"
    }
   ],
   "source": [
    "y_test.shape"
   ]
  },
  {
   "cell_type": "code",
   "execution_count": 153,
   "id": "2219acdd",
   "metadata": {},
   "outputs": [
    {
     "name": "stdout",
     "output_type": "stream",
     "text": [
      "Given data: [-0.48741298 -0.83182823 -0.96959433 -0.41852993  0.06365143  0.61471583\n",
      "  0.54583278  0.20141753 -0.14299772 -0.28076382 -0.21188077 -0.28076382\n",
      " -0.14299772 -0.07411467  0.06365143 -0.21188077 -0.76294518 -0.83182823\n",
      " -0.69406213 -0.48741298  0.06365143  0.27030058  0.33918363  0.33918363\n",
      " -0.00523162 -0.41852993 -0.55629603 -0.69406213 -0.28076382 -0.00523162\n",
      " -0.28076382 -0.21188077 -0.28076382 -0.48741298 -0.14299772 -0.07411467\n",
      "  0.20141753 -0.14299772 -0.00523162 -0.28076382 -0.62517908 -0.62517908\n",
      " -0.69406213 -0.41852993 -0.21188077 -0.21188077 -0.07411467 -0.00523162\n",
      " -0.48741298 -0.55629603 -0.28076382 -0.00523162  0.20141753  0.27030058\n",
      "  0.40806668  0.54583278  0.47694973  0.20141753  0.13253448  0.13253448\n",
      " -0.21188077 -0.21188077 -0.55629603 -0.48741298 -0.48741298 -0.55629603\n",
      " -0.62517908 -0.69406213 -0.76294518 -0.69406213 -0.62517908 -0.83182823]\n",
      "Target: [-0.48741298 -0.83182823 -0.69406213 -0.28076382 -0.34964688 -0.48741298\n",
      " -0.48741298 -0.55629603 -0.76294518 -0.07411467  0.27030058  0.06365143\n",
      "  0.27030058 -0.21188077 -0.00523162 -0.41852993 -0.83182823 -0.83182823\n",
      " -0.62517908 -0.21188077  0.13253448  0.68359888  0.47694973  0.33918363\n",
      " -0.34964688 -0.55629603 -0.48741298 -0.28076382 -0.21188077 -0.14299772\n",
      " -0.34964688 -0.76294518 -0.14299772  0.20141753  1.44131243  0.61471583\n",
      "  0.33918363  0.20141753 -0.48741298 -0.21188077 -0.41852993 -0.14299772\n",
      " -0.07411467 -0.00523162 -0.00523162  0.75248193  0.33918363  0.54583278]\n"
     ]
    }
   ],
   "source": [
    "# check the first sample\n",
    "sample_x, sample_y = x_train[0], y_train[0]\n",
    "print('Given data: {}'.format(sample_x.flatten()))\n",
    "print('Target: {}'.format(sample_y.flatten()))"
   ]
  },
  {
   "cell_type": "markdown",
   "id": "0b39b4c8",
   "metadata": {},
   "source": [
    "## RNN Model\n",
    "\n",
    "1. Unidirectional RNN Model\n",
    "2. Bidirectional RNN Model\n",
    "\n",
    "Note: The bidirectional model architecture [here](https://medium.com/analytics-vidhya/weather-forecasting-with-recurrent-neural-networks-1eaa057d70c3)"
   ]
  },
  {
   "cell_type": "markdown",
   "id": "631f6d98",
   "metadata": {},
   "source": [
    "### 1. Unidirectional RNN Model"
   ]
  },
  {
   "cell_type": "code",
   "execution_count": 154,
   "id": "e0ccf40d",
   "metadata": {},
   "outputs": [],
   "source": [
    "# define RMSE as a loss function\n",
    "def root_mean_squared_error(y_true, y_pred):\n",
    "    return tf.sqrt(tf.reduce_mean(tf.square(tf.subtract(y_true, y_pred))))"
   ]
  },
  {
   "cell_type": "code",
   "execution_count": 177,
   "id": "cc744f1d",
   "metadata": {},
   "outputs": [
    {
     "name": "stdout",
     "output_type": "stream",
     "text": [
      "Model: \"sequential_5\"\n",
      "_________________________________________________________________\n",
      " Layer (type)                Output Shape              Param #   \n",
      "=================================================================\n",
      " lstm_9 (LSTM)               (None, 72, 32)            4352      \n",
      "                                                                 \n",
      " dropout_8 (Dropout)         (None, 72, 32)            0         \n",
      "                                                                 \n",
      " lstm_10 (LSTM)              (None, 72, 32)            8320      \n",
      "                                                                 \n",
      " dropout_9 (Dropout)         (None, 72, 32)            0         \n",
      "                                                                 \n",
      " lstm_11 (LSTM)              (None, 32)                8320      \n",
      "                                                                 \n",
      " dropout_10 (Dropout)        (None, 32)                0         \n",
      "                                                                 \n",
      " dense_4 (Dense)             (None, 48)                1584      \n",
      "                                                                 \n",
      "=================================================================\n",
      "Total params: 22,576\n",
      "Trainable params: 22,576\n",
      "Non-trainable params: 0\n",
      "_________________________________________________________________\n"
     ]
    }
   ],
   "source": [
    "# Create RNN model\n",
    "model = Sequential()\n",
    "model.add(LSTM(units=32, kernel_regularizer= l2(0.01), \n",
    "               return_sequences=True, input_shape = (x_train.shape[1], x_train.shape[2])))\n",
    "model.add(Dropout(0.2))\n",
    "model.add(LSTM(units=32, kernel_regularizer= l2(0.01),\n",
    "               return_sequences=True, activation='relu'))\n",
    "model.add(Dropout(0.2))\n",
    "model.add(LSTM(units=32, kernel_regularizer= l2(0.01),\n",
    "               activation='relu'))\n",
    "model.add(Dropout(0.2))\n",
    "model.add(Dense(units = 48))\n",
    "model.compile(optimizer=tf.keras.optimizers.Adam(learning_rate = 0.0001, clipvalue=0.1), \n",
    "              loss=root_mean_squared_error, metrics=['mae'])\n",
    "model.summary()\n"
   ]
  },
  {
   "cell_type": "code",
   "execution_count": 156,
   "id": "cf492052",
   "metadata": {},
   "outputs": [],
   "source": [
    "early_stopping = tf.keras.callbacks.EarlyStopping(monitor='val_loss', patience=5, restore_best_weights=True)"
   ]
  },
  {
   "cell_type": "code",
   "execution_count": 181,
   "id": "763b78d8",
   "metadata": {},
   "outputs": [],
   "source": [
    "# prepared train and test batches\n",
    "train_data = tf.data.Dataset.from_tensor_slices((x_train, y_train))\n",
    "train_data = train_data.cache().shuffle(x_train.shape[0]).batch(BATCH_SIZE).repeat()\n",
    "\n",
    "test_data = tf.data.Dataset.from_tensor_slices((x_test, y_test))\n",
    "test_data = test_data.batch(BATCH_SIZE).repeat()"
   ]
  },
  {
   "cell_type": "code",
   "execution_count": 182,
   "id": "50bc3937",
   "metadata": {},
   "outputs": [
    {
     "name": "stdout",
     "output_type": "stream",
     "text": [
      "(128, 72, 1)\n",
      "(72, 1)\n",
      "(48, 1)\n"
     ]
    }
   ],
   "source": [
    "# take a look for batch, input and output shape\n",
    "for x, y in train_data.take(1):\n",
    "    print(x.shape)\n",
    "    print(x[0].shape)\n",
    "    print(y[0].shape)"
   ]
  },
  {
   "cell_type": "code",
   "execution_count": 178,
   "id": "af7dc616",
   "metadata": {},
   "outputs": [
    {
     "name": "stdout",
     "output_type": "stream",
     "text": [
      "Epoch 1/50\n",
      "14/14 [==============================] - 7s 153ms/step - loss: 2.0688 - mae: 0.7990 - val_loss: 2.5035 - val_mae: 1.1620\n",
      "Epoch 2/50\n",
      "14/14 [==============================] - 1s 102ms/step - loss: 2.0465 - mae: 0.7988 - val_loss: 2.4809 - val_mae: 1.1620\n",
      "Epoch 3/50\n",
      "14/14 [==============================] - 1s 105ms/step - loss: 2.0232 - mae: 0.7985 - val_loss: 2.4588 - val_mae: 1.1621\n",
      "Epoch 4/50\n",
      "14/14 [==============================] - 1s 105ms/step - loss: 2.0015 - mae: 0.7983 - val_loss: 2.4372 - val_mae: 1.1622\n",
      "Epoch 5/50\n",
      "14/14 [==============================] - 2s 127ms/step - loss: 1.9800 - mae: 0.7981 - val_loss: 2.4160 - val_mae: 1.1624\n",
      "Epoch 6/50\n",
      "14/14 [==============================] - 2s 150ms/step - loss: 1.9583 - mae: 0.7979 - val_loss: 2.3952 - val_mae: 1.1627\n",
      "Epoch 7/50\n",
      "14/14 [==============================] - 2s 141ms/step - loss: 1.9376 - mae: 0.7976 - val_loss: 2.3749 - val_mae: 1.1634\n",
      "Epoch 8/50\n",
      "14/14 [==============================] - 2s 140ms/step - loss: 1.9168 - mae: 0.7973 - val_loss: 2.3552 - val_mae: 1.1645\n",
      "Epoch 9/50\n",
      "14/14 [==============================] - 2s 109ms/step - loss: 1.8969 - mae: 0.7969 - val_loss: 2.3365 - val_mae: 1.1669\n",
      "Epoch 10/50\n",
      "14/14 [==============================] - 2s 115ms/step - loss: 1.8755 - mae: 0.7963 - val_loss: 2.3198 - val_mae: 1.1720\n",
      "Epoch 11/50\n",
      "14/14 [==============================] - 2s 114ms/step - loss: 1.8550 - mae: 0.7962 - val_loss: 2.3048 - val_mae: 1.1789\n",
      "Epoch 12/50\n",
      "14/14 [==============================] - 2s 114ms/step - loss: 1.8339 - mae: 0.7953 - val_loss: 2.2869 - val_mae: 1.1807\n",
      "Epoch 13/50\n",
      "14/14 [==============================] - 2s 114ms/step - loss: 1.8154 - mae: 0.7957 - val_loss: 2.2689 - val_mae: 1.1823\n",
      "Epoch 14/50\n",
      "14/14 [==============================] - 2s 114ms/step - loss: 1.7947 - mae: 0.7940 - val_loss: 2.2592 - val_mae: 1.1943\n",
      "Epoch 15/50\n",
      "14/14 [==============================] - 2s 151ms/step - loss: 1.7747 - mae: 0.7939 - val_loss: 2.2446 - val_mae: 1.1988\n",
      "Epoch 16/50\n",
      "14/14 [==============================] - 1s 104ms/step - loss: 1.7569 - mae: 0.7924 - val_loss: 2.2283 - val_mae: 1.1996\n",
      "Epoch 17/50\n",
      "14/14 [==============================] - 1s 105ms/step - loss: 1.7395 - mae: 0.7915 - val_loss: 2.2149 - val_mae: 1.2035\n",
      "Epoch 18/50\n",
      "14/14 [==============================] - 2s 106ms/step - loss: 1.7224 - mae: 0.7909 - val_loss: 2.2041 - val_mae: 1.2098\n",
      "Epoch 19/50\n",
      "14/14 [==============================] - 1s 104ms/step - loss: 1.7045 - mae: 0.7890 - val_loss: 2.1957 - val_mae: 1.2180\n",
      "Epoch 20/50\n",
      "14/14 [==============================] - 1s 105ms/step - loss: 1.6901 - mae: 0.7898 - val_loss: 2.1811 - val_mae: 1.2194\n",
      "Epoch 21/50\n",
      "14/14 [==============================] - 2s 113ms/step - loss: 1.6727 - mae: 0.7871 - val_loss: 2.1783 - val_mae: 1.2316\n",
      "Epoch 22/50\n",
      "14/14 [==============================] - 2s 140ms/step - loss: 1.6554 - mae: 0.7859 - val_loss: 2.1591 - val_mae: 1.2274\n",
      "Epoch 23/50\n",
      "14/14 [==============================] - 2s 137ms/step - loss: 1.6386 - mae: 0.7829 - val_loss: 2.1578 - val_mae: 1.2397\n",
      "Epoch 24/50\n",
      "14/14 [==============================] - 2s 137ms/step - loss: 1.6234 - mae: 0.7811 - val_loss: 2.1396 - val_mae: 1.2357\n",
      "Epoch 25/50\n",
      "14/14 [==============================] - 2s 116ms/step - loss: 1.6062 - mae: 0.7771 - val_loss: 2.1246 - val_mae: 1.2344\n",
      "Epoch 26/50\n",
      "14/14 [==============================] - 2s 112ms/step - loss: 1.5896 - mae: 0.7733 - val_loss: 2.1086 - val_mae: 1.2301\n",
      "Epoch 27/50\n",
      "14/14 [==============================] - 2s 111ms/step - loss: 1.5739 - mae: 0.7701 - val_loss: 2.0767 - val_mae: 1.2147\n",
      "Epoch 28/50\n",
      "14/14 [==============================] - 2s 112ms/step - loss: 1.5630 - mae: 0.7685 - val_loss: 2.0464 - val_mae: 1.1993\n",
      "Epoch 29/50\n",
      "14/14 [==============================] - 2s 112ms/step - loss: 1.5450 - mae: 0.7666 - val_loss: 2.1046 - val_mae: 1.2573\n",
      "Epoch 30/50\n",
      "14/14 [==============================] - 2s 113ms/step - loss: 1.5294 - mae: 0.7627 - val_loss: 2.0623 - val_mae: 1.2317\n",
      "Epoch 31/50\n",
      "14/14 [==============================] - 2s 112ms/step - loss: 1.5176 - mae: 0.7634 - val_loss: 2.0943 - val_mae: 1.2615\n",
      "Epoch 32/50\n",
      "14/14 [==============================] - 2s 112ms/step - loss: 1.5033 - mae: 0.7592 - val_loss: 2.0989 - val_mae: 1.2628\n",
      "Epoch 33/50\n",
      "14/14 [==============================] - 2s 112ms/step - loss: 1.4912 - mae: 0.7580 - val_loss: 2.0299 - val_mae: 1.2377\n",
      "Epoch 34/50\n",
      "14/14 [==============================] - 2s 117ms/step - loss: 1.4794 - mae: 0.7583 - val_loss: 2.0366 - val_mae: 1.2504\n",
      "Epoch 35/50\n",
      "14/14 [==============================] - 2s 120ms/step - loss: 1.4666 - mae: 0.7549 - val_loss: 2.1020 - val_mae: 1.2825\n",
      "Epoch 36/50\n",
      "14/14 [==============================] - 2s 122ms/step - loss: 1.6331 - mae: 0.7714 - val_loss: 2.0426 - val_mae: 1.2657\n",
      "Epoch 37/50\n",
      "14/14 [==============================] - 2s 122ms/step - loss: 1.4489 - mae: 0.7530 - val_loss: 1.9821 - val_mae: 1.2279\n",
      "Epoch 38/50\n",
      "14/14 [==============================] - 2s 122ms/step - loss: 1.4394 - mae: 0.7505 - val_loss: 2.0756 - val_mae: 1.3001\n",
      "Epoch 39/50\n",
      "14/14 [==============================] - 2s 121ms/step - loss: 1.4319 - mae: 0.7507 - val_loss: 2.0074 - val_mae: 1.2545\n",
      "Epoch 40/50\n",
      "14/14 [==============================] - 2s 110ms/step - loss: 1.4251 - mae: 0.7498 - val_loss: 2.0259 - val_mae: 1.2709\n",
      "Epoch 41/50\n",
      "14/14 [==============================] - 2s 111ms/step - loss: 1.4178 - mae: 0.7490 - val_loss: 2.0469 - val_mae: 1.2901\n",
      "Epoch 42/50\n",
      "14/14 [==============================] - 2s 111ms/step - loss: 1.4103 - mae: 0.7477 - val_loss: 2.0118 - val_mae: 1.2687\n"
     ]
    }
   ],
   "source": [
    "model_history = model.fit(train_data, epochs=50, validation_data = test_data, \n",
    "                          callbacks=[early_stopping])"
   ]
  },
  {
   "cell_type": "code",
   "execution_count": 164,
   "id": "039a8398",
   "metadata": {},
   "outputs": [],
   "source": [
    "def plot_train_loss(history, title):\n",
    "    loss = history.history['loss']\n",
    "    val_loss = history.history['val_loss']\n",
    "    epochs = range(len(loss))\n",
    "    \n",
    "    plt.figure(figsize=(8,6))\n",
    "    plt.plot(epochs, loss, 'b', label=\"Training Loss\")\n",
    "    plt.plot(epochs, val_loss, 'r', label='Validation Loss')\n",
    "    plt.title(title)\n",
    "    plt.legend()\n",
    "    plt.show()"
   ]
  },
  {
   "cell_type": "code",
   "execution_count": 179,
   "id": "1ff66713",
   "metadata": {},
   "outputs": [
    {
     "data": {
      "image/png": "[encoded data removed]",
      "text/plain": [
       "<Figure size 576x432 with 1 Axes>"
      ]
     },
     "metadata": {
      "needs_background": "light"
     },
     "output_type": "display_data"
    }
   ],
   "source": [
    "plot_train_loss(model_history, \"Training and Validation Loss\")"
   ]
  },
  {
   "cell_type": "code",
   "execution_count": 166,
   "id": "64d672b2",
   "metadata": {},
   "outputs": [],
   "source": [
    "def plot_val_predict(history, true_future, prediction):\n",
    "    plt.figure(figsize=(12,5))\n",
    "    num_in = list(range(-len(history),0))\n",
    "    \n",
    "    num_out = len(true_future)\n",
    " \n",
    "    \n",
    "    plt.plot(num_in, np.array(history), label='Past')\n",
    "    plt.plot(np.arange(num_out), np.array(true_future), 'b', markersize=3, label='True Future')\n",
    "    if prediction.any():\n",
    "        plt.plot(np.arange(num_out), np.array(prediction), 'r', markersize=3, label='Predicted Future')\n",
    "    plt.legend(loc='best')\n",
    "    plt.show()"
   ]
  },
  {
   "cell_type": "code",
   "execution_count": 180,
   "id": "7f81960c",
   "metadata": {},
   "outputs": [
    {
     "data": {
      "image/png": "[encoded data removed]",
      "text/plain": [
       "<Figure size 864x360 with 1 Axes>"
      ]
     },
     "metadata": {
      "needs_background": "light"
     },
     "output_type": "display_data"
    },
    {
     "name": "stdout",
     "output_type": "stream",
     "text": [
      "RMSE: \n",
      "11.712931649808533\n"
     ]
    },
    {
     "data": {
      "image/png": "[encoded data removed]",
      "text/plain": [
       "<Figure size 864x360 with 1 Axes>"
      ]
     },
     "metadata": {
      "needs_background": "light"
     },
     "output_type": "display_data"
    },
    {
     "name": "stdout",
     "output_type": "stream",
     "text": [
      "RMSE: \n",
      "14.208605904760388\n"
     ]
    }
   ],
   "source": [
    "for x, y in test_data.take(3):\n",
    "    plot_val_predict(x[0], y[0], model.predict(x)[0])\n",
    "    y_true_inverse = (y[0] * x_train_std) + x_train_mean\n",
    "    y_pred_inverse = (model.predict(x)[0] * x_train_std) + x_train_mean\n",
    "    print(\"RMSE: \")\n",
    "    tf.print(tf.reduce_mean(rmse(y_true_inverse, y_pred_inverse)))"
   ]
  },
  {
   "cell_type": "code",
   "execution_count": 173,
   "id": "16e33830",
   "metadata": {},
   "outputs": [
    {
     "name": "stdout",
     "output_type": "stream",
     "text": [
      "2/2 [==============================] - 0s 13ms/step - loss: 1.5453 - mae: 1.1545\n"
     ]
    },
    {
     "data": {
      "text/plain": [
       "[1.5453119277954102, 1.154466152191162]"
      ]
     },
     "execution_count": 173,
     "metadata": {},
     "output_type": "execute_result"
    }
   ],
   "source": [
    "model.evaluate(test_data)"
   ]
  },
  {
   "cell_type": "markdown",
   "id": "67cc8216",
   "metadata": {},
   "source": [
    "### 2. Bidirectional LSTM Model"
   ]
  },
  {
   "cell_type": "code",
   "execution_count": 123,
   "id": "8030d438",
   "metadata": {},
   "outputs": [
    {
     "name": "stdout",
     "output_type": "stream",
     "text": [
      "Model: \"sequential_3\"\n",
      "_________________________________________________________________\n",
      " Layer (type)                Output Shape              Param #   \n",
      "=================================================================\n",
      " bidirectional (Bidirectiona  (None, 72, 64)           8704      \n",
      " l)                                                              \n",
      "                                                                 \n",
      " dropout_4 (Dropout)         (None, 72, 64)            0         \n",
      "                                                                 \n",
      " lstm_6 (LSTM)               (None, 32)                12416     \n",
      "                                                                 \n",
      " dropout_5 (Dropout)         (None, 32)                0         \n",
      "                                                                 \n",
      " dense_2 (Dense)             (None, 48)                1584      \n",
      "                                                                 \n",
      "=================================================================\n",
      "Total params: 22,704\n",
      "Trainable params: 22,704\n",
      "Non-trainable params: 0\n",
      "_________________________________________________________________\n"
     ]
    }
   ],
   "source": [
    "bi_rnn_model = Sequential()\n",
    "bi_rnn_model.add(Bidirectional(LSTM(units=32, return_sequences=True, kernel_regularizer=l2(0.01)), input_shape = (x_train.shape[1], x_train.shape[2])))\n",
    "bi_rnn_model.add(Dropout(0.4))\n",
    "bi_rnn_model.add(LSTM(units= 32 , kernel_regularizer=l2(0.01)))\n",
    "bi_rnn_model.add(Dropout(0.4))\n",
    "bi_rnn_model.add(Dense(units = 48,activation='linear'))\n",
    "bi_rnn_model.compile(optimizer=tf.keras.optimizers.Adam(learning_rate = 0.0001, clipvalue=0.1), \n",
    "              loss=root_mean_squared_error, metrics=['mae'])\n",
    "bi_rnn_model.summary()\n"
   ]
  },
  {
   "cell_type": "code",
   "execution_count": 174,
   "id": "5e9c6c6c",
   "metadata": {},
   "outputs": [
    {
     "name": "stdout",
     "output_type": "stream",
     "text": [
      "Epoch 1/50\n",
      "14/14 [==============================] - 1s 74ms/step - loss: 0.8959 - mae: 0.6622 - val_loss: 1.6286 - val_mae: 1.3095\n",
      "Epoch 2/50\n",
      "14/14 [==============================] - 1s 76ms/step - loss: 0.8971 - mae: 0.6641 - val_loss: 1.6597 - val_mae: 1.3396\n",
      "Epoch 3/50\n",
      "14/14 [==============================] - 1s 105ms/step - loss: 0.8961 - mae: 0.6636 - val_loss: 1.6241 - val_mae: 1.3028\n",
      "Epoch 4/50\n",
      "14/14 [==============================] - 1s 76ms/step - loss: 0.8906 - mae: 0.6589 - val_loss: 1.6268 - val_mae: 1.3049\n",
      "Epoch 5/50\n",
      "14/14 [==============================] - 1s 80ms/step - loss: 0.8872 - mae: 0.6587 - val_loss: 1.6505 - val_mae: 1.3315\n",
      "Epoch 6/50\n",
      "14/14 [==============================] - 1s 76ms/step - loss: 0.8843 - mae: 0.6587 - val_loss: 1.6396 - val_mae: 1.3223\n",
      "Epoch 7/50\n",
      "14/14 [==============================] - 1s 81ms/step - loss: 0.8854 - mae: 0.6588 - val_loss: 1.6278 - val_mae: 1.3115\n",
      "Epoch 8/50\n",
      "14/14 [==============================] - 1s 94ms/step - loss: 0.8846 - mae: 0.6597 - val_loss: 1.6241 - val_mae: 1.3088\n"
     ]
    }
   ],
   "source": [
    "bi_rnn_history = bi_rnn_model.fit(train_data, epochs=50,\n",
    "                         validation_data = test_data, callbacks=[early_stopping])"
   ]
  },
  {
   "cell_type": "code",
   "execution_count": 175,
   "id": "b917c579",
   "metadata": {},
   "outputs": [
    {
     "data": {
      "image/png": "[encoded data removed]",
      "text/plain": [
       "<Figure size 576x432 with 1 Axes>"
      ]
     },
     "metadata": {
      "needs_background": "light"
     },
     "output_type": "display_data"
    }
   ],
   "source": [
    "plot_train_loss(bi_rnn_history, \"Training and Validation Loss (Bidirectional)\")"
   ]
  },
  {
   "cell_type": "code",
   "execution_count": 176,
   "id": "9a57da31",
   "metadata": {},
   "outputs": [
    {
     "data": {
      "image/png": "[encoded data removed]",
      "text/plain": [
       "<Figure size 864x360 with 1 Axes>"
      ]
     },
     "metadata": {
      "needs_background": "light"
     },
     "output_type": "display_data"
    },
    {
     "name": "stdout",
     "output_type": "stream",
     "text": [
      "RMSE: \n",
      "12.214450301223147\n"
     ]
    },
    {
     "data": {
      "image/png": "[encoded data removed]",
      "text/plain": [
       "<Figure size 864x360 with 1 Axes>"
      ]
     },
     "metadata": {
      "needs_background": "light"
     },
     "output_type": "display_data"
    },
    {
     "name": "stdout",
     "output_type": "stream",
     "text": [
      "RMSE: \n",
      "12.597343378520108\n"
     ]
    }
   ],
   "source": [
    "for x, y in test_data.take(3):\n",
    "    plot_val_predict(x[0], y[0], bi_rnn_model.predict(x)[0])\n",
    "    y_true_inverse = (y[0] * x_train_std) + x_train_mean\n",
    "    y_pred_inverse = (bi_rnn_model.predict(x)[0] * x_train_std) + x_train_mean\n",
    "    print(\"RMSE: \")\n",
    "    tf.print(tf.reduce_mean(rmse(y_true_inverse, y_pred_inverse)))"
   ]
  },
  {
   "cell_type": "code",
   "execution_count": 20,
   "id": "77ec8f68",
   "metadata": {},
   "outputs": [],
   "source": [
    "bi_rnn_predictions = scaler.inverse_transform(bi_rnn_predictions)"
   ]
  },
  {
   "cell_type": "code",
   "execution_count": 30,
   "id": "08be26e1",
   "metadata": {},
   "outputs": [
    {
     "data": {
      "text/html": [
       "<div>\n",
       "<style scoped>\n",
       "    .dataframe tbody tr th:only-of-type {\n",
       "        vertical-align: middle;\n",
       "    }\n",
       "\n",
       "    .dataframe tbody tr th {\n",
       "        vertical-align: top;\n",
       "    }\n",
       "\n",
       "    .dataframe thead th {\n",
       "        text-align: right;\n",
       "    }\n",
       "</style>\n",
       "<table border=\"1\" class=\"dataframe\">\n",
       "  <thead>\n",
       "    <tr style=\"text-align: right;\">\n",
       "      <th></th>\n",
       "      <th>PM2.5</th>\n",
       "    </tr>\n",
       "    <tr>\n",
       "      <th>datetime</th>\n",
       "      <th></th>\n",
       "    </tr>\n",
       "  </thead>\n",
       "  <tbody>\n",
       "    <tr>\n",
       "      <th>2022-01-04 00:00:00</th>\n",
       "      <td>29</td>\n",
       "    </tr>\n",
       "    <tr>\n",
       "      <th>2022-01-04 01:00:00</th>\n",
       "      <td>35</td>\n",
       "    </tr>\n",
       "    <tr>\n",
       "      <th>2022-01-04 02:00:00</th>\n",
       "      <td>37</td>\n",
       "    </tr>\n",
       "    <tr>\n",
       "      <th>2022-01-04 03:00:00</th>\n",
       "      <td>47</td>\n",
       "    </tr>\n",
       "    <tr>\n",
       "      <th>2022-01-04 04:00:00</th>\n",
       "      <td>50</td>\n",
       "    </tr>\n",
       "  </tbody>\n",
       "</table>\n",
       "</div>"
      ],
      "text/plain": [
       "                     PM2.5\n",
       "datetime                  \n",
       "2022-01-04 00:00:00     29\n",
       "2022-01-04 01:00:00     35\n",
       "2022-01-04 02:00:00     37\n",
       "2022-01-04 03:00:00     47\n",
       "2022-01-04 04:00:00     50"
      ]
     },
     "execution_count": 30,
     "metadata": {},
     "output_type": "execute_result"
    }
   ],
   "source": [
    "test_df2 = pd.DataFrame(data['PM2.5'][-n_values:])\n",
    "test_df2.head()"
   ]
  },
  {
   "cell_type": "code",
   "execution_count": 31,
   "id": "09ab7592",
   "metadata": {},
   "outputs": [
    {
     "data": {
      "text/html": [
       "<div>\n",
       "<style scoped>\n",
       "    .dataframe tbody tr th:only-of-type {\n",
       "        vertical-align: middle;\n",
       "    }\n",
       "\n",
       "    .dataframe tbody tr th {\n",
       "        vertical-align: top;\n",
       "    }\n",
       "\n",
       "    .dataframe thead th {\n",
       "        text-align: right;\n",
       "    }\n",
       "</style>\n",
       "<table border=\"1\" class=\"dataframe\">\n",
       "  <thead>\n",
       "    <tr style=\"text-align: right;\">\n",
       "      <th></th>\n",
       "      <th>PM2.5</th>\n",
       "      <th>Predicted PM2.5_Bi</th>\n",
       "    </tr>\n",
       "    <tr>\n",
       "      <th>datetime</th>\n",
       "      <th></th>\n",
       "      <th></th>\n",
       "    </tr>\n",
       "  </thead>\n",
       "  <tbody>\n",
       "    <tr>\n",
       "      <th>2022-01-04 00:00:00</th>\n",
       "      <td>29</td>\n",
       "      <td>31.452607</td>\n",
       "    </tr>\n",
       "    <tr>\n",
       "      <th>2022-01-04 01:00:00</th>\n",
       "      <td>35</td>\n",
       "      <td>32.480589</td>\n",
       "    </tr>\n",
       "    <tr>\n",
       "      <th>2022-01-04 02:00:00</th>\n",
       "      <td>37</td>\n",
       "      <td>35.286287</td>\n",
       "    </tr>\n",
       "    <tr>\n",
       "      <th>2022-01-04 03:00:00</th>\n",
       "      <td>47</td>\n",
       "      <td>38.099231</td>\n",
       "    </tr>\n",
       "    <tr>\n",
       "      <th>2022-01-04 04:00:00</th>\n",
       "      <td>50</td>\n",
       "      <td>40.003850</td>\n",
       "    </tr>\n",
       "  </tbody>\n",
       "</table>\n",
       "</div>"
      ],
      "text/plain": [
       "                     PM2.5  Predicted PM2.5_Bi\n",
       "datetime                                      \n",
       "2022-01-04 00:00:00     29           31.452607\n",
       "2022-01-04 01:00:00     35           32.480589\n",
       "2022-01-04 02:00:00     37           35.286287\n",
       "2022-01-04 03:00:00     47           38.099231\n",
       "2022-01-04 04:00:00     50           40.003850"
      ]
     },
     "execution_count": 31,
     "metadata": {},
     "output_type": "execute_result"
    }
   ],
   "source": [
    "test_df2['Predicted PM2.5_Bi'] = bi_rnn_predictions\n",
    "test_df2.head()"
   ]
  },
  {
   "cell_type": "code",
   "execution_count": 32,
   "id": "78f815bd",
   "metadata": {},
   "outputs": [
    {
     "data": {
      "image/png": "[encoded data removed]",
      "text/plain": [
       "<Figure size 576x432 with 1 Axes>"
      ]
     },
     "metadata": {
      "needs_background": "light"
     },
     "output_type": "display_data"
    }
   ],
   "source": [
    "test_df2.plot(figsize=(8,6), color = ['blue', 'red']);\n",
    "plt.title(\"PM2.5 Prediction - Bidirectional RNN Model\")\n",
    "plt.ylabel('ug/m^3')\n",
    "plt.show()"
   ]
  },
  {
   "cell_type": "code",
   "execution_count": 33,
   "id": "f1eb39d8",
   "metadata": {},
   "outputs": [
    {
     "name": "stdout",
     "output_type": "stream",
     "text": [
      "RMSE from Bidirectional RNN Model: 11.799104446053526\n"
     ]
    }
   ],
   "source": [
    "rmse_bi_rnn = rmse(test_df2['PM2.5'], test_df2['Predicted PM2.5_Bi'])\n",
    "print(\"RMSE from Bidirectional RNN Model: {}\".format(str(rmse_bi_rnn)))"
   ]
  },
  {
   "cell_type": "markdown",
   "id": "747da45a",
   "metadata": {},
   "source": [
    "# Summary\n",
    "The PACF plots showed that pollutants changes in Din Daeng District, Bangkok had insignificantly relationship with its lag 1. Even though each pollutant seemed to have effects on each other, their errors after training with Vector Autoregression model did not clearly different from training with Autoregression model. Moreover, both VAR and AR models were still not good to predict the value in the next five days (120 hours) as their errors were still high compared to their means."
   ]
  }
 ],
 "metadata": {
  "kernelspec": {
   "display_name": "Python 3 (ipykernel)",
   "language": "python",
   "name": "python3"
  },
  "language_info": {
   "codemirror_mode": {
    "name": "ipython",
    "version": 3
   },
   "file_extension": ".py",
   "mimetype": "text/x-python",
   "name": "python",
   "nbconvert_exporter": "python",
   "pygments_lexer": "ipython3",
   "version": "3.8.10"
  }
 },
 "nbformat": 4,
 "nbformat_minor": 5
}
