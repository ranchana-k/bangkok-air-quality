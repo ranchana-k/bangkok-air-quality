{
 "cells": [
  {
   "cell_type": "markdown",
   "id": "35dab1eb",
   "metadata": {},
   "source": [
    "# Bangkok PM2.5 Forecast - RNN Models\n",
    "\n",
    "\n",
    "## Dataset\n",
    "The dataset is from the previous section (Bangkok PM2.5 Forecast - VAR and AR.ipynb)\n",
    "\n",
    "## RNN Models\n",
    "The RNN models used to train and predict PM2.5 are unidirectional and bidirectional LSTM models.\n"
   ]
  },
  {
   "cell_type": "markdown",
   "id": "2b66041f",
   "metadata": {},
   "source": [
    "## Import libraries"
   ]
  },
  {
   "cell_type": "code",
   "execution_count": 146,
   "id": "e0cfb751",
   "metadata": {},
   "outputs": [],
   "source": [
    "import tensorflow as tf\n",
    "from tensorflow.keras.layers import Dense, LSTM, Bidirectional, Dropout, TimeDistributed\n",
    "from tensorflow.keras.models import Model\n",
    "from tensorflow.keras.preprocessing.sequence import TimeseriesGenerator\n",
    "from tensorflow.keras.optimizers import Adam\n",
    "from tensorflow.keras import Sequential\n",
    "from sklearn.preprocessing import StandardScaler\n",
    "\n",
    "import matplotlib.pyplot as plt\n",
    "import pandas as pd\n",
    "import numpy as np\n",
    "%matplotlib inline\n",
    "\n",
    "from statsmodels.tools.eval_measures import rmse"
   ]
  },
  {
   "cell_type": "code",
   "execution_count": 147,
   "id": "9efe66d6",
   "metadata": {},
   "outputs": [],
   "source": [
    "# Reproduce\n",
    "SEED = 22\n",
    "tf.random.set_seed(SEED)"
   ]
  },
  {
   "cell_type": "markdown",
   "id": "882032e5",
   "metadata": {},
   "source": [
    "## Import Data"
   ]
  },
  {
   "cell_type": "code",
   "execution_count": 249,
   "id": "de9ec789",
   "metadata": {},
   "outputs": [],
   "source": [
    "df1 = pd.read_csv('report_54t_dindaeng.csv')\n",
    "df2 = pd.read_csv('report_54t_dindaeng2.csv')"
   ]
  },
  {
   "cell_type": "code",
   "execution_count": 254,
   "id": "c9206267",
   "metadata": {},
   "outputs": [
    {
     "name": "stdout",
     "output_type": "stream",
     "text": [
      "864\n",
      "1162\n"
     ]
    }
   ],
   "source": [
    "print(len(df1))\n",
    "print(len(df2))"
   ]
  },
  {
   "cell_type": "code",
   "execution_count": 255,
   "id": "9b7e3bbc",
   "metadata": {},
   "outputs": [
    {
     "data": {
      "text/html": [
       "<div>\n",
       "<style scoped>\n",
       "    .dataframe tbody tr th:only-of-type {\n",
       "        vertical-align: middle;\n",
       "    }\n",
       "\n",
       "    .dataframe tbody tr th {\n",
       "        vertical-align: top;\n",
       "    }\n",
       "\n",
       "    .dataframe thead th {\n",
       "        text-align: right;\n",
       "    }\n",
       "</style>\n",
       "<table border=\"1\" class=\"dataframe\">\n",
       "  <thead>\n",
       "    <tr style=\"text-align: right;\">\n",
       "      <th></th>\n",
       "      <th>No</th>\n",
       "      <th>date</th>\n",
       "      <th>time</th>\n",
       "      <th>PM2.5</th>\n",
       "      <th>PM10</th>\n",
       "      <th>O3</th>\n",
       "      <th>CO</th>\n",
       "      <th>NO2</th>\n",
       "    </tr>\n",
       "  </thead>\n",
       "  <tbody>\n",
       "    <tr>\n",
       "      <th>0</th>\n",
       "      <td>1</td>\n",
       "      <td>2021-12-01</td>\n",
       "      <td>00:00 - 01:00</td>\n",
       "      <td>32</td>\n",
       "      <td>79</td>\n",
       "      <td>18.0</td>\n",
       "      <td>1.28</td>\n",
       "      <td>32.0</td>\n",
       "    </tr>\n",
       "    <tr>\n",
       "      <th>1</th>\n",
       "      <td>2</td>\n",
       "      <td>2021-12-01</td>\n",
       "      <td>01:00 - 02:00</td>\n",
       "      <td>27</td>\n",
       "      <td>78</td>\n",
       "      <td>19.0</td>\n",
       "      <td>1.23</td>\n",
       "      <td>29.0</td>\n",
       "    </tr>\n",
       "    <tr>\n",
       "      <th>2</th>\n",
       "      <td>3</td>\n",
       "      <td>2021-12-01</td>\n",
       "      <td>02:00 - 03:00</td>\n",
       "      <td>25</td>\n",
       "      <td>74</td>\n",
       "      <td>21.0</td>\n",
       "      <td>1.22</td>\n",
       "      <td>25.0</td>\n",
       "    </tr>\n",
       "    <tr>\n",
       "      <th>3</th>\n",
       "      <td>4</td>\n",
       "      <td>2021-12-01</td>\n",
       "      <td>03:00 - 04:00</td>\n",
       "      <td>33</td>\n",
       "      <td>72</td>\n",
       "      <td>30.0</td>\n",
       "      <td>1.15</td>\n",
       "      <td>18.0</td>\n",
       "    </tr>\n",
       "    <tr>\n",
       "      <th>4</th>\n",
       "      <td>5</td>\n",
       "      <td>2021-12-01</td>\n",
       "      <td>04:00 - 05:00</td>\n",
       "      <td>40</td>\n",
       "      <td>66</td>\n",
       "      <td>19.0</td>\n",
       "      <td>1.23</td>\n",
       "      <td>26.0</td>\n",
       "    </tr>\n",
       "  </tbody>\n",
       "</table>\n",
       "</div>"
      ],
      "text/plain": [
       "   No        date           time  PM2.5  PM10    O3    CO   NO2\n",
       "0   1  2021-12-01  00:00 - 01:00     32    79  18.0  1.28  32.0\n",
       "1   2  2021-12-01  01:00 - 02:00     27    78  19.0  1.23  29.0\n",
       "2   3  2021-12-01  02:00 - 03:00     25    74  21.0  1.22  25.0\n",
       "3   4  2021-12-01  03:00 - 04:00     33    72  30.0  1.15  18.0\n",
       "4   5  2021-12-01  04:00 - 05:00     40    66  19.0  1.23  26.0"
      ]
     },
     "execution_count": 255,
     "metadata": {},
     "output_type": "execute_result"
    }
   ],
   "source": [
    "raw_data = pd.concat([df1, df2])\n",
    "raw_data.head()"
   ]
  },
  {
   "cell_type": "code",
   "execution_count": 256,
   "id": "9529a35d",
   "metadata": {},
   "outputs": [],
   "source": [
    "# drop 'No' column \n",
    "raw_data = raw_data.drop(['No'], axis=1)"
   ]
  },
  {
   "cell_type": "code",
   "execution_count": 257,
   "id": "3336994b",
   "metadata": {},
   "outputs": [
    {
     "data": {
      "text/html": [
       "<div>\n",
       "<style scoped>\n",
       "    .dataframe tbody tr th:only-of-type {\n",
       "        vertical-align: middle;\n",
       "    }\n",
       "\n",
       "    .dataframe tbody tr th {\n",
       "        vertical-align: top;\n",
       "    }\n",
       "\n",
       "    .dataframe thead th {\n",
       "        text-align: right;\n",
       "    }\n",
       "</style>\n",
       "<table border=\"1\" class=\"dataframe\">\n",
       "  <thead>\n",
       "    <tr style=\"text-align: right;\">\n",
       "      <th></th>\n",
       "      <th>date</th>\n",
       "      <th>time</th>\n",
       "      <th>PM2.5</th>\n",
       "      <th>PM10</th>\n",
       "      <th>O3</th>\n",
       "      <th>CO</th>\n",
       "      <th>NO2</th>\n",
       "      <th>time_</th>\n",
       "    </tr>\n",
       "  </thead>\n",
       "  <tbody>\n",
       "    <tr>\n",
       "      <th>0</th>\n",
       "      <td>2021-12-01</td>\n",
       "      <td>00:00 - 01:00</td>\n",
       "      <td>32</td>\n",
       "      <td>79</td>\n",
       "      <td>18.0</td>\n",
       "      <td>1.28</td>\n",
       "      <td>32.0</td>\n",
       "      <td>00:00</td>\n",
       "    </tr>\n",
       "    <tr>\n",
       "      <th>1</th>\n",
       "      <td>2021-12-01</td>\n",
       "      <td>01:00 - 02:00</td>\n",
       "      <td>27</td>\n",
       "      <td>78</td>\n",
       "      <td>19.0</td>\n",
       "      <td>1.23</td>\n",
       "      <td>29.0</td>\n",
       "      <td>01:00</td>\n",
       "    </tr>\n",
       "    <tr>\n",
       "      <th>2</th>\n",
       "      <td>2021-12-01</td>\n",
       "      <td>02:00 - 03:00</td>\n",
       "      <td>25</td>\n",
       "      <td>74</td>\n",
       "      <td>21.0</td>\n",
       "      <td>1.22</td>\n",
       "      <td>25.0</td>\n",
       "      <td>02:00</td>\n",
       "    </tr>\n",
       "    <tr>\n",
       "      <th>3</th>\n",
       "      <td>2021-12-01</td>\n",
       "      <td>03:00 - 04:00</td>\n",
       "      <td>33</td>\n",
       "      <td>72</td>\n",
       "      <td>30.0</td>\n",
       "      <td>1.15</td>\n",
       "      <td>18.0</td>\n",
       "      <td>03:00</td>\n",
       "    </tr>\n",
       "    <tr>\n",
       "      <th>4</th>\n",
       "      <td>2021-12-01</td>\n",
       "      <td>04:00 - 05:00</td>\n",
       "      <td>40</td>\n",
       "      <td>66</td>\n",
       "      <td>19.0</td>\n",
       "      <td>1.23</td>\n",
       "      <td>26.0</td>\n",
       "      <td>04:00</td>\n",
       "    </tr>\n",
       "  </tbody>\n",
       "</table>\n",
       "</div>"
      ],
      "text/plain": [
       "         date           time  PM2.5  PM10    O3    CO   NO2  time_\n",
       "0  2021-12-01  00:00 - 01:00     32    79  18.0  1.28  32.0  00:00\n",
       "1  2021-12-01  01:00 - 02:00     27    78  19.0  1.23  29.0  01:00\n",
       "2  2021-12-01  02:00 - 03:00     25    74  21.0  1.22  25.0  02:00\n",
       "3  2021-12-01  03:00 - 04:00     33    72  30.0  1.15  18.0  03:00\n",
       "4  2021-12-01  04:00 - 05:00     40    66  19.0  1.23  26.0  04:00"
      ]
     },
     "execution_count": 257,
     "metadata": {},
     "output_type": "execute_result"
    }
   ],
   "source": [
    "raw_data['time_'] = raw_data['time'].str.split().str.get(0)\n",
    "raw_data.head()"
   ]
  },
  {
   "cell_type": "code",
   "execution_count": 258,
   "id": "bb827676",
   "metadata": {},
   "outputs": [
    {
     "data": {
      "text/html": [
       "<div>\n",
       "<style scoped>\n",
       "    .dataframe tbody tr th:only-of-type {\n",
       "        vertical-align: middle;\n",
       "    }\n",
       "\n",
       "    .dataframe tbody tr th {\n",
       "        vertical-align: top;\n",
       "    }\n",
       "\n",
       "    .dataframe thead th {\n",
       "        text-align: right;\n",
       "    }\n",
       "</style>\n",
       "<table border=\"1\" class=\"dataframe\">\n",
       "  <thead>\n",
       "    <tr style=\"text-align: right;\">\n",
       "      <th></th>\n",
       "      <th>date</th>\n",
       "      <th>time</th>\n",
       "      <th>PM2.5</th>\n",
       "      <th>PM10</th>\n",
       "      <th>O3</th>\n",
       "      <th>CO</th>\n",
       "      <th>NO2</th>\n",
       "      <th>time_</th>\n",
       "      <th>datetime</th>\n",
       "    </tr>\n",
       "  </thead>\n",
       "  <tbody>\n",
       "    <tr>\n",
       "      <th>0</th>\n",
       "      <td>2021-12-01</td>\n",
       "      <td>00:00 - 01:00</td>\n",
       "      <td>32</td>\n",
       "      <td>79</td>\n",
       "      <td>18.0</td>\n",
       "      <td>1.28</td>\n",
       "      <td>32.0</td>\n",
       "      <td>00:00</td>\n",
       "      <td>2021-12-01 00:00:00</td>\n",
       "    </tr>\n",
       "    <tr>\n",
       "      <th>1</th>\n",
       "      <td>2021-12-01</td>\n",
       "      <td>01:00 - 02:00</td>\n",
       "      <td>27</td>\n",
       "      <td>78</td>\n",
       "      <td>19.0</td>\n",
       "      <td>1.23</td>\n",
       "      <td>29.0</td>\n",
       "      <td>01:00</td>\n",
       "      <td>2021-12-01 01:00:00</td>\n",
       "    </tr>\n",
       "    <tr>\n",
       "      <th>2</th>\n",
       "      <td>2021-12-01</td>\n",
       "      <td>02:00 - 03:00</td>\n",
       "      <td>25</td>\n",
       "      <td>74</td>\n",
       "      <td>21.0</td>\n",
       "      <td>1.22</td>\n",
       "      <td>25.0</td>\n",
       "      <td>02:00</td>\n",
       "      <td>2021-12-01 02:00:00</td>\n",
       "    </tr>\n",
       "    <tr>\n",
       "      <th>3</th>\n",
       "      <td>2021-12-01</td>\n",
       "      <td>03:00 - 04:00</td>\n",
       "      <td>33</td>\n",
       "      <td>72</td>\n",
       "      <td>30.0</td>\n",
       "      <td>1.15</td>\n",
       "      <td>18.0</td>\n",
       "      <td>03:00</td>\n",
       "      <td>2021-12-01 03:00:00</td>\n",
       "    </tr>\n",
       "    <tr>\n",
       "      <th>4</th>\n",
       "      <td>2021-12-01</td>\n",
       "      <td>04:00 - 05:00</td>\n",
       "      <td>40</td>\n",
       "      <td>66</td>\n",
       "      <td>19.0</td>\n",
       "      <td>1.23</td>\n",
       "      <td>26.0</td>\n",
       "      <td>04:00</td>\n",
       "      <td>2021-12-01 04:00:00</td>\n",
       "    </tr>\n",
       "  </tbody>\n",
       "</table>\n",
       "</div>"
      ],
      "text/plain": [
       "         date           time  PM2.5  PM10    O3    CO   NO2  time_  \\\n",
       "0  2021-12-01  00:00 - 01:00     32    79  18.0  1.28  32.0  00:00   \n",
       "1  2021-12-01  01:00 - 02:00     27    78  19.0  1.23  29.0  01:00   \n",
       "2  2021-12-01  02:00 - 03:00     25    74  21.0  1.22  25.0  02:00   \n",
       "3  2021-12-01  03:00 - 04:00     33    72  30.0  1.15  18.0  03:00   \n",
       "4  2021-12-01  04:00 - 05:00     40    66  19.0  1.23  26.0  04:00   \n",
       "\n",
       "              datetime  \n",
       "0  2021-12-01 00:00:00  \n",
       "1  2021-12-01 01:00:00  \n",
       "2  2021-12-01 02:00:00  \n",
       "3  2021-12-01 03:00:00  \n",
       "4  2021-12-01 04:00:00  "
      ]
     },
     "execution_count": 258,
     "metadata": {},
     "output_type": "execute_result"
    }
   ],
   "source": [
    "raw_data['datetime'] = raw_data['date'] + ' ' + raw_data['time_'] + ':00'\n",
    "raw_data.head()"
   ]
  },
  {
   "cell_type": "code",
   "execution_count": 259,
   "id": "e942a7b2",
   "metadata": {},
   "outputs": [
    {
     "data": {
      "text/html": [
       "<div>\n",
       "<style scoped>\n",
       "    .dataframe tbody tr th:only-of-type {\n",
       "        vertical-align: middle;\n",
       "    }\n",
       "\n",
       "    .dataframe tbody tr th {\n",
       "        vertical-align: top;\n",
       "    }\n",
       "\n",
       "    .dataframe thead th {\n",
       "        text-align: right;\n",
       "    }\n",
       "</style>\n",
       "<table border=\"1\" class=\"dataframe\">\n",
       "  <thead>\n",
       "    <tr style=\"text-align: right;\">\n",
       "      <th></th>\n",
       "      <th>datetime</th>\n",
       "      <th>PM2.5</th>\n",
       "      <th>PM10</th>\n",
       "      <th>O3</th>\n",
       "      <th>CO</th>\n",
       "      <th>NO2</th>\n",
       "    </tr>\n",
       "  </thead>\n",
       "  <tbody>\n",
       "    <tr>\n",
       "      <th>0</th>\n",
       "      <td>2021-12-01 00:00:00</td>\n",
       "      <td>32</td>\n",
       "      <td>79</td>\n",
       "      <td>18.0</td>\n",
       "      <td>1.28</td>\n",
       "      <td>32.0</td>\n",
       "    </tr>\n",
       "    <tr>\n",
       "      <th>1</th>\n",
       "      <td>2021-12-01 01:00:00</td>\n",
       "      <td>27</td>\n",
       "      <td>78</td>\n",
       "      <td>19.0</td>\n",
       "      <td>1.23</td>\n",
       "      <td>29.0</td>\n",
       "    </tr>\n",
       "    <tr>\n",
       "      <th>2</th>\n",
       "      <td>2021-12-01 02:00:00</td>\n",
       "      <td>25</td>\n",
       "      <td>74</td>\n",
       "      <td>21.0</td>\n",
       "      <td>1.22</td>\n",
       "      <td>25.0</td>\n",
       "    </tr>\n",
       "    <tr>\n",
       "      <th>3</th>\n",
       "      <td>2021-12-01 03:00:00</td>\n",
       "      <td>33</td>\n",
       "      <td>72</td>\n",
       "      <td>30.0</td>\n",
       "      <td>1.15</td>\n",
       "      <td>18.0</td>\n",
       "    </tr>\n",
       "    <tr>\n",
       "      <th>4</th>\n",
       "      <td>2021-12-01 04:00:00</td>\n",
       "      <td>40</td>\n",
       "      <td>66</td>\n",
       "      <td>19.0</td>\n",
       "      <td>1.23</td>\n",
       "      <td>26.0</td>\n",
       "    </tr>\n",
       "  </tbody>\n",
       "</table>\n",
       "</div>"
      ],
      "text/plain": [
       "              datetime  PM2.5  PM10    O3    CO   NO2\n",
       "0  2021-12-01 00:00:00     32    79  18.0  1.28  32.0\n",
       "1  2021-12-01 01:00:00     27    78  19.0  1.23  29.0\n",
       "2  2021-12-01 02:00:00     25    74  21.0  1.22  25.0\n",
       "3  2021-12-01 03:00:00     33    72  30.0  1.15  18.0\n",
       "4  2021-12-01 04:00:00     40    66  19.0  1.23  26.0"
      ]
     },
     "execution_count": 259,
     "metadata": {},
     "output_type": "execute_result"
    }
   ],
   "source": [
    "pollutants = raw_data[['datetime', 'PM2.5', 'PM10', 'O3', 'CO', 'NO2']]\n",
    "pollutants.head()"
   ]
  },
  {
   "cell_type": "code",
   "execution_count": 260,
   "id": "f52a5181",
   "metadata": {},
   "outputs": [
    {
     "name": "stderr",
     "output_type": "stream",
     "text": [
      "/tmp/ipykernel_171266/2103422390.py:1: SettingWithCopyWarning: \n",
      "A value is trying to be set on a copy of a slice from a DataFrame.\n",
      "Try using .loc[row_indexer,col_indexer] = value instead\n",
      "\n",
      "See the caveats in the documentation: https://pandas.pydata.org/pandas-docs/stable/user_guide/indexing.html#returning-a-view-versus-a-copy\n",
      "  pollutants['datetime'] = pd.to_datetime(pollutants[\"datetime\"])\n"
     ]
    }
   ],
   "source": [
    "pollutants['datetime'] = pd.to_datetime(pollutants[\"datetime\"])\n",
    "pollutants.set_index('datetime', inplace=True)\n",
    "pollutants.index.freq = 'H'"
   ]
  },
  {
   "cell_type": "code",
   "execution_count": 261,
   "id": "81c1d9c5",
   "metadata": {},
   "outputs": [
    {
     "data": {
      "text/html": [
       "<div>\n",
       "<style scoped>\n",
       "    .dataframe tbody tr th:only-of-type {\n",
       "        vertical-align: middle;\n",
       "    }\n",
       "\n",
       "    .dataframe tbody tr th {\n",
       "        vertical-align: top;\n",
       "    }\n",
       "\n",
       "    .dataframe thead th {\n",
       "        text-align: right;\n",
       "    }\n",
       "</style>\n",
       "<table border=\"1\" class=\"dataframe\">\n",
       "  <thead>\n",
       "    <tr style=\"text-align: right;\">\n",
       "      <th></th>\n",
       "      <th>PM2.5</th>\n",
       "      <th>PM10</th>\n",
       "      <th>O3</th>\n",
       "      <th>CO</th>\n",
       "      <th>NO2</th>\n",
       "    </tr>\n",
       "    <tr>\n",
       "      <th>datetime</th>\n",
       "      <th></th>\n",
       "      <th></th>\n",
       "      <th></th>\n",
       "      <th></th>\n",
       "      <th></th>\n",
       "    </tr>\n",
       "  </thead>\n",
       "  <tbody>\n",
       "    <tr>\n",
       "      <th>2021-12-01 00:00:00</th>\n",
       "      <td>32</td>\n",
       "      <td>79</td>\n",
       "      <td>18.0</td>\n",
       "      <td>1.28</td>\n",
       "      <td>32.0</td>\n",
       "    </tr>\n",
       "    <tr>\n",
       "      <th>2021-12-01 01:00:00</th>\n",
       "      <td>27</td>\n",
       "      <td>78</td>\n",
       "      <td>19.0</td>\n",
       "      <td>1.23</td>\n",
       "      <td>29.0</td>\n",
       "    </tr>\n",
       "    <tr>\n",
       "      <th>2021-12-01 02:00:00</th>\n",
       "      <td>25</td>\n",
       "      <td>74</td>\n",
       "      <td>21.0</td>\n",
       "      <td>1.22</td>\n",
       "      <td>25.0</td>\n",
       "    </tr>\n",
       "    <tr>\n",
       "      <th>2021-12-01 03:00:00</th>\n",
       "      <td>33</td>\n",
       "      <td>72</td>\n",
       "      <td>30.0</td>\n",
       "      <td>1.15</td>\n",
       "      <td>18.0</td>\n",
       "    </tr>\n",
       "    <tr>\n",
       "      <th>2021-12-01 04:00:00</th>\n",
       "      <td>40</td>\n",
       "      <td>66</td>\n",
       "      <td>19.0</td>\n",
       "      <td>1.23</td>\n",
       "      <td>26.0</td>\n",
       "    </tr>\n",
       "  </tbody>\n",
       "</table>\n",
       "</div>"
      ],
      "text/plain": [
       "                     PM2.5  PM10    O3    CO   NO2\n",
       "datetime                                          \n",
       "2021-12-01 00:00:00     32    79  18.0  1.28  32.0\n",
       "2021-12-01 01:00:00     27    78  19.0  1.23  29.0\n",
       "2021-12-01 02:00:00     25    74  21.0  1.22  25.0\n",
       "2021-12-01 03:00:00     33    72  30.0  1.15  18.0\n",
       "2021-12-01 04:00:00     40    66  19.0  1.23  26.0"
      ]
     },
     "execution_count": 261,
     "metadata": {},
     "output_type": "execute_result"
    }
   ],
   "source": [
    "pollutants.head()"
   ]
  },
  {
   "cell_type": "code",
   "execution_count": 262,
   "id": "cd12d5e0",
   "metadata": {},
   "outputs": [
    {
     "data": {
      "text/plain": [
       "DatetimeIndex(['2021-12-01 00:00:00', '2021-12-01 01:00:00',\n",
       "               '2021-12-01 02:00:00', '2021-12-01 03:00:00',\n",
       "               '2021-12-01 04:00:00', '2021-12-01 05:00:00',\n",
       "               '2021-12-01 06:00:00', '2021-12-01 07:00:00',\n",
       "               '2021-12-01 08:00:00', '2021-12-01 09:00:00',\n",
       "               ...\n",
       "               '2022-02-23 00:00:00', '2022-02-23 01:00:00',\n",
       "               '2022-02-23 02:00:00', '2022-02-23 03:00:00',\n",
       "               '2022-02-23 04:00:00', '2022-02-23 05:00:00',\n",
       "               '2022-02-23 06:00:00', '2022-02-23 07:00:00',\n",
       "               '2022-02-23 08:00:00', '2022-02-23 09:00:00'],\n",
       "              dtype='datetime64[ns]', name='datetime', length=2026, freq='H')"
      ]
     },
     "execution_count": 262,
     "metadata": {},
     "output_type": "execute_result"
    }
   ],
   "source": [
    "pollutants.index"
   ]
  },
  {
   "cell_type": "code",
   "execution_count": 263,
   "id": "1e649877",
   "metadata": {},
   "outputs": [
    {
     "data": {
      "text/plain": [
       "PM2.5      0\n",
       "PM10       0\n",
       "O3       199\n",
       "CO       145\n",
       "NO2      145\n",
       "dtype: int64"
      ]
     },
     "execution_count": 263,
     "metadata": {},
     "output_type": "execute_result"
    }
   ],
   "source": [
    "pollutants.isna().sum()"
   ]
  },
  {
   "cell_type": "code",
   "execution_count": 265,
   "id": "d60519db",
   "metadata": {},
   "outputs": [
    {
     "data": {
      "text/plain": [
       "PM2.5    0\n",
       "PM10     0\n",
       "O3       0\n",
       "CO       0\n",
       "NO2      0\n",
       "dtype: int64"
      ]
     },
     "execution_count": 265,
     "metadata": {},
     "output_type": "execute_result"
    }
   ],
   "source": [
    "cleaned_pollutants = pollutants.fillna(method='ffill')\n",
    "cleaned_pollutants.isna().sum()"
   ]
  },
  {
   "cell_type": "code",
   "execution_count": 266,
   "id": "f57ec8be",
   "metadata": {},
   "outputs": [],
   "source": [
    "cleaned_pollutants.to_csv('cleaned_dataset_updated.csv')"
   ]
  },
  {
   "cell_type": "code",
   "execution_count": 267,
   "id": "0c4f840c",
   "metadata": {},
   "outputs": [],
   "source": [
    "data = pd.read_csv('cleaned_dataset_updated.csv')"
   ]
  },
  {
   "cell_type": "code",
   "execution_count": 268,
   "id": "5741710b",
   "metadata": {},
   "outputs": [
    {
     "data": {
      "text/html": [
       "<div>\n",
       "<style scoped>\n",
       "    .dataframe tbody tr th:only-of-type {\n",
       "        vertical-align: middle;\n",
       "    }\n",
       "\n",
       "    .dataframe tbody tr th {\n",
       "        vertical-align: top;\n",
       "    }\n",
       "\n",
       "    .dataframe thead th {\n",
       "        text-align: right;\n",
       "    }\n",
       "</style>\n",
       "<table border=\"1\" class=\"dataframe\">\n",
       "  <thead>\n",
       "    <tr style=\"text-align: right;\">\n",
       "      <th></th>\n",
       "      <th>datetime</th>\n",
       "      <th>PM2.5</th>\n",
       "      <th>PM10</th>\n",
       "      <th>O3</th>\n",
       "      <th>CO</th>\n",
       "      <th>NO2</th>\n",
       "    </tr>\n",
       "  </thead>\n",
       "  <tbody>\n",
       "    <tr>\n",
       "      <th>0</th>\n",
       "      <td>2021-12-01 00:00:00</td>\n",
       "      <td>32</td>\n",
       "      <td>79</td>\n",
       "      <td>18.0</td>\n",
       "      <td>1.28</td>\n",
       "      <td>32.0</td>\n",
       "    </tr>\n",
       "    <tr>\n",
       "      <th>1</th>\n",
       "      <td>2021-12-01 01:00:00</td>\n",
       "      <td>27</td>\n",
       "      <td>78</td>\n",
       "      <td>19.0</td>\n",
       "      <td>1.23</td>\n",
       "      <td>29.0</td>\n",
       "    </tr>\n",
       "    <tr>\n",
       "      <th>2</th>\n",
       "      <td>2021-12-01 02:00:00</td>\n",
       "      <td>25</td>\n",
       "      <td>74</td>\n",
       "      <td>21.0</td>\n",
       "      <td>1.22</td>\n",
       "      <td>25.0</td>\n",
       "    </tr>\n",
       "    <tr>\n",
       "      <th>3</th>\n",
       "      <td>2021-12-01 03:00:00</td>\n",
       "      <td>33</td>\n",
       "      <td>72</td>\n",
       "      <td>30.0</td>\n",
       "      <td>1.15</td>\n",
       "      <td>18.0</td>\n",
       "    </tr>\n",
       "    <tr>\n",
       "      <th>4</th>\n",
       "      <td>2021-12-01 04:00:00</td>\n",
       "      <td>40</td>\n",
       "      <td>66</td>\n",
       "      <td>19.0</td>\n",
       "      <td>1.23</td>\n",
       "      <td>26.0</td>\n",
       "    </tr>\n",
       "  </tbody>\n",
       "</table>\n",
       "</div>"
      ],
      "text/plain": [
       "              datetime  PM2.5  PM10    O3    CO   NO2\n",
       "0  2021-12-01 00:00:00     32    79  18.0  1.28  32.0\n",
       "1  2021-12-01 01:00:00     27    78  19.0  1.23  29.0\n",
       "2  2021-12-01 02:00:00     25    74  21.0  1.22  25.0\n",
       "3  2021-12-01 03:00:00     33    72  30.0  1.15  18.0\n",
       "4  2021-12-01 04:00:00     40    66  19.0  1.23  26.0"
      ]
     },
     "execution_count": 268,
     "metadata": {},
     "output_type": "execute_result"
    }
   ],
   "source": [
    "data.head()"
   ]
  },
  {
   "cell_type": "code",
   "execution_count": 269,
   "id": "e0dc2c43",
   "metadata": {},
   "outputs": [],
   "source": [
    "data['datetime'] = pd.to_datetime(data[\"datetime\"])\n",
    "data.set_index('datetime', inplace=True)\n",
    "data.index.freq = 'H'"
   ]
  },
  {
   "cell_type": "code",
   "execution_count": 270,
   "id": "c03a708f",
   "metadata": {},
   "outputs": [
    {
     "data": {
      "text/html": [
       "<div>\n",
       "<style scoped>\n",
       "    .dataframe tbody tr th:only-of-type {\n",
       "        vertical-align: middle;\n",
       "    }\n",
       "\n",
       "    .dataframe tbody tr th {\n",
       "        vertical-align: top;\n",
       "    }\n",
       "\n",
       "    .dataframe thead th {\n",
       "        text-align: right;\n",
       "    }\n",
       "</style>\n",
       "<table border=\"1\" class=\"dataframe\">\n",
       "  <thead>\n",
       "    <tr style=\"text-align: right;\">\n",
       "      <th></th>\n",
       "      <th>PM2.5</th>\n",
       "      <th>PM10</th>\n",
       "      <th>O3</th>\n",
       "      <th>CO</th>\n",
       "      <th>NO2</th>\n",
       "    </tr>\n",
       "    <tr>\n",
       "      <th>datetime</th>\n",
       "      <th></th>\n",
       "      <th></th>\n",
       "      <th></th>\n",
       "      <th></th>\n",
       "      <th></th>\n",
       "    </tr>\n",
       "  </thead>\n",
       "  <tbody>\n",
       "    <tr>\n",
       "      <th>2021-12-01 00:00:00</th>\n",
       "      <td>32</td>\n",
       "      <td>79</td>\n",
       "      <td>18.0</td>\n",
       "      <td>1.28</td>\n",
       "      <td>32.0</td>\n",
       "    </tr>\n",
       "    <tr>\n",
       "      <th>2021-12-01 01:00:00</th>\n",
       "      <td>27</td>\n",
       "      <td>78</td>\n",
       "      <td>19.0</td>\n",
       "      <td>1.23</td>\n",
       "      <td>29.0</td>\n",
       "    </tr>\n",
       "    <tr>\n",
       "      <th>2021-12-01 02:00:00</th>\n",
       "      <td>25</td>\n",
       "      <td>74</td>\n",
       "      <td>21.0</td>\n",
       "      <td>1.22</td>\n",
       "      <td>25.0</td>\n",
       "    </tr>\n",
       "    <tr>\n",
       "      <th>2021-12-01 03:00:00</th>\n",
       "      <td>33</td>\n",
       "      <td>72</td>\n",
       "      <td>30.0</td>\n",
       "      <td>1.15</td>\n",
       "      <td>18.0</td>\n",
       "    </tr>\n",
       "    <tr>\n",
       "      <th>2021-12-01 04:00:00</th>\n",
       "      <td>40</td>\n",
       "      <td>66</td>\n",
       "      <td>19.0</td>\n",
       "      <td>1.23</td>\n",
       "      <td>26.0</td>\n",
       "    </tr>\n",
       "  </tbody>\n",
       "</table>\n",
       "</div>"
      ],
      "text/plain": [
       "                     PM2.5  PM10    O3    CO   NO2\n",
       "datetime                                          \n",
       "2021-12-01 00:00:00     32    79  18.0  1.28  32.0\n",
       "2021-12-01 01:00:00     27    78  19.0  1.23  29.0\n",
       "2021-12-01 02:00:00     25    74  21.0  1.22  25.0\n",
       "2021-12-01 03:00:00     33    72  30.0  1.15  18.0\n",
       "2021-12-01 04:00:00     40    66  19.0  1.23  26.0"
      ]
     },
     "execution_count": 270,
     "metadata": {},
     "output_type": "execute_result"
    }
   ],
   "source": [
    "data.head()"
   ]
  },
  {
   "cell_type": "code",
   "execution_count": 271,
   "id": "8ff3da7a",
   "metadata": {},
   "outputs": [
    {
     "data": {
      "text/plain": [
       "2026"
      ]
     },
     "execution_count": 271,
     "metadata": {},
     "output_type": "execute_result"
    }
   ],
   "source": [
    "len(data)"
   ]
  },
  {
   "cell_type": "code",
   "execution_count": 272,
   "id": "5afa6313",
   "metadata": {},
   "outputs": [
    {
     "data": {
      "text/plain": [
       "(2026, 1)"
      ]
     },
     "execution_count": 272,
     "metadata": {},
     "output_type": "execute_result"
    }
   ],
   "source": [
    "pm25 = data['PM2.5'].values.reshape(-1,1)\n",
    "pm25.shape"
   ]
  },
  {
   "cell_type": "code",
   "execution_count": 464,
   "id": "201801a2",
   "metadata": {},
   "outputs": [
    {
     "data": {
      "text/plain": [
       "<AxesSubplot:xlabel='datetime'>"
      ]
     },
     "execution_count": 464,
     "metadata": {},
     "output_type": "execute_result"
    },
    {
     "data": {
      "image/png": "[encoded data removed]",
      "text/plain": [
       "<Figure size 864x432 with 1 Axes>"
      ]
     },
     "metadata": {
      "needs_background": "light"
     },
     "output_type": "display_data"
    }
   ],
   "source": [
    "data['PM2.5'].plot(figsize=(12,6))"
   ]
  },
  {
   "cell_type": "markdown",
   "id": "7712ad2f",
   "metadata": {},
   "source": [
    "# Deep Learning"
   ]
  },
  {
   "cell_type": "markdown",
   "id": "a9c1af7d",
   "metadata": {},
   "source": [
    "## Train/ Test Split\n",
    "The dataset was divided into Train/Test set at 70:20 ratio."
   ]
  },
  {
   "cell_type": "markdown",
   "id": "b87e9343",
   "metadata": {},
   "source": [
    "## Data Regularization"
   ]
  },
  {
   "cell_type": "code",
   "execution_count": 527,
   "id": "16b969ae",
   "metadata": {},
   "outputs": [],
   "source": [
    "TRAIN_SPLIT = int(len(data) * 0.8)\n",
    "BATCH_SIZE = 128"
   ]
  },
  {
   "cell_type": "code",
   "execution_count": 498,
   "id": "9761ffa4",
   "metadata": {},
   "outputs": [],
   "source": [
    "# check training data mean\n",
    "x_train_mean = pm25[:train_split].mean()\n",
    "x_train_std = pm25[:train_split].std()"
   ]
  },
  {
   "cell_type": "code",
   "execution_count": 499,
   "id": "17dacb8b",
   "metadata": {},
   "outputs": [
    {
     "data": {
      "text/plain": [
       "42.452586206896555"
      ]
     },
     "execution_count": 499,
     "metadata": {},
     "output_type": "execute_result"
    }
   ],
   "source": [
    "x_train_mean"
   ]
  },
  {
   "cell_type": "code",
   "execution_count": 500,
   "id": "941fdeb3",
   "metadata": {},
   "outputs": [],
   "source": [
    "scaled_pm25 = (pm25 - x_train_mean)/x_train_std"
   ]
  },
  {
   "cell_type": "code",
   "execution_count": 501,
   "id": "ee72705d",
   "metadata": {},
   "outputs": [
    {
     "data": {
      "text/plain": [
       "2026"
      ]
     },
     "execution_count": 501,
     "metadata": {},
     "output_type": "execute_result"
    }
   ],
   "source": [
    "len(scaled_pm25)"
   ]
  },
  {
   "cell_type": "markdown",
   "id": "ad2397cf",
   "metadata": {},
   "source": [
    "## Generator Function"
   ]
  },
  {
   "cell_type": "code",
   "execution_count": 302,
   "id": "07f9a0b3",
   "metadata": {},
   "outputs": [],
   "source": [
    "def generator(dataset, start_index, end_index, history_size, target_size, single_step=False):\n",
    "    data = []\n",
    "    labels = []\n",
    "    \n",
    "    start_index = start_index + history_size\n",
    "    if end_index is None:\n",
    "        end_index = len(dataset) - target_size\n",
    "    for i in range(start_index, end_index):\n",
    "        indices = range(i - history_size, i)\n",
    "    \n",
    "        # Reshape data from (history_size,) to (history_size,1)\n",
    "        data.append(np.reshape(dataset[indices], (history_size, 1)))\n",
    "        if single_step:\n",
    "            labels.append(dataset[i + target_size])\n",
    "        else:\n",
    "            labels.append(dataset[i: i + target_size])\n",
    "    return np.array(data), np.array(labels)"
   ]
  },
  {
   "cell_type": "markdown",
   "id": "0262123e",
   "metadata": {},
   "source": [
    "## Generate Train/Test Sets\n",
    "The training batches including input data with the same intervals and their target value were generated.  "
   ]
  },
  {
   "cell_type": "code",
   "execution_count": 502,
   "id": "910d5257",
   "metadata": {},
   "outputs": [],
   "source": [
    "n_past = 3*24 # 5 days * 24 hours\n",
    "n_future = 24 # 2 days * 24 hours\n",
    "x_train, y_train = generator(scaled_pm25, start_index=0, end_index=TRAIN_SPLIT, \n",
    "                            history_size=n_past, target_size=n_future)\n",
    "x_test, y_test = generator(scaled_pm25, start_index=TRAIN_SPLIT, end_index=None, \n",
    "                           history_size=n_past, target_size=n_future)"
   ]
  },
  {
   "cell_type": "code",
   "execution_count": 503,
   "id": "fc57ec60",
   "metadata": {},
   "outputs": [
    {
     "data": {
      "text/plain": [
       "(1548, 72, 1)"
      ]
     },
     "execution_count": 503,
     "metadata": {},
     "output_type": "execute_result"
    }
   ],
   "source": [
    "x_train.shape"
   ]
  },
  {
   "cell_type": "code",
   "execution_count": 504,
   "id": "5baa58b4",
   "metadata": {},
   "outputs": [
    {
     "data": {
      "text/plain": [
       "(1548, 24, 1)"
      ]
     },
     "execution_count": 504,
     "metadata": {},
     "output_type": "execute_result"
    }
   ],
   "source": [
    "y_train.shape"
   ]
  },
  {
   "cell_type": "code",
   "execution_count": 505,
   "id": "1e047a89",
   "metadata": {},
   "outputs": [
    {
     "data": {
      "text/plain": [
       "(310, 72, 1)"
      ]
     },
     "execution_count": 505,
     "metadata": {},
     "output_type": "execute_result"
    }
   ],
   "source": [
    "x_test.shape"
   ]
  },
  {
   "cell_type": "code",
   "execution_count": 506,
   "id": "53ec17dc",
   "metadata": {},
   "outputs": [
    {
     "data": {
      "text/plain": [
       "(310, 24, 1)"
      ]
     },
     "execution_count": 506,
     "metadata": {},
     "output_type": "execute_result"
    }
   ],
   "source": [
    "y_test.shape"
   ]
  },
  {
   "cell_type": "code",
   "execution_count": 507,
   "id": "2219acdd",
   "metadata": {},
   "outputs": [
    {
     "name": "stdout",
     "output_type": "stream",
     "text": [
      "Given data: [-0.67705343 -1.00092228 -1.13046982 -0.61227966 -0.15886326  0.35932691\n",
      "  0.29455314 -0.02931572 -0.35318457 -0.48273211 -0.41795834 -0.48273211\n",
      " -0.35318457 -0.2884108  -0.15886326 -0.41795834 -0.93614851 -1.00092228\n",
      " -0.87137474 -0.67705343 -0.15886326  0.03545806  0.10023183  0.10023183\n",
      " -0.22363703 -0.61227966 -0.7418272  -0.87137474 -0.48273211 -0.22363703\n",
      " -0.48273211 -0.41795834 -0.48273211 -0.67705343 -0.35318457 -0.2884108\n",
      " -0.02931572 -0.35318457 -0.22363703 -0.48273211 -0.80660097 -0.80660097\n",
      " -0.87137474 -0.61227966 -0.41795834 -0.41795834 -0.2884108  -0.22363703\n",
      " -0.67705343 -0.7418272  -0.48273211 -0.22363703 -0.02931572  0.03545806\n",
      "  0.1650056   0.29455314  0.22977937 -0.02931572 -0.09408949 -0.09408949\n",
      " -0.41795834 -0.41795834 -0.7418272  -0.67705343 -0.67705343 -0.7418272\n",
      " -0.80660097 -0.87137474 -0.93614851 -0.87137474 -0.80660097 -1.00092228]\n",
      "Target: [-0.67705343 -1.00092228 -0.87137474 -0.48273211 -0.54750588 -0.67705343\n",
      " -0.67705343 -0.7418272  -0.93614851 -0.2884108   0.03545806 -0.15886326\n",
      "  0.03545806 -0.41795834 -0.22363703 -0.61227966 -1.00092228 -1.00092228\n",
      " -0.80660097 -0.41795834 -0.09408949  0.42410068  0.22977937  0.10023183]\n"
     ]
    }
   ],
   "source": [
    "# check the first sample\n",
    "sample_x, sample_y = x_train[0], y_train[0]\n",
    "print('Given data: {}'.format(sample_x.flatten()))\n",
    "print('Target: {}'.format(sample_y.flatten()))"
   ]
  },
  {
   "cell_type": "markdown",
   "id": "0b39b4c8",
   "metadata": {},
   "source": [
    "## RNN Model\n",
    "\n",
    "1. Unidirectional RNN Model\n",
    "2. Bidirectional RNN Model*\n",
    "\n",
    "Note: The bidirectional model architecture [here](https://medium.com/analytics-vidhya/weather-forecasting-with-recurrent-neural-networks-1eaa057d70c3)"
   ]
  },
  {
   "cell_type": "markdown",
   "id": "631f6d98",
   "metadata": {},
   "source": [
    "### 1. Unidirectional RNN Model"
   ]
  },
  {
   "cell_type": "code",
   "execution_count": 484,
   "id": "e0ccf40d",
   "metadata": {},
   "outputs": [],
   "source": [
    "def root_mean_squared_error(y_true, y_pred):\n",
    "    return tf.sqrt(tf.reduce_mean(tf.square(tf.subtract(y_true, y_pred))))"
   ]
  },
  {
   "cell_type": "code",
   "execution_count": 533,
   "id": "9b9767ec",
   "metadata": {},
   "outputs": [],
   "source": [
    "from tensorflow.keras.regularizers import l1, l2, l1_l2"
   ]
  },
  {
   "cell_type": "code",
   "execution_count": 534,
   "id": "cc744f1d",
   "metadata": {},
   "outputs": [
    {
     "name": "stdout",
     "output_type": "stream",
     "text": [
      "Model: \"sequential_60\"\n",
      "_________________________________________________________________\n",
      " Layer (type)                Output Shape              Param #   \n",
      "=================================================================\n",
      " lstm_166 (LSTM)             (None, 72, 32)            4352      \n",
      "                                                                 \n",
      " dropout_158 (Dropout)       (None, 72, 32)            0         \n",
      "                                                                 \n",
      " lstm_167 (LSTM)             (None, 32)                8320      \n",
      "                                                                 \n",
      " dropout_159 (Dropout)       (None, 32)                0         \n",
      "                                                                 \n",
      " dense_52 (Dense)            (None, 24)                792       \n",
      "                                                                 \n",
      "=================================================================\n",
      "Total params: 13,464\n",
      "Trainable params: 13,464\n",
      "Non-trainable params: 0\n",
      "_________________________________________________________________\n"
     ]
    }
   ],
   "source": [
    "model = Sequential()\n",
    "model.add(LSTM(units=32, return_sequences=True, input_shape = (x_train.shape[1], x_train.shape[2])))\n",
    "model.add(Dropout(0.4))\n",
    "model.add(LSTM(units=32, kernel_regularizer= l2(0.01), recurrent_regularizer= l2(0.01),\n",
    "               bias_regularizer=l2(0.01), activation='relu'))\n",
    "model.add(Dropout(0.4))\n",
    "model.add(Dense(units = 24))\n",
    "model.compile(optimizer=tf.keras.optimizers.Adam(learning_rate = 0.0001, clipvalue=0.1), \n",
    "              loss=root_mean_squared_error, metrics=['mae'])\n",
    "model.summary()\n"
   ]
  },
  {
   "cell_type": "code",
   "execution_count": 472,
   "id": "cf492052",
   "metadata": {},
   "outputs": [],
   "source": [
    "early_stopping = tf.keras.callbacks.EarlyStopping(monitor='val_loss', patience=5, restore_best_weights=True)"
   ]
  },
  {
   "cell_type": "code",
   "execution_count": 530,
   "id": "763b78d8",
   "metadata": {},
   "outputs": [],
   "source": [
    "train_data = tf.data.Dataset.from_tensor_slices((x_train, y_train))\n",
    "train_data = train_data.cache().shuffle(x_train.shape[0]).batch(BATCH_SIZE).repeat()\n",
    "\n",
    "test_data = tf.data.Dataset.from_tensor_slices((x_test, y_test))\n",
    "test_data = test_data.batch(BATCH_SIZE).repeat()"
   ]
  },
  {
   "cell_type": "code",
   "execution_count": 531,
   "id": "50bc3937",
   "metadata": {},
   "outputs": [
    {
     "name": "stdout",
     "output_type": "stream",
     "text": [
      "(128, 72, 1)\n",
      "(72, 1)\n",
      "(24, 1)\n"
     ]
    }
   ],
   "source": [
    "for x, y in train_data.take(1):\n",
    "    print(x.shape)\n",
    "    print(x[0].shape)\n",
    "    print(y[0].shape)"
   ]
  },
  {
   "cell_type": "code",
   "execution_count": 535,
   "id": "af7dc616",
   "metadata": {},
   "outputs": [
    {
     "name": "stdout",
     "output_type": "stream",
     "text": [
      "Epoch 1/10\n",
      "200/200 [==============================] - 18s 75ms/step - loss: 1.9829 - mae: 0.7843 - val_loss: 2.0155 - val_mae: 0.8985\n",
      "Epoch 2/10\n",
      "200/200 [==============================] - 16s 78ms/step - loss: 1.7345 - mae: 0.7387 - val_loss: 1.7865 - val_mae: 0.8541\n",
      "Epoch 3/10\n",
      "200/200 [==============================] - 16s 82ms/step - loss: 1.5344 - mae: 0.6908 - val_loss: 1.6155 - val_mae: 0.8212\n",
      "Epoch 4/10\n",
      "200/200 [==============================] - 15s 77ms/step - loss: 1.3864 - mae: 0.6583 - val_loss: 1.4966 - val_mae: 0.8022\n",
      "Epoch 5/10\n",
      "200/200 [==============================] - 16s 78ms/step - loss: 1.2780 - mae: 0.6390 - val_loss: 1.4244 - val_mae: 0.8027\n",
      "Epoch 6/10\n",
      "200/200 [==============================] - 15s 75ms/step - loss: 1.1990 - mae: 0.6271 - val_loss: 1.3674 - val_mae: 0.8019\n",
      "Epoch 7/10\n",
      "200/200 [==============================] - 15s 73ms/step - loss: 1.1375 - mae: 0.6177 - val_loss: 1.3225 - val_mae: 0.8009\n",
      "Epoch 8/10\n",
      "200/200 [==============================] - 15s 73ms/step - loss: 1.0881 - mae: 0.6094 - val_loss: 1.2954 - val_mae: 0.8067\n",
      "Epoch 9/10\n",
      "200/200 [==============================] - 15s 73ms/step - loss: 1.0494 - mae: 0.6018 - val_loss: 1.2826 - val_mae: 0.8192\n",
      "Epoch 10/10\n",
      "200/200 [==============================] - 16s 79ms/step - loss: 1.0166 - mae: 0.5943 - val_loss: 1.2777 - val_mae: 0.8360\n"
     ]
    }
   ],
   "source": [
    "model_history = model.fit(train_data, epochs=10, steps_per_epoch = 200,\n",
    "                         validation_data = test_data, validation_steps = 200, callbacks=[early_stopping])"
   ]
  },
  {
   "cell_type": "code",
   "execution_count": 459,
   "id": "039a8398",
   "metadata": {},
   "outputs": [],
   "source": [
    "def plot_train_loss(history, title):\n",
    "    loss = history.history['loss']\n",
    "    val_loss = history.history['val_loss']\n",
    "    epochs = range(len(loss))\n",
    "    \n",
    "    plt.figure()\n",
    "    plt.plot(epochs, loss, 'b', label=\"Training Loss\")\n",
    "    plt.plot(epochs, val_loss, 'r', label='Validation Loss')\n",
    "    plt.title(title)\n",
    "    plt.legend()\n",
    "    plt.show()"
   ]
  },
  {
   "cell_type": "code",
   "execution_count": 536,
   "id": "1ff66713",
   "metadata": {},
   "outputs": [
    {
     "data": {
      "image/png": "[encoded data removed]",
      "text/plain": [
       "<Figure size 432x288 with 1 Axes>"
      ]
     },
     "metadata": {
      "needs_background": "light"
     },
     "output_type": "display_data"
    }
   ],
   "source": [
    "plot_train_loss(model_history, \"Training and Validation Loss\")"
   ]
  },
  {
   "cell_type": "code",
   "execution_count": null,
   "id": "8cf3c6f1",
   "metadata": {},
   "outputs": [],
   "source": [
    "RMSE = tf.sqrt(tf.reduce_mean(tf.square(tf.subtract(targets, outputs))))"
   ]
  },
  {
   "cell_type": "code",
   "execution_count": 462,
   "id": "64d672b2",
   "metadata": {},
   "outputs": [],
   "source": [
    "def plot_val_predict(history, true_future, prediction):\n",
    "    plt.figure(figsize=(12,6))\n",
    "    num_in = list(range(-len(history),0))\n",
    "    \n",
    "    num_out = len(true_future)\n",
    " \n",
    "    \n",
    "    plt.plot(num_in, np.array(history), label='Past')\n",
    "    plt.plot(np.arange(num_out), np.array(true_future), 'b', markersize=3, label='True Future')\n",
    "    if prediction.any():\n",
    "        plt.plot(np.arange(num_out), np.array(prediction), 'ro', markersize=3, label='Predicted Future')\n",
    "    plt.legend(loc='upper left')\n",
    "    plt.show()"
   ]
  },
  {
   "cell_type": "code",
   "execution_count": 538,
   "id": "7f81960c",
   "metadata": {},
   "outputs": [
    {
     "data": {
      "image/png": "[encoded data removed]",
      "text/plain": [
       "<Figure size 864x432 with 1 Axes>"
      ]
     },
     "metadata": {
      "needs_background": "light"
     },
     "output_type": "display_data"
    },
    {
     "data": {
      "image/png": "[encoded data removed]",
      "text/plain": [
       "<Figure size 864x432 with 1 Axes>"
      ]
     },
     "metadata": {
      "needs_background": "light"
     },
     "output_type": "display_data"
    },
    {
     "data": {
      "image/png": "[encoded data removed]",
      "text/plain": [
       "<Figure size 864x432 with 1 Axes>"
      ]
     },
     "metadata": {
      "needs_background": "light"
     },
     "output_type": "display_data"
    },
    {
     "data": {
      "image/png": "[encoded data removed]",
      "text/plain": [
       "<Figure size 864x432 with 1 Axes>"
      ]
     },
     "metadata": {
      "needs_background": "light"
     },
     "output_type": "display_data"
    },
    {
     "data": {
      "image/png": "[encoded data removed]",
      "text/plain": [
       "<Figure size 864x432 with 1 Axes>"
      ]
     },
     "metadata": {
      "needs_background": "light"
     },
     "output_type": "display_data"
    }
   ],
   "source": [
    "for x, y in test_data.take(5):\n",
    "    plot_val_predict(x[0], y[0], model.predict(x)[0])"
   ]
  },
  {
   "cell_type": "code",
   "execution_count": 380,
   "id": "bee6e3a7",
   "metadata": {},
   "outputs": [
    {
     "data": {
      "text/html": [
       "<div>\n",
       "<style scoped>\n",
       "    .dataframe tbody tr th:only-of-type {\n",
       "        vertical-align: middle;\n",
       "    }\n",
       "\n",
       "    .dataframe tbody tr th {\n",
       "        vertical-align: top;\n",
       "    }\n",
       "\n",
       "    .dataframe thead th {\n",
       "        text-align: right;\n",
       "    }\n",
       "</style>\n",
       "<table border=\"1\" class=\"dataframe\">\n",
       "  <thead>\n",
       "    <tr style=\"text-align: right;\">\n",
       "      <th></th>\n",
       "      <th>PM2.5</th>\n",
       "    </tr>\n",
       "    <tr>\n",
       "      <th>datetime</th>\n",
       "      <th></th>\n",
       "    </tr>\n",
       "  </thead>\n",
       "  <tbody>\n",
       "    <tr>\n",
       "      <th>2022-01-04 00:00:00</th>\n",
       "      <td>29</td>\n",
       "    </tr>\n",
       "    <tr>\n",
       "      <th>2022-01-04 01:00:00</th>\n",
       "      <td>35</td>\n",
       "    </tr>\n",
       "    <tr>\n",
       "      <th>2022-01-04 02:00:00</th>\n",
       "      <td>37</td>\n",
       "    </tr>\n",
       "    <tr>\n",
       "      <th>2022-01-04 03:00:00</th>\n",
       "      <td>47</td>\n",
       "    </tr>\n",
       "    <tr>\n",
       "      <th>2022-01-04 04:00:00</th>\n",
       "      <td>50</td>\n",
       "    </tr>\n",
       "  </tbody>\n",
       "</table>\n",
       "</div>"
      ],
      "text/plain": [
       "                     PM2.5\n",
       "datetime                  \n",
       "2022-01-04 00:00:00     29\n",
       "2022-01-04 01:00:00     35\n",
       "2022-01-04 02:00:00     37\n",
       "2022-01-04 03:00:00     47\n",
       "2022-01-04 04:00:00     50"
      ]
     },
     "execution_count": 380,
     "metadata": {},
     "output_type": "execute_result"
    }
   ],
   "source": [
    "test_df = pd.DataFrame(cleaned_pollutants['PM2.5'][-n_values:])\n",
    "test_df.head()"
   ]
  },
  {
   "cell_type": "code",
   "execution_count": 381,
   "id": "1e373bba",
   "metadata": {},
   "outputs": [
    {
     "data": {
      "text/html": [
       "<div>\n",
       "<style scoped>\n",
       "    .dataframe tbody tr th:only-of-type {\n",
       "        vertical-align: middle;\n",
       "    }\n",
       "\n",
       "    .dataframe tbody tr th {\n",
       "        vertical-align: top;\n",
       "    }\n",
       "\n",
       "    .dataframe thead th {\n",
       "        text-align: right;\n",
       "    }\n",
       "</style>\n",
       "<table border=\"1\" class=\"dataframe\">\n",
       "  <thead>\n",
       "    <tr style=\"text-align: right;\">\n",
       "      <th></th>\n",
       "      <th>PM2.5</th>\n",
       "      <th>predicted_PM2.5</th>\n",
       "    </tr>\n",
       "    <tr>\n",
       "      <th>datetime</th>\n",
       "      <th></th>\n",
       "      <th></th>\n",
       "    </tr>\n",
       "  </thead>\n",
       "  <tbody>\n",
       "    <tr>\n",
       "      <th>2022-01-04 00:00:00</th>\n",
       "      <td>29</td>\n",
       "      <td>30.387596</td>\n",
       "    </tr>\n",
       "    <tr>\n",
       "      <th>2022-01-04 01:00:00</th>\n",
       "      <td>35</td>\n",
       "      <td>32.767334</td>\n",
       "    </tr>\n",
       "    <tr>\n",
       "      <th>2022-01-04 02:00:00</th>\n",
       "      <td>37</td>\n",
       "      <td>33.981889</td>\n",
       "    </tr>\n",
       "    <tr>\n",
       "      <th>2022-01-04 03:00:00</th>\n",
       "      <td>47</td>\n",
       "      <td>35.545881</td>\n",
       "    </tr>\n",
       "    <tr>\n",
       "      <th>2022-01-04 04:00:00</th>\n",
       "      <td>50</td>\n",
       "      <td>36.865138</td>\n",
       "    </tr>\n",
       "  </tbody>\n",
       "</table>\n",
       "</div>"
      ],
      "text/plain": [
       "                     PM2.5  predicted_PM2.5\n",
       "datetime                                   \n",
       "2022-01-04 00:00:00     29        30.387596\n",
       "2022-01-04 01:00:00     35        32.767334\n",
       "2022-01-04 02:00:00     37        33.981889\n",
       "2022-01-04 03:00:00     47        35.545881\n",
       "2022-01-04 04:00:00     50        36.865138"
      ]
     },
     "execution_count": 381,
     "metadata": {},
     "output_type": "execute_result"
    }
   ],
   "source": [
    "test_df['predicted_PM2.5'] = predictions\n",
    "test_df.head()\n"
   ]
  },
  {
   "cell_type": "code",
   "execution_count": 402,
   "id": "24b866e1",
   "metadata": {},
   "outputs": [
    {
     "data": {
      "image/png": "[encoded data removed]",
      "text/plain": [
       "<Figure size 576x432 with 1 Axes>"
      ]
     },
     "metadata": {
      "needs_background": "light"
     },
     "output_type": "display_data"
    }
   ],
   "source": [
    "test_df.plot(figsize=(8,6), color = ['blue', 'red']);\n",
    "plt.title(\"PM2.5 Prediction\")\n",
    "plt.ylabel('ug/m^3')\n",
    "plt.show()"
   ]
  },
  {
   "cell_type": "code",
   "execution_count": 412,
   "id": "b5391e00",
   "metadata": {},
   "outputs": [
    {
     "name": "stdout",
     "output_type": "stream",
     "text": [
      "RMSE from Bidirectional RNN Model: 24.6866404961901\n"
     ]
    }
   ],
   "source": [
    "rmse_rnn = rmse(test_df['PM2.5'], test_df['predicted_PM2.5'])\n",
    "print(\"RMSE from Bidirectional RNN Model: {}\".format(str(rmse_rnn)))"
   ]
  },
  {
   "cell_type": "markdown",
   "id": "67cc8216",
   "metadata": {},
   "source": [
    "### 2. Bidirectional LSTM Model"
   ]
  },
  {
   "cell_type": "code",
   "execution_count": 16,
   "id": "8030d438",
   "metadata": {},
   "outputs": [
    {
     "name": "stdout",
     "output_type": "stream",
     "text": [
      "Model: \"sequential_1\"\n",
      "_________________________________________________________________\n",
      " Layer (type)                Output Shape              Param #   \n",
      "=================================================================\n",
      " bidirectional (Bidirectiona  (None, 168, 64)          8704      \n",
      " l)                                                              \n",
      "                                                                 \n",
      " dropout_4 (Dropout)         (None, 168, 64)           0         \n",
      "                                                                 \n",
      " lstm_5 (LSTM)               (None, 168, 32)           12416     \n",
      "                                                                 \n",
      " dropout_5 (Dropout)         (None, 168, 32)           0         \n",
      "                                                                 \n",
      " lstm_6 (LSTM)               (None, 168, 32)           8320      \n",
      "                                                                 \n",
      " dropout_6 (Dropout)         (None, 168, 32)           0         \n",
      "                                                                 \n",
      " lstm_7 (LSTM)               (None, 32)                8320      \n",
      "                                                                 \n",
      " dropout_7 (Dropout)         (None, 32)                0         \n",
      "                                                                 \n",
      " dense_1 (Dense)             (None, 1)                 33        \n",
      "                                                                 \n",
      "=================================================================\n",
      "Total params: 37,793\n",
      "Trainable params: 37,793\n",
      "Non-trainable params: 0\n",
      "_________________________________________________________________\n"
     ]
    }
   ],
   "source": [
    "bi_rnn_model = Sequential()\n",
    "bi_rnn_model.add(Bidirectional(LSTM(units=32, return_sequences=True), input_shape = (n_input,1)))\n",
    "bi_rnn_model.add(Dropout(0.2))\n",
    "bi_rnn_model.add(LSTM(units= 32 , return_sequences=True))\n",
    "bi_rnn_model.add(Dropout(0.2))\n",
    "bi_rnn_model.add(LSTM(units= 32 , return_sequences=True))\n",
    "bi_rnn_model.add(Dropout(0.2))\n",
    "bi_rnn_model.add(LSTM(units= 32))\n",
    "bi_rnn_model.add(Dropout(0.2))\n",
    "bi_rnn_model.add(Dense(units = 1,activation='linear'))\n",
    "bi_rnn_model.compile(optimizer='adam', loss='mse', metrics=['mse'])\n",
    "\n",
    "bi_rnn_model.summary()"
   ]
  },
  {
   "cell_type": "code",
   "execution_count": 17,
   "id": "5e9c6c6c",
   "metadata": {},
   "outputs": [
    {
     "name": "stdout",
     "output_type": "stream",
     "text": [
      "Epoch 1/50\n",
      "648/648 [==============================] - 118s 164ms/step - loss: 0.0206 - mse: 0.0206\n",
      "Epoch 2/50\n",
      "648/648 [==============================] - 99s 153ms/step - loss: 0.0138 - mse: 0.0138\n",
      "Epoch 3/50\n",
      "648/648 [==============================] - 91s 141ms/step - loss: 0.0119 - mse: 0.0119\n",
      "Epoch 4/50\n",
      "648/648 [==============================] - 98s 151ms/step - loss: 0.0099 - mse: 0.0099\n",
      "Epoch 5/50\n",
      "648/648 [==============================] - 114s 176ms/step - loss: 0.0094 - mse: 0.0094\n",
      "Epoch 6/50\n",
      "648/648 [==============================] - 89s 137ms/step - loss: 0.0084 - mse: 0.0084\n",
      "Epoch 7/50\n",
      "648/648 [==============================] - 84s 129ms/step - loss: 0.0080 - mse: 0.0080\n",
      "Epoch 8/50\n",
      "648/648 [==============================] - 84s 130ms/step - loss: 0.0081 - mse: 0.0081\n",
      "Epoch 9/50\n",
      "648/648 [==============================] - 85s 131ms/step - loss: 0.0074 - mse: 0.0074\n",
      "Epoch 10/50\n",
      "648/648 [==============================] - 85s 131ms/step - loss: 0.0070 - mse: 0.0070\n",
      "Epoch 11/50\n",
      "648/648 [==============================] - 85s 131ms/step - loss: 0.0068 - mse: 0.0068\n",
      "Epoch 12/50\n",
      "648/648 [==============================] - 85s 131ms/step - loss: 0.0066 - mse: 0.0066\n",
      "Epoch 13/50\n",
      "648/648 [==============================] - 86s 132ms/step - loss: 0.0062 - mse: 0.0062\n",
      "Epoch 14/50\n",
      "648/648 [==============================] - 86s 132ms/step - loss: 0.0062 - mse: 0.0062\n",
      "Epoch 15/50\n",
      "648/648 [==============================] - 85s 132ms/step - loss: 0.0062 - mse: 0.0062\n",
      "Epoch 16/50\n",
      "648/648 [==============================] - 87s 134ms/step - loss: 0.0059 - mse: 0.0059\n",
      "Epoch 17/50\n",
      "648/648 [==============================] - 86s 133ms/step - loss: 0.0056 - mse: 0.0056\n",
      "Epoch 18/50\n",
      "648/648 [==============================] - 86s 133ms/step - loss: 0.0063 - mse: 0.0063\n",
      "Epoch 19/50\n",
      "648/648 [==============================] - 86s 133ms/step - loss: 0.0055 - mse: 0.0055\n",
      "Epoch 20/50\n",
      "648/648 [==============================] - 86s 133ms/step - loss: 0.0057 - mse: 0.0057\n",
      "Epoch 21/50\n",
      "648/648 [==============================] - 86s 133ms/step - loss: 0.0053 - mse: 0.0053\n",
      "Epoch 22/50\n",
      "648/648 [==============================] - 86s 133ms/step - loss: 0.0055 - mse: 0.0055\n",
      "Epoch 23/50\n",
      "648/648 [==============================] - 87s 134ms/step - loss: 0.0049 - mse: 0.0049\n",
      "Epoch 24/50\n",
      "648/648 [==============================] - 87s 134ms/step - loss: 0.0054 - mse: 0.0054\n",
      "Epoch 25/50\n",
      "648/648 [==============================] - 87s 134ms/step - loss: 0.0050 - mse: 0.0050\n",
      "Epoch 26/50\n",
      "648/648 [==============================] - 87s 134ms/step - loss: 0.0048 - mse: 0.0048\n",
      "Epoch 27/50\n",
      "648/648 [==============================] - 87s 134ms/step - loss: 0.0051 - mse: 0.0051\n",
      "Epoch 28/50\n",
      "648/648 [==============================] - 87s 134ms/step - loss: 0.0053 - mse: 0.0053\n",
      "Epoch 29/50\n",
      "648/648 [==============================] - 87s 134ms/step - loss: 0.0047 - mse: 0.0047\n",
      "Epoch 30/50\n",
      "648/648 [==============================] - 86s 133ms/step - loss: 0.0045 - mse: 0.0045\n",
      "Epoch 31/50\n",
      "648/648 [==============================] - 86s 133ms/step - loss: 0.0050 - mse: 0.0050\n",
      "Epoch 32/50\n",
      "648/648 [==============================] - 87s 134ms/step - loss: 0.0046 - mse: 0.0046\n",
      "Epoch 33/50\n",
      "648/648 [==============================] - 87s 134ms/step - loss: 0.0045 - mse: 0.0045\n",
      "Epoch 34/50\n",
      "648/648 [==============================] - 86s 133ms/step - loss: 0.0045 - mse: 0.0045\n",
      "Epoch 35/50\n",
      "648/648 [==============================] - 86s 133ms/step - loss: 0.0046 - mse: 0.0046\n",
      "Epoch 36/50\n",
      "648/648 [==============================] - 86s 133ms/step - loss: 0.0047 - mse: 0.0047\n",
      "Epoch 37/50\n",
      "648/648 [==============================] - 87s 134ms/step - loss: 0.0047 - mse: 0.0047\n",
      "Epoch 38/50\n",
      "648/648 [==============================] - 87s 134ms/step - loss: 0.0048 - mse: 0.0048\n",
      "Epoch 39/50\n",
      "648/648 [==============================] - 86s 133ms/step - loss: 0.0043 - mse: 0.0043\n",
      "Epoch 40/50\n",
      "648/648 [==============================] - 87s 134ms/step - loss: 0.0044 - mse: 0.0044\n",
      "Epoch 41/50\n",
      "648/648 [==============================] - 87s 134ms/step - loss: 0.0044 - mse: 0.0044\n",
      "Epoch 42/50\n",
      "648/648 [==============================] - 87s 134ms/step - loss: 0.0046 - mse: 0.0046\n",
      "Epoch 43/50\n",
      "648/648 [==============================] - 87s 134ms/step - loss: 0.0041 - mse: 0.0041\n",
      "Epoch 44/50\n",
      "648/648 [==============================] - 87s 134ms/step - loss: 0.0044 - mse: 0.0044\n",
      "Epoch 45/50\n",
      "648/648 [==============================] - 90s 140ms/step - loss: 0.0041 - mse: 0.0041\n",
      "Epoch 46/50\n",
      "648/648 [==============================] - 88s 136ms/step - loss: 0.0043 - mse: 0.0043\n",
      "Epoch 47/50\n",
      "648/648 [==============================] - 87s 134ms/step - loss: 0.0041 - mse: 0.0041\n",
      "Epoch 48/50\n",
      "648/648 [==============================] - 87s 134ms/step - loss: 0.0042 - mse: 0.0042\n",
      "Epoch 49/50\n",
      "648/648 [==============================] - 87s 134ms/step - loss: 0.0041 - mse: 0.0041\n",
      "Epoch 50/50\n",
      "648/648 [==============================] - 87s 135ms/step - loss: 0.0044 - mse: 0.0044\n"
     ]
    }
   ],
   "source": [
    "history_bi_rnn = bi_rnn_model.fit(generator, epochs=50)"
   ]
  },
  {
   "cell_type": "code",
   "execution_count": 18,
   "id": "b917c579",
   "metadata": {},
   "outputs": [
    {
     "data": {
      "image/png": "[encoded data removed]",
      "text/plain": [
       "<Figure size 432x288 with 1 Axes>"
      ]
     },
     "metadata": {
      "needs_background": "light"
     },
     "output_type": "display_data"
    }
   ],
   "source": [
    "plt.plot(history_bi_rnn.history['loss'])\n",
    "plt.title('loss - mean squared error')\n",
    "plt.xlabel('epochs')\n",
    "plt.show()\n"
   ]
  },
  {
   "cell_type": "code",
   "execution_count": 19,
   "id": "9a57da31",
   "metadata": {},
   "outputs": [],
   "source": [
    "bi_rnn_predictions = []\n",
    "\n",
    "first_eval_batch = scaled_train[-n_input:]\n",
    "current_batch = first_eval_batch.reshape((1, n_input, 1))\n",
    "\n",
    "for i in range(len(pm25_test)):\n",
    "    \n",
    "    # get prediction 1 time stamp ahead ([0] is for grabbing just the number instead of [array])\n",
    "    current_pred = bi_rnn_model.predict(current_batch)[0]\n",
    "    \n",
    "    # store prediction\n",
    "    bi_rnn_predictions.append(current_pred) \n",
    "    \n",
    "    # update batch to now include prediction and drop first value\n",
    "    current_batch = np.append(current_batch[:,1:,:],[[current_pred]],axis=1)"
   ]
  },
  {
   "cell_type": "code",
   "execution_count": 20,
   "id": "77ec8f68",
   "metadata": {},
   "outputs": [],
   "source": [
    "bi_rnn_predictions = scaler.inverse_transform(bi_rnn_predictions)"
   ]
  },
  {
   "cell_type": "code",
   "execution_count": 30,
   "id": "08be26e1",
   "metadata": {},
   "outputs": [
    {
     "data": {
      "text/html": [
       "<div>\n",
       "<style scoped>\n",
       "    .dataframe tbody tr th:only-of-type {\n",
       "        vertical-align: middle;\n",
       "    }\n",
       "\n",
       "    .dataframe tbody tr th {\n",
       "        vertical-align: top;\n",
       "    }\n",
       "\n",
       "    .dataframe thead th {\n",
       "        text-align: right;\n",
       "    }\n",
       "</style>\n",
       "<table border=\"1\" class=\"dataframe\">\n",
       "  <thead>\n",
       "    <tr style=\"text-align: right;\">\n",
       "      <th></th>\n",
       "      <th>PM2.5</th>\n",
       "    </tr>\n",
       "    <tr>\n",
       "      <th>datetime</th>\n",
       "      <th></th>\n",
       "    </tr>\n",
       "  </thead>\n",
       "  <tbody>\n",
       "    <tr>\n",
       "      <th>2022-01-04 00:00:00</th>\n",
       "      <td>29</td>\n",
       "    </tr>\n",
       "    <tr>\n",
       "      <th>2022-01-04 01:00:00</th>\n",
       "      <td>35</td>\n",
       "    </tr>\n",
       "    <tr>\n",
       "      <th>2022-01-04 02:00:00</th>\n",
       "      <td>37</td>\n",
       "    </tr>\n",
       "    <tr>\n",
       "      <th>2022-01-04 03:00:00</th>\n",
       "      <td>47</td>\n",
       "    </tr>\n",
       "    <tr>\n",
       "      <th>2022-01-04 04:00:00</th>\n",
       "      <td>50</td>\n",
       "    </tr>\n",
       "  </tbody>\n",
       "</table>\n",
       "</div>"
      ],
      "text/plain": [
       "                     PM2.5\n",
       "datetime                  \n",
       "2022-01-04 00:00:00     29\n",
       "2022-01-04 01:00:00     35\n",
       "2022-01-04 02:00:00     37\n",
       "2022-01-04 03:00:00     47\n",
       "2022-01-04 04:00:00     50"
      ]
     },
     "execution_count": 30,
     "metadata": {},
     "output_type": "execute_result"
    }
   ],
   "source": [
    "test_df2 = pd.DataFrame(data['PM2.5'][-n_values:])\n",
    "test_df2.head()"
   ]
  },
  {
   "cell_type": "code",
   "execution_count": 31,
   "id": "09ab7592",
   "metadata": {},
   "outputs": [
    {
     "data": {
      "text/html": [
       "<div>\n",
       "<style scoped>\n",
       "    .dataframe tbody tr th:only-of-type {\n",
       "        vertical-align: middle;\n",
       "    }\n",
       "\n",
       "    .dataframe tbody tr th {\n",
       "        vertical-align: top;\n",
       "    }\n",
       "\n",
       "    .dataframe thead th {\n",
       "        text-align: right;\n",
       "    }\n",
       "</style>\n",
       "<table border=\"1\" class=\"dataframe\">\n",
       "  <thead>\n",
       "    <tr style=\"text-align: right;\">\n",
       "      <th></th>\n",
       "      <th>PM2.5</th>\n",
       "      <th>Predicted PM2.5_Bi</th>\n",
       "    </tr>\n",
       "    <tr>\n",
       "      <th>datetime</th>\n",
       "      <th></th>\n",
       "      <th></th>\n",
       "    </tr>\n",
       "  </thead>\n",
       "  <tbody>\n",
       "    <tr>\n",
       "      <th>2022-01-04 00:00:00</th>\n",
       "      <td>29</td>\n",
       "      <td>31.452607</td>\n",
       "    </tr>\n",
       "    <tr>\n",
       "      <th>2022-01-04 01:00:00</th>\n",
       "      <td>35</td>\n",
       "      <td>32.480589</td>\n",
       "    </tr>\n",
       "    <tr>\n",
       "      <th>2022-01-04 02:00:00</th>\n",
       "      <td>37</td>\n",
       "      <td>35.286287</td>\n",
       "    </tr>\n",
       "    <tr>\n",
       "      <th>2022-01-04 03:00:00</th>\n",
       "      <td>47</td>\n",
       "      <td>38.099231</td>\n",
       "    </tr>\n",
       "    <tr>\n",
       "      <th>2022-01-04 04:00:00</th>\n",
       "      <td>50</td>\n",
       "      <td>40.003850</td>\n",
       "    </tr>\n",
       "  </tbody>\n",
       "</table>\n",
       "</div>"
      ],
      "text/plain": [
       "                     PM2.5  Predicted PM2.5_Bi\n",
       "datetime                                      \n",
       "2022-01-04 00:00:00     29           31.452607\n",
       "2022-01-04 01:00:00     35           32.480589\n",
       "2022-01-04 02:00:00     37           35.286287\n",
       "2022-01-04 03:00:00     47           38.099231\n",
       "2022-01-04 04:00:00     50           40.003850"
      ]
     },
     "execution_count": 31,
     "metadata": {},
     "output_type": "execute_result"
    }
   ],
   "source": [
    "test_df2['Predicted PM2.5_Bi'] = bi_rnn_predictions\n",
    "test_df2.head()"
   ]
  },
  {
   "cell_type": "code",
   "execution_count": 32,
   "id": "78f815bd",
   "metadata": {},
   "outputs": [
    {
     "data": {
      "image/png": "[encoded data removed]",
      "text/plain": [
       "<Figure size 576x432 with 1 Axes>"
      ]
     },
     "metadata": {
      "needs_background": "light"
     },
     "output_type": "display_data"
    }
   ],
   "source": [
    "test_df2.plot(figsize=(8,6), color = ['blue', 'red']);\n",
    "plt.title(\"PM2.5 Prediction - Bidirectional RNN Model\")\n",
    "plt.ylabel('ug/m^3')\n",
    "plt.show()"
   ]
  },
  {
   "cell_type": "code",
   "execution_count": 33,
   "id": "f1eb39d8",
   "metadata": {},
   "outputs": [
    {
     "name": "stdout",
     "output_type": "stream",
     "text": [
      "RMSE from Bidirectional RNN Model: 11.799104446053526\n"
     ]
    }
   ],
   "source": [
    "rmse_bi_rnn = rmse(test_df2['PM2.5'], test_df2['Predicted PM2.5_Bi'])\n",
    "print(\"RMSE from Bidirectional RNN Model: {}\".format(str(rmse_bi_rnn)))"
   ]
  },
  {
   "cell_type": "markdown",
   "id": "747da45a",
   "metadata": {},
   "source": [
    "# Summary\n",
    "The PACF plots showed that pollutants changes in Din Daeng District, Bangkok had insignificantly relationship with its lag 1. Even though each pollutant seemed to have effects on each other, their errors after training with Vector Autoregression model did not clearly different from training with Autoregression model. Moreover, both VAR and AR models were still not good to predict the value in the next five days (120 hours) as their errors were still high compared to their means."
   ]
  }
 ],
 "metadata": {
  "kernelspec": {
   "display_name": "Python 3 (ipykernel)",
   "language": "python",
   "name": "python3"
  },
  "language_info": {
   "codemirror_mode": {
    "name": "ipython",
    "version": 3
   },
   "file_extension": ".py",
   "mimetype": "text/x-python",
   "name": "python",
   "nbconvert_exporter": "python",
   "pygments_lexer": "ipython3",
   "version": "3.8.10"
  }
 },
 "nbformat": 4,
 "nbformat_minor": 5
}
