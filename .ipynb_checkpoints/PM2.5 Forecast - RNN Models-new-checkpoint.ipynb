{
 "cells": [
  {
   "cell_type": "markdown",
   "id": "35dab1eb",
   "metadata": {},
   "source": [
    "# Bangkok PM2.5 Forecast - RNN Models\n",
    "\n",
    "\n",
    "## Dataset\n",
    "The dataset is from the previous section (Bangkok PM2.5 Forecast - VAR and AR.ipynb)\n",
    "\n",
    "## RNN Models\n",
    "The RNN models used to train and predict PM2.5 are unidirectional and bidirectional LSTM models.\n"
   ]
  },
  {
   "cell_type": "markdown",
   "id": "2b66041f",
   "metadata": {},
   "source": [
    "## Import libraries"
   ]
  },
  {
   "cell_type": "code",
   "execution_count": 396,
   "id": "e0cfb751",
   "metadata": {},
   "outputs": [],
   "source": [
    "import tensorflow as tf\n",
    "from tensorflow.keras.layers import Dense, LSTM, Bidirectional, Dropout\n",
    "from tensorflow.keras.models import Model\n",
    "from tensorflow.keras.preprocessing.sequence import TimeseriesGenerator\n",
    "from tensorflow.keras.optimizers import Adam\n",
    "from tensorflow.keras import Sequential\n",
    "from sklearn.preprocessing import MinMaxScaler\n",
    "\n",
    "%matplotlib inline"
   ]
  },
  {
   "cell_type": "markdown",
   "id": "882032e5",
   "metadata": {},
   "source": [
    "## Import Data"
   ]
  },
  {
   "cell_type": "code",
   "execution_count": 338,
   "id": "8f775eb7",
   "metadata": {},
   "outputs": [],
   "source": [
    "data = pd.read_csv('cleaned_dataset.csv')"
   ]
  },
  {
   "cell_type": "code",
   "execution_count": 339,
   "id": "53e875a6",
   "metadata": {},
   "outputs": [
    {
     "data": {
      "text/html": [
       "<div>\n",
       "<style scoped>\n",
       "    .dataframe tbody tr th:only-of-type {\n",
       "        vertical-align: middle;\n",
       "    }\n",
       "\n",
       "    .dataframe tbody tr th {\n",
       "        vertical-align: top;\n",
       "    }\n",
       "\n",
       "    .dataframe thead th {\n",
       "        text-align: right;\n",
       "    }\n",
       "</style>\n",
       "<table border=\"1\" class=\"dataframe\">\n",
       "  <thead>\n",
       "    <tr style=\"text-align: right;\">\n",
       "      <th></th>\n",
       "      <th>datetime</th>\n",
       "      <th>PM2.5</th>\n",
       "      <th>PM10</th>\n",
       "      <th>O3</th>\n",
       "      <th>CO</th>\n",
       "      <th>NO2</th>\n",
       "    </tr>\n",
       "  </thead>\n",
       "  <tbody>\n",
       "    <tr>\n",
       "      <th>0</th>\n",
       "      <td>2021-12-01 00:00:00</td>\n",
       "      <td>32</td>\n",
       "      <td>79</td>\n",
       "      <td>18.0</td>\n",
       "      <td>1.28</td>\n",
       "      <td>32.0</td>\n",
       "    </tr>\n",
       "    <tr>\n",
       "      <th>1</th>\n",
       "      <td>2021-12-01 01:00:00</td>\n",
       "      <td>27</td>\n",
       "      <td>78</td>\n",
       "      <td>19.0</td>\n",
       "      <td>1.23</td>\n",
       "      <td>29.0</td>\n",
       "    </tr>\n",
       "    <tr>\n",
       "      <th>2</th>\n",
       "      <td>2021-12-01 02:00:00</td>\n",
       "      <td>25</td>\n",
       "      <td>74</td>\n",
       "      <td>21.0</td>\n",
       "      <td>1.22</td>\n",
       "      <td>25.0</td>\n",
       "    </tr>\n",
       "    <tr>\n",
       "      <th>3</th>\n",
       "      <td>2021-12-01 03:00:00</td>\n",
       "      <td>33</td>\n",
       "      <td>72</td>\n",
       "      <td>30.0</td>\n",
       "      <td>1.15</td>\n",
       "      <td>18.0</td>\n",
       "    </tr>\n",
       "    <tr>\n",
       "      <th>4</th>\n",
       "      <td>2021-12-01 04:00:00</td>\n",
       "      <td>40</td>\n",
       "      <td>66</td>\n",
       "      <td>19.0</td>\n",
       "      <td>1.23</td>\n",
       "      <td>26.0</td>\n",
       "    </tr>\n",
       "  </tbody>\n",
       "</table>\n",
       "</div>"
      ],
      "text/plain": [
       "              datetime  PM2.5  PM10    O3    CO   NO2\n",
       "0  2021-12-01 00:00:00     32    79  18.0  1.28  32.0\n",
       "1  2021-12-01 01:00:00     27    78  19.0  1.23  29.0\n",
       "2  2021-12-01 02:00:00     25    74  21.0  1.22  25.0\n",
       "3  2021-12-01 03:00:00     33    72  30.0  1.15  18.0\n",
       "4  2021-12-01 04:00:00     40    66  19.0  1.23  26.0"
      ]
     },
     "execution_count": 339,
     "metadata": {},
     "output_type": "execute_result"
    }
   ],
   "source": [
    "data.head()"
   ]
  },
  {
   "cell_type": "code",
   "execution_count": 340,
   "id": "0d71cda7",
   "metadata": {},
   "outputs": [
    {
     "data": {
      "text/plain": [
       "864"
      ]
     },
     "execution_count": 340,
     "metadata": {},
     "output_type": "execute_result"
    }
   ],
   "source": [
    "len(data)"
   ]
  },
  {
   "cell_type": "markdown",
   "id": "7712ad2f",
   "metadata": {},
   "source": [
    "# Deep Learning"
   ]
  },
  {
   "cell_type": "markdown",
   "id": "c402dc66",
   "metadata": {},
   "source": [
    "## Train Test Split\n",
    "The data from the previous 7 days was used to predict the quantity of PM2.5 in the next 2 days."
   ]
  },
  {
   "cell_type": "code",
   "execution_count": 359,
   "id": "a507ca67",
   "metadata": {},
   "outputs": [],
   "source": [
    "# assign the number of input (7 days x 24 hours)\n",
    "n_input = 7*24\n",
    "\n",
    "# assign the number of values to predict (2 days x 24 hours)\n",
    "n_values = 2*24"
   ]
  },
  {
   "cell_type": "code",
   "execution_count": 342,
   "id": "29827265",
   "metadata": {},
   "outputs": [
    {
     "data": {
      "text/plain": [
       "(816, 1)"
      ]
     },
     "execution_count": 342,
     "metadata": {},
     "output_type": "execute_result"
    }
   ],
   "source": [
    "pm25_train = data['PM2.5'][:-n_values].values.reshape(-1,1)\n",
    "pm25_test = data['PM2.5'][-n_values:].values.reshape(-1,1)\n",
    "pm25_train.shape"
   ]
  },
  {
   "cell_type": "code",
   "execution_count": 343,
   "id": "59b8a904",
   "metadata": {},
   "outputs": [
    {
     "data": {
      "text/plain": [
       "(48, 1)"
      ]
     },
     "execution_count": 343,
     "metadata": {},
     "output_type": "execute_result"
    }
   ],
   "source": [
    "pm25_test.shape"
   ]
  },
  {
   "cell_type": "markdown",
   "id": "e07c904c",
   "metadata": {},
   "source": [
    "## Data Regularization"
   ]
  },
  {
   "cell_type": "code",
   "execution_count": 348,
   "id": "fc4930bb",
   "metadata": {},
   "outputs": [],
   "source": [
    "scaler = MinMaxScaler()\n",
    "scaled_train = scaler.fit_transform(pm25_train)\n",
    "scaled_test = scaler.transform(pm25_test)"
   ]
  },
  {
   "cell_type": "code",
   "execution_count": 349,
   "id": "cbb83e04",
   "metadata": {},
   "outputs": [
    {
     "data": {
      "text/plain": [
       "array([[0.2247191 ],\n",
       "       [0.16853933],\n",
       "       [0.14606742],\n",
       "       [0.23595506],\n",
       "       [0.31460674]])"
      ]
     },
     "execution_count": 349,
     "metadata": {},
     "output_type": "execute_result"
    }
   ],
   "source": [
    "scaled_train[:5]"
   ]
  },
  {
   "cell_type": "markdown",
   "id": "6f42935c",
   "metadata": {},
   "source": [
    "## Training Set Generator\n",
    "The training batches including input data with the same intervals and their target value were generated.  "
   ]
  },
  {
   "cell_type": "code",
   "execution_count": 372,
   "id": "de83b914",
   "metadata": {},
   "outputs": [],
   "source": [
    "generator = tf.keras.preprocessing.sequence.TimeseriesGenerator(scaled_train, scaled_train, length=n_input, batch_size=1)"
   ]
  },
  {
   "cell_type": "code",
   "execution_count": 373,
   "id": "16d90ef4",
   "metadata": {},
   "outputs": [
    {
     "data": {
      "text/plain": [
       "648"
      ]
     },
     "execution_count": 373,
     "metadata": {},
     "output_type": "execute_result"
    }
   ],
   "source": [
    "len(generator)"
   ]
  },
  {
   "cell_type": "code",
   "execution_count": 374,
   "id": "62418e64",
   "metadata": {},
   "outputs": [
    {
     "name": "stdout",
     "output_type": "stream",
     "text": [
      "Given data: [0.2247191  0.16853933 0.14606742 0.23595506 0.31460674 0.40449438\n",
      " 0.39325843 0.33707865 0.28089888 0.25842697 0.26966292 0.25842697\n",
      " 0.28089888 0.29213483 0.31460674 0.26966292 0.17977528 0.16853933\n",
      " 0.19101124 0.2247191  0.31460674 0.34831461 0.35955056 0.35955056\n",
      " 0.30337079 0.23595506 0.21348315 0.19101124 0.25842697 0.30337079\n",
      " 0.25842697 0.26966292 0.25842697 0.2247191  0.28089888 0.29213483\n",
      " 0.33707865 0.28089888 0.30337079 0.25842697 0.20224719 0.20224719\n",
      " 0.19101124 0.23595506 0.26966292 0.26966292 0.29213483 0.30337079\n",
      " 0.2247191  0.21348315 0.25842697 0.30337079 0.33707865 0.34831461\n",
      " 0.37078652 0.39325843 0.38202247 0.33707865 0.3258427  0.3258427\n",
      " 0.26966292 0.26966292 0.21348315 0.2247191  0.2247191  0.21348315\n",
      " 0.20224719 0.19101124 0.17977528 0.19101124 0.20224719 0.16853933\n",
      " 0.2247191  0.16853933 0.19101124 0.25842697 0.24719101 0.2247191\n",
      " 0.2247191  0.21348315 0.17977528 0.29213483 0.34831461 0.31460674\n",
      " 0.34831461 0.26966292 0.30337079 0.23595506 0.16853933 0.16853933\n",
      " 0.20224719 0.26966292 0.3258427  0.41573034 0.38202247 0.35955056\n",
      " 0.24719101 0.21348315 0.2247191  0.25842697 0.26966292 0.28089888\n",
      " 0.24719101 0.17977528 0.28089888 0.33707865 0.53932584 0.40449438\n",
      " 0.35955056 0.33707865 0.2247191  0.26966292 0.23595506 0.28089888\n",
      " 0.29213483 0.30337079 0.30337079 0.42696629 0.35955056 0.39325843\n",
      " 0.30337079 0.25842697 0.31460674 0.29213483 0.26966292 0.30337079\n",
      " 0.30337079 0.29213483 0.34831461 0.41573034 0.42696629 0.39325843\n",
      " 0.35955056 0.31460674 0.29213483 0.2247191  0.19101124 0.23595506\n",
      " 0.24719101 0.24719101 0.24719101 0.2247191  0.23595506 0.28089888\n",
      " 0.31460674 0.48314607 0.59550562 0.50561798 0.47191011 0.39325843\n",
      " 0.35955056 0.4494382  0.48314607 0.49438202 0.49438202 0.43820225\n",
      " 0.40449438 0.43820225 0.42696629 0.37078652 0.34831461 0.34831461\n",
      " 0.37078652 0.41573034 0.4494382  0.4494382  0.4494382  0.43820225]\n",
      "Target: [0.40449438]\n"
     ]
    }
   ],
   "source": [
    "# check the first batch\n",
    "sample_x, sample_y = training_data[0]\n",
    "print('Given data: {}'.format(sample_x.flatten()))\n",
    "print('Target: {}'.format(sample_y.flatten()))"
   ]
  },
  {
   "cell_type": "markdown",
   "id": "ba2efaa5",
   "metadata": {},
   "source": [
    "## RNN Model\n",
    "\n",
    "1. Unidirectional RNN Model\n",
    "2. Bidirectional RNN Model*\n",
    "\n",
    "Note: The bidirectional model architecture [here](https://medium.com/analytics-vidhya/weather-forecasting-with-recurrent-neural-networks-1eaa057d70c3)"
   ]
  },
  {
   "cell_type": "markdown",
   "id": "a9953db7",
   "metadata": {},
   "source": [
    "### 1. Unidirectional RNN Model"
   ]
  },
  {
   "cell_type": "code",
   "execution_count": 375,
   "id": "279272e1",
   "metadata": {},
   "outputs": [
    {
     "name": "stdout",
     "output_type": "stream",
     "text": [
      "Model: \"sequential_25\"\n",
      "_________________________________________________________________\n",
      " Layer (type)                Output Shape              Param #   \n",
      "=================================================================\n",
      " lstm_94 (LSTM)              (None, 168, 32)           4352      \n",
      "                                                                 \n",
      " dropout_84 (Dropout)        (None, 168, 32)           0         \n",
      "                                                                 \n",
      " lstm_95 (LSTM)              (None, 168, 32)           8320      \n",
      "                                                                 \n",
      " dropout_85 (Dropout)        (None, 168, 32)           0         \n",
      "                                                                 \n",
      " lstm_96 (LSTM)              (None, 168, 32)           8320      \n",
      "                                                                 \n",
      " dropout_86 (Dropout)        (None, 168, 32)           0         \n",
      "                                                                 \n",
      " lstm_97 (LSTM)              (None, 32)                8320      \n",
      "                                                                 \n",
      " dropout_87 (Dropout)        (None, 32)                0         \n",
      "                                                                 \n",
      " dense_31 (Dense)            (None, 1)                 33        \n",
      "                                                                 \n",
      "=================================================================\n",
      "Total params: 29,345\n",
      "Trainable params: 29,345\n",
      "Non-trainable params: 0\n",
      "_________________________________________________________________\n"
     ]
    }
   ],
   "source": [
    "rnn_model = Sequential()\n",
    "rnn_model.add(LSTM(units=32, return_sequences=True, input_shape = (n_input,1)))\n",
    "rnn_model.add(Dropout(0.2))\n",
    "rnn_model.add(LSTM(units= 32 , return_sequences=True))\n",
    "rnn_model.add(Dropout(0.2))\n",
    "rnn_model.add(LSTM(units= 32 , return_sequences=True))\n",
    "rnn_model.add(Dropout(0.2))\n",
    "rnn_model.add(LSTM(units= 32))\n",
    "rnn_model.add(Dropout(0.2))\n",
    "rnn_model.add(Dense(units = 1,activation='linear'))\n",
    "rnn_model.compile(optimizer='adam', loss='mse', metrics=['mse'])\n",
    "rnn_model.summary()"
   ]
  },
  {
   "cell_type": "code",
   "execution_count": 377,
   "id": "3134cedb",
   "metadata": {},
   "outputs": [
    {
     "name": "stdout",
     "output_type": "stream",
     "text": [
      "Epoch 1/50\n",
      "648/648 [==============================] - 84s 130ms/step - loss: 0.0247 - mse: 0.0247\n",
      "Epoch 2/50\n",
      "648/648 [==============================] - 88s 136ms/step - loss: 0.0188 - mse: 0.0188\n",
      "Epoch 3/50\n",
      "648/648 [==============================] - 88s 137ms/step - loss: 0.0159 - mse: 0.0159\n",
      "Epoch 4/50\n",
      "648/648 [==============================] - 96s 148ms/step - loss: 0.0141 - mse: 0.0141\n",
      "Epoch 5/50\n",
      "648/648 [==============================] - 85s 131ms/step - loss: 0.0106 - mse: 0.0106\n",
      "Epoch 6/50\n",
      "648/648 [==============================] - 92s 142ms/step - loss: 0.0101 - mse: 0.0101\n",
      "Epoch 7/50\n",
      "648/648 [==============================] - 88s 136ms/step - loss: 0.0092 - mse: 0.0092\n",
      "Epoch 8/50\n",
      "648/648 [==============================] - 86s 133ms/step - loss: 0.0075 - mse: 0.0075\n",
      "Epoch 9/50\n",
      "648/648 [==============================] - 92s 141ms/step - loss: 0.0065 - mse: 0.0065\n",
      "Epoch 10/50\n",
      "648/648 [==============================] - 83s 129ms/step - loss: 0.0065 - mse: 0.0065\n",
      "Epoch 11/50\n",
      "648/648 [==============================] - 83s 128ms/step - loss: 0.0064 - mse: 0.0064\n",
      "Epoch 12/50\n",
      "648/648 [==============================] - 82s 127ms/step - loss: 0.0057 - mse: 0.0057\n",
      "Epoch 13/50\n",
      "648/648 [==============================] - 88s 135ms/step - loss: 0.0056 - mse: 0.0056\n",
      "Epoch 14/50\n",
      "648/648 [==============================] - 84s 130ms/step - loss: 0.0054 - mse: 0.0054\n",
      "Epoch 15/50\n",
      "648/648 [==============================] - 85s 132ms/step - loss: 0.0053 - mse: 0.0053\n",
      "Epoch 16/50\n",
      "648/648 [==============================] - 85s 131ms/step - loss: 0.0057 - mse: 0.0057\n",
      "Epoch 17/50\n",
      "648/648 [==============================] - 83s 128ms/step - loss: 0.0053 - mse: 0.0053\n",
      "Epoch 18/50\n",
      "648/648 [==============================] - 83s 127ms/step - loss: 0.0050 - mse: 0.0050\n",
      "Epoch 19/50\n",
      "648/648 [==============================] - 83s 128ms/step - loss: 0.0049 - mse: 0.0049\n",
      "Epoch 20/50\n",
      "648/648 [==============================] - 91s 140ms/step - loss: 0.0048 - mse: 0.0048\n",
      "Epoch 21/50\n",
      "648/648 [==============================] - 93s 143ms/step - loss: 0.0045 - mse: 0.0045\n",
      "Epoch 22/50\n",
      "648/648 [==============================] - 84s 130ms/step - loss: 0.0050 - mse: 0.0050\n",
      "Epoch 23/50\n",
      "648/648 [==============================] - 86s 133ms/step - loss: 0.0046 - mse: 0.0046\n",
      "Epoch 24/50\n",
      "648/648 [==============================] - 87s 134ms/step - loss: 0.0047 - mse: 0.0047\n",
      "Epoch 25/50\n",
      "648/648 [==============================] - 90s 139ms/step - loss: 0.0048 - mse: 0.0048\n",
      "Epoch 26/50\n",
      "648/648 [==============================] - 88s 136ms/step - loss: 0.0045 - mse: 0.0045\n",
      "Epoch 27/50\n",
      "648/648 [==============================] - 90s 139ms/step - loss: 0.0048 - mse: 0.0048\n",
      "Epoch 28/50\n",
      "648/648 [==============================] - 84s 130ms/step - loss: 0.0047 - mse: 0.0047\n",
      "Epoch 29/50\n",
      "648/648 [==============================] - 84s 129ms/step - loss: 0.0043 - mse: 0.0043\n",
      "Epoch 30/50\n",
      "648/648 [==============================] - 83s 128ms/step - loss: 0.0043 - mse: 0.0043\n",
      "Epoch 31/50\n",
      "648/648 [==============================] - 84s 129ms/step - loss: 0.0046 - mse: 0.0046\n",
      "Epoch 32/50\n",
      "648/648 [==============================] - 87s 134ms/step - loss: 0.0042 - mse: 0.0042\n",
      "Epoch 33/50\n",
      "648/648 [==============================] - 84s 130ms/step - loss: 0.0046 - mse: 0.0046\n",
      "Epoch 34/50\n",
      "648/648 [==============================] - 84s 129ms/step - loss: 0.0049 - mse: 0.0049\n",
      "Epoch 35/50\n",
      "648/648 [==============================] - 84s 129ms/step - loss: 0.0044 - mse: 0.0044\n",
      "Epoch 36/50\n",
      "648/648 [==============================] - 84s 129ms/step - loss: 0.0041 - mse: 0.0041\n",
      "Epoch 37/50\n",
      "648/648 [==============================] - 84s 130ms/step - loss: 0.0041 - mse: 0.0041\n",
      "Epoch 38/50\n",
      "648/648 [==============================] - 84s 130ms/step - loss: 0.0047 - mse: 0.0047\n",
      "Epoch 39/50\n",
      "648/648 [==============================] - 83s 129ms/step - loss: 0.0042 - mse: 0.0042\n",
      "Epoch 40/50\n",
      "648/648 [==============================] - 84s 129ms/step - loss: 0.0042 - mse: 0.0042\n",
      "Epoch 41/50\n",
      "648/648 [==============================] - 84s 129ms/step - loss: 0.0046 - mse: 0.0046\n",
      "Epoch 42/50\n",
      "648/648 [==============================] - 84s 129ms/step - loss: 0.0039 - mse: 0.0039\n",
      "Epoch 43/50\n",
      "648/648 [==============================] - 84s 129ms/step - loss: 0.0044 - mse: 0.0044\n",
      "Epoch 44/50\n",
      "648/648 [==============================] - 92s 142ms/step - loss: 0.0043 - mse: 0.0043\n",
      "Epoch 45/50\n",
      "648/648 [==============================] - 87s 134ms/step - loss: 0.0042 - mse: 0.0042\n",
      "Epoch 46/50\n",
      "648/648 [==============================] - 85s 131ms/step - loss: 0.0045 - mse: 0.0045\n",
      "Epoch 47/50\n",
      "648/648 [==============================] - 83s 129ms/step - loss: 0.0039 - mse: 0.0039\n",
      "Epoch 48/50\n",
      "648/648 [==============================] - 84s 129ms/step - loss: 0.0039 - mse: 0.0039\n",
      "Epoch 49/50\n",
      "648/648 [==============================] - 84s 129ms/step - loss: 0.0040 - mse: 0.0040\n",
      "Epoch 50/50\n",
      "648/648 [==============================] - 84s 129ms/step - loss: 0.0037 - mse: 0.0037\n"
     ]
    },
    {
     "data": {
      "text/plain": [
       "<keras.callbacks.History at 0x7f0c8fd46670>"
      ]
     },
     "execution_count": 377,
     "metadata": {},
     "output_type": "execute_result"
    }
   ],
   "source": [
    "rnn_model.fit(generator, epochs=50)"
   ]
  },
  {
   "cell_type": "code",
   "execution_count": 378,
   "id": "b4d0382d",
   "metadata": {},
   "outputs": [],
   "source": [
    "test_predictions = []\n",
    "\n",
    "first_eval_batch = scaled_train[-n_input:]\n",
    "current_batch = first_eval_batch.reshape((1, n_input, 1))\n",
    "\n",
    "for i in range(len(pm25_test)):\n",
    "    \n",
    "    # get prediction 1 time stamp ahead ([0] is for grabbing just the number instead of [array])\n",
    "    current_pred = rnn_model.predict(current_batch)[0]\n",
    "    \n",
    "    # store prediction\n",
    "    test_predictions.append(current_pred) \n",
    "    \n",
    "    # update batch to now include prediction and drop first value\n",
    "    current_batch = np.append(current_batch[:,1:,:],[[current_pred]],axis=1)"
   ]
  },
  {
   "cell_type": "code",
   "execution_count": 379,
   "id": "48c3f810",
   "metadata": {},
   "outputs": [
    {
     "data": {
      "text/plain": [
       "(48, 1)"
      ]
     },
     "execution_count": 379,
     "metadata": {},
     "output_type": "execute_result"
    }
   ],
   "source": [
    "predictions = scaler.inverse_transform(test_predictions)\n",
    "predictions.shape"
   ]
  },
  {
   "cell_type": "code",
   "execution_count": 380,
   "id": "e0f95d7b",
   "metadata": {},
   "outputs": [
    {
     "data": {
      "text/html": [
       "<div>\n",
       "<style scoped>\n",
       "    .dataframe tbody tr th:only-of-type {\n",
       "        vertical-align: middle;\n",
       "    }\n",
       "\n",
       "    .dataframe tbody tr th {\n",
       "        vertical-align: top;\n",
       "    }\n",
       "\n",
       "    .dataframe thead th {\n",
       "        text-align: right;\n",
       "    }\n",
       "</style>\n",
       "<table border=\"1\" class=\"dataframe\">\n",
       "  <thead>\n",
       "    <tr style=\"text-align: right;\">\n",
       "      <th></th>\n",
       "      <th>PM2.5</th>\n",
       "    </tr>\n",
       "    <tr>\n",
       "      <th>datetime</th>\n",
       "      <th></th>\n",
       "    </tr>\n",
       "  </thead>\n",
       "  <tbody>\n",
       "    <tr>\n",
       "      <th>2022-01-04 00:00:00</th>\n",
       "      <td>29</td>\n",
       "    </tr>\n",
       "    <tr>\n",
       "      <th>2022-01-04 01:00:00</th>\n",
       "      <td>35</td>\n",
       "    </tr>\n",
       "    <tr>\n",
       "      <th>2022-01-04 02:00:00</th>\n",
       "      <td>37</td>\n",
       "    </tr>\n",
       "    <tr>\n",
       "      <th>2022-01-04 03:00:00</th>\n",
       "      <td>47</td>\n",
       "    </tr>\n",
       "    <tr>\n",
       "      <th>2022-01-04 04:00:00</th>\n",
       "      <td>50</td>\n",
       "    </tr>\n",
       "  </tbody>\n",
       "</table>\n",
       "</div>"
      ],
      "text/plain": [
       "                     PM2.5\n",
       "datetime                  \n",
       "2022-01-04 00:00:00     29\n",
       "2022-01-04 01:00:00     35\n",
       "2022-01-04 02:00:00     37\n",
       "2022-01-04 03:00:00     47\n",
       "2022-01-04 04:00:00     50"
      ]
     },
     "execution_count": 380,
     "metadata": {},
     "output_type": "execute_result"
    }
   ],
   "source": [
    "test_df = pd.DataFrame(cleaned_pollutants['PM2.5'][-n_values:])\n",
    "test_df.head()"
   ]
  },
  {
   "cell_type": "code",
   "execution_count": 381,
   "id": "7acccd7c",
   "metadata": {},
   "outputs": [
    {
     "data": {
      "text/html": [
       "<div>\n",
       "<style scoped>\n",
       "    .dataframe tbody tr th:only-of-type {\n",
       "        vertical-align: middle;\n",
       "    }\n",
       "\n",
       "    .dataframe tbody tr th {\n",
       "        vertical-align: top;\n",
       "    }\n",
       "\n",
       "    .dataframe thead th {\n",
       "        text-align: right;\n",
       "    }\n",
       "</style>\n",
       "<table border=\"1\" class=\"dataframe\">\n",
       "  <thead>\n",
       "    <tr style=\"text-align: right;\">\n",
       "      <th></th>\n",
       "      <th>PM2.5</th>\n",
       "      <th>predicted_PM2.5</th>\n",
       "    </tr>\n",
       "    <tr>\n",
       "      <th>datetime</th>\n",
       "      <th></th>\n",
       "      <th></th>\n",
       "    </tr>\n",
       "  </thead>\n",
       "  <tbody>\n",
       "    <tr>\n",
       "      <th>2022-01-04 00:00:00</th>\n",
       "      <td>29</td>\n",
       "      <td>30.387596</td>\n",
       "    </tr>\n",
       "    <tr>\n",
       "      <th>2022-01-04 01:00:00</th>\n",
       "      <td>35</td>\n",
       "      <td>32.767334</td>\n",
       "    </tr>\n",
       "    <tr>\n",
       "      <th>2022-01-04 02:00:00</th>\n",
       "      <td>37</td>\n",
       "      <td>33.981889</td>\n",
       "    </tr>\n",
       "    <tr>\n",
       "      <th>2022-01-04 03:00:00</th>\n",
       "      <td>47</td>\n",
       "      <td>35.545881</td>\n",
       "    </tr>\n",
       "    <tr>\n",
       "      <th>2022-01-04 04:00:00</th>\n",
       "      <td>50</td>\n",
       "      <td>36.865138</td>\n",
       "    </tr>\n",
       "  </tbody>\n",
       "</table>\n",
       "</div>"
      ],
      "text/plain": [
       "                     PM2.5  predicted_PM2.5\n",
       "datetime                                   \n",
       "2022-01-04 00:00:00     29        30.387596\n",
       "2022-01-04 01:00:00     35        32.767334\n",
       "2022-01-04 02:00:00     37        33.981889\n",
       "2022-01-04 03:00:00     47        35.545881\n",
       "2022-01-04 04:00:00     50        36.865138"
      ]
     },
     "execution_count": 381,
     "metadata": {},
     "output_type": "execute_result"
    }
   ],
   "source": [
    "test_df['predicted_PM2.5'] = predictions\n",
    "test_df.head()\n"
   ]
  },
  {
   "cell_type": "code",
   "execution_count": 402,
   "id": "ef456c0e",
   "metadata": {},
   "outputs": [
    {
     "data": {
      "image/png": "[encoded data removed]",
      "text/plain": [
       "<Figure size 576x432 with 1 Axes>"
      ]
     },
     "metadata": {
      "needs_background": "light"
     },
     "output_type": "display_data"
    }
   ],
   "source": [
    "test_df.plot(figsize=(8,6), color = ['blue', 'red']);\n",
    "plt.title(\"PM2.5 Prediction\")\n",
    "plt.ylabel('ug/m^3')\n",
    "plt.show()"
   ]
  },
  {
   "cell_type": "markdown",
   "id": "cdf232f1",
   "metadata": {},
   "source": [
    "### 2. Bidirectional LSTM Model"
   ]
  },
  {
   "cell_type": "code",
   "execution_count": 392,
   "id": "0133cf18",
   "metadata": {},
   "outputs": [
    {
     "name": "stdout",
     "output_type": "stream",
     "text": [
      "Model: \"sequential_28\"\n",
      "_________________________________________________________________\n",
      " Layer (type)                Output Shape              Param #   \n",
      "=================================================================\n",
      " bidirectional_2 (Bidirectio  (None, 168, 64)          8704      \n",
      " nal)                                                            \n",
      "                                                                 \n",
      " dropout_96 (Dropout)        (None, 168, 64)           0         \n",
      "                                                                 \n",
      " lstm_107 (LSTM)             (None, 168, 32)           12416     \n",
      "                                                                 \n",
      " dropout_97 (Dropout)        (None, 168, 32)           0         \n",
      "                                                                 \n",
      " lstm_108 (LSTM)             (None, 168, 32)           8320      \n",
      "                                                                 \n",
      " dropout_98 (Dropout)        (None, 168, 32)           0         \n",
      "                                                                 \n",
      " lstm_109 (LSTM)             (None, 32)                8320      \n",
      "                                                                 \n",
      " dropout_99 (Dropout)        (None, 32)                0         \n",
      "                                                                 \n",
      " dense_34 (Dense)            (None, 1)                 33        \n",
      "                                                                 \n",
      "=================================================================\n",
      "Total params: 37,793\n",
      "Trainable params: 37,793\n",
      "Non-trainable params: 0\n",
      "_________________________________________________________________\n"
     ]
    }
   ],
   "source": [
    "bi_rnn_model = Sequential()\n",
    "bi_rnn_model.add(Bidirectional(LSTM(units=32, return_sequences=True), input_shape = (n_input,1)))\n",
    "bi_rnn_model.add(Dropout(0.2))\n",
    "bi_rnn_model.add(LSTM(units= 32 , return_sequences=True))\n",
    "bi_rnn_model.add(Dropout(0.2))\n",
    "bi_rnn_model.add(LSTM(units= 32 , return_sequences=True))\n",
    "bi_rnn_model.add(Dropout(0.2))\n",
    "bi_rnn_model.add(LSTM(units= 32))\n",
    "bi_rnn_model.add(Dropout(0.2))\n",
    "bi_rnn_model.add(Dense(units = 1,activation='linear'))\n",
    "bi_rnn_model.compile(optimizer='adam', loss='mse', metrics=['mse'])\n",
    "\n",
    "bi_rnn_model.summary()"
   ]
  },
  {
   "cell_type": "code",
   "execution_count": 394,
   "id": "5e9c6c6c",
   "metadata": {},
   "outputs": [
    {
     "name": "stdout",
     "output_type": "stream",
     "text": [
      "Epoch 1/50\n",
      "648/648 [==============================] - 93s 135ms/step - loss: 0.0215 - mse: 0.0215\n",
      "Epoch 2/50\n",
      "648/648 [==============================] - 89s 137ms/step - loss: 0.0160 - mse: 0.0160\n",
      "Epoch 3/50\n",
      "648/648 [==============================] - 89s 137ms/step - loss: 0.0127 - mse: 0.0127\n",
      "Epoch 4/50\n",
      "648/648 [==============================] - 89s 138ms/step - loss: 0.0107 - mse: 0.0107\n",
      "Epoch 5/50\n",
      "648/648 [==============================] - 89s 138ms/step - loss: 0.0097 - mse: 0.0097\n",
      "Epoch 6/50\n",
      "648/648 [==============================] - 90s 138ms/step - loss: 0.0095 - mse: 0.0095\n",
      "Epoch 7/50\n",
      "648/648 [==============================] - 89s 138ms/step - loss: 0.0078 - mse: 0.0078\n",
      "Epoch 8/50\n",
      "648/648 [==============================] - 89s 138ms/step - loss: 0.0082 - mse: 0.0082\n",
      "Epoch 9/50\n",
      "648/648 [==============================] - 89s 138ms/step - loss: 0.0079 - mse: 0.0079\n",
      "Epoch 10/50\n",
      "648/648 [==============================] - 90s 138ms/step - loss: 0.0076 - mse: 0.0076\n",
      "Epoch 11/50\n",
      "648/648 [==============================] - 89s 137ms/step - loss: 0.0074 - mse: 0.0074\n",
      "Epoch 12/50\n",
      "648/648 [==============================] - 89s 138ms/step - loss: 0.0068 - mse: 0.0068\n",
      "Epoch 13/50\n",
      "648/648 [==============================] - 89s 138ms/step - loss: 0.0058 - mse: 0.0058\n",
      "Epoch 14/50\n",
      "648/648 [==============================] - 89s 138ms/step - loss: 0.0066 - mse: 0.0066\n",
      "Epoch 15/50\n",
      "648/648 [==============================] - 95s 147ms/step - loss: 0.0063 - mse: 0.0063\n",
      "Epoch 16/50\n",
      "648/648 [==============================] - 96s 148ms/step - loss: 0.0061 - mse: 0.0061\n",
      "Epoch 17/50\n",
      "648/648 [==============================] - 90s 139ms/step - loss: 0.0060 - mse: 0.0060\n",
      "Epoch 18/50\n",
      "648/648 [==============================] - 90s 140ms/step - loss: 0.0057 - mse: 0.0057\n",
      "Epoch 19/50\n",
      "648/648 [==============================] - 90s 139ms/step - loss: 0.0053 - mse: 0.0053\n",
      "Epoch 20/50\n",
      "648/648 [==============================] - 91s 140ms/step - loss: 0.0056 - mse: 0.0056\n",
      "Epoch 21/50\n",
      "648/648 [==============================] - 90s 140ms/step - loss: 0.0054 - mse: 0.0054\n",
      "Epoch 22/50\n",
      "648/648 [==============================] - 91s 140ms/step - loss: 0.0056 - mse: 0.0056\n",
      "Epoch 23/50\n",
      "648/648 [==============================] - 91s 140ms/step - loss: 0.0053 - mse: 0.0053\n",
      "Epoch 24/50\n",
      "648/648 [==============================] - 91s 140ms/step - loss: 0.0056 - mse: 0.0056\n",
      "Epoch 25/50\n",
      "648/648 [==============================] - 91s 140ms/step - loss: 0.0049 - mse: 0.0049\n",
      "Epoch 26/50\n",
      "648/648 [==============================] - 92s 141ms/step - loss: 0.0054 - mse: 0.0054\n",
      "Epoch 27/50\n",
      "648/648 [==============================] - 90s 138ms/step - loss: 0.0049 - mse: 0.0049\n",
      "Epoch 28/50\n",
      "648/648 [==============================] - 90s 138ms/step - loss: 0.0049 - mse: 0.0049\n",
      "Epoch 29/50\n",
      "648/648 [==============================] - 90s 139ms/step - loss: 0.0052 - mse: 0.0052\n",
      "Epoch 30/50\n",
      "648/648 [==============================] - 90s 140ms/step - loss: 0.0052 - mse: 0.0052\n",
      "Epoch 31/50\n",
      "648/648 [==============================] - 90s 139ms/step - loss: 0.0050 - mse: 0.0050\n",
      "Epoch 32/50\n",
      "648/648 [==============================] - 90s 138ms/step - loss: 0.0049 - mse: 0.0049\n",
      "Epoch 33/50\n",
      "648/648 [==============================] - 90s 139ms/step - loss: 0.0049 - mse: 0.0049\n",
      "Epoch 34/50\n",
      "648/648 [==============================] - 90s 139ms/step - loss: 0.0047 - mse: 0.0047\n",
      "Epoch 35/50\n",
      "648/648 [==============================] - 90s 139ms/step - loss: 0.0047 - mse: 0.0047\n",
      "Epoch 36/50\n",
      "648/648 [==============================] - 90s 139ms/step - loss: 0.0045 - mse: 0.0045\n",
      "Epoch 37/50\n",
      "648/648 [==============================] - 91s 140ms/step - loss: 0.0044 - mse: 0.0044\n",
      "Epoch 38/50\n",
      "648/648 [==============================] - 91s 140ms/step - loss: 0.0046 - mse: 0.0046\n",
      "Epoch 39/50\n",
      "648/648 [==============================] - 91s 140ms/step - loss: 0.0046 - mse: 0.0046\n",
      "Epoch 40/50\n",
      "648/648 [==============================] - 91s 140ms/step - loss: 0.0045 - mse: 0.0045\n",
      "Epoch 41/50\n",
      "648/648 [==============================] - 91s 140ms/step - loss: 0.0042 - mse: 0.0042\n",
      "Epoch 42/50\n",
      "648/648 [==============================] - 91s 140ms/step - loss: 0.0045 - mse: 0.0045\n",
      "Epoch 43/50\n",
      "648/648 [==============================] - 91s 140ms/step - loss: 0.0043 - mse: 0.0043\n",
      "Epoch 44/50\n",
      "648/648 [==============================] - 91s 140ms/step - loss: 0.0045 - mse: 0.0045\n",
      "Epoch 45/50\n",
      "648/648 [==============================] - 91s 140ms/step - loss: 0.0041 - mse: 0.0041\n",
      "Epoch 46/50\n",
      "648/648 [==============================] - 91s 140ms/step - loss: 0.0043 - mse: 0.0043\n",
      "Epoch 47/50\n",
      "648/648 [==============================] - 90s 139ms/step - loss: 0.0046 - mse: 0.0046\n",
      "Epoch 48/50\n",
      "648/648 [==============================] - 90s 139ms/step - loss: 0.0042 - mse: 0.0042\n",
      "Epoch 49/50\n",
      "648/648 [==============================] - 91s 140ms/step - loss: 0.0045 - mse: 0.0045\n",
      "Epoch 50/50\n",
      "648/648 [==============================] - 90s 139ms/step - loss: 0.0042 - mse: 0.0042\n"
     ]
    }
   ],
   "source": [
    "history_bi_rnn = bi_rnn_model.fit(generator, epochs=50)"
   ]
  },
  {
   "cell_type": "code",
   "execution_count": 401,
   "id": "b917c579",
   "metadata": {},
   "outputs": [
    {
     "data": {
      "image/png": "[encoded data removed]",
      "text/plain": [
       "<Figure size 432x288 with 1 Axes>"
      ]
     },
     "metadata": {
      "needs_background": "light"
     },
     "output_type": "display_data"
    }
   ],
   "source": [
    "plt.plot(history_bi_rnn.history['loss'])\n",
    "plt.title('loss - mean squared error')\n",
    "plt.xlabel('epochs')\n",
    "plt.show()\n"
   ]
  },
  {
   "cell_type": "code",
   "execution_count": 403,
   "id": "5ffbd73a",
   "metadata": {},
   "outputs": [],
   "source": [
    "bi_rnn_predictions = []\n",
    "\n",
    "first_eval_batch = scaled_train[-n_input:]\n",
    "current_batch = first_eval_batch.reshape((1, n_input, 1))\n",
    "\n",
    "for i in range(len(pm25_test)):\n",
    "    \n",
    "    # get prediction 1 time stamp ahead ([0] is for grabbing just the number instead of [array])\n",
    "    current_pred = bi_rnn_model.predict(current_batch)[0]\n",
    "    \n",
    "    # store prediction\n",
    "    bi_rnn_predictions.append(current_pred) \n",
    "    \n",
    "    # update batch to now include prediction and drop first value\n",
    "    current_batch = np.append(current_batch[:,1:,:],[[current_pred]],axis=1)"
   ]
  },
  {
   "cell_type": "code",
   "execution_count": 404,
   "id": "dd823f84",
   "metadata": {},
   "outputs": [],
   "source": [
    "bi_rnn_predictions = scaler.inverse_transform(bi_rnn_predictions)"
   ]
  },
  {
   "cell_type": "code",
   "execution_count": 405,
   "id": "66d8c46b",
   "metadata": {},
   "outputs": [
    {
     "data": {
      "text/html": [
       "<div>\n",
       "<style scoped>\n",
       "    .dataframe tbody tr th:only-of-type {\n",
       "        vertical-align: middle;\n",
       "    }\n",
       "\n",
       "    .dataframe tbody tr th {\n",
       "        vertical-align: top;\n",
       "    }\n",
       "\n",
       "    .dataframe thead th {\n",
       "        text-align: right;\n",
       "    }\n",
       "</style>\n",
       "<table border=\"1\" class=\"dataframe\">\n",
       "  <thead>\n",
       "    <tr style=\"text-align: right;\">\n",
       "      <th></th>\n",
       "      <th>PM2.5</th>\n",
       "    </tr>\n",
       "    <tr>\n",
       "      <th>datetime</th>\n",
       "      <th></th>\n",
       "    </tr>\n",
       "  </thead>\n",
       "  <tbody>\n",
       "    <tr>\n",
       "      <th>2022-01-04 00:00:00</th>\n",
       "      <td>29</td>\n",
       "    </tr>\n",
       "    <tr>\n",
       "      <th>2022-01-04 01:00:00</th>\n",
       "      <td>35</td>\n",
       "    </tr>\n",
       "    <tr>\n",
       "      <th>2022-01-04 02:00:00</th>\n",
       "      <td>37</td>\n",
       "    </tr>\n",
       "    <tr>\n",
       "      <th>2022-01-04 03:00:00</th>\n",
       "      <td>47</td>\n",
       "    </tr>\n",
       "    <tr>\n",
       "      <th>2022-01-04 04:00:00</th>\n",
       "      <td>50</td>\n",
       "    </tr>\n",
       "  </tbody>\n",
       "</table>\n",
       "</div>"
      ],
      "text/plain": [
       "                     PM2.5\n",
       "datetime                  \n",
       "2022-01-04 00:00:00     29\n",
       "2022-01-04 01:00:00     35\n",
       "2022-01-04 02:00:00     37\n",
       "2022-01-04 03:00:00     47\n",
       "2022-01-04 04:00:00     50"
      ]
     },
     "execution_count": 405,
     "metadata": {},
     "output_type": "execute_result"
    }
   ],
   "source": [
    "test_df2 = pd.DataFrame(cleaned_pollutants['PM2.5'][-n_values:])\n",
    "test_df2.head()"
   ]
  },
  {
   "cell_type": "code",
   "execution_count": 407,
   "id": "2bf4ed0b",
   "metadata": {},
   "outputs": [
    {
     "data": {
      "text/html": [
       "<div>\n",
       "<style scoped>\n",
       "    .dataframe tbody tr th:only-of-type {\n",
       "        vertical-align: middle;\n",
       "    }\n",
       "\n",
       "    .dataframe tbody tr th {\n",
       "        vertical-align: top;\n",
       "    }\n",
       "\n",
       "    .dataframe thead th {\n",
       "        text-align: right;\n",
       "    }\n",
       "</style>\n",
       "<table border=\"1\" class=\"dataframe\">\n",
       "  <thead>\n",
       "    <tr style=\"text-align: right;\">\n",
       "      <th></th>\n",
       "      <th>PM2.5</th>\n",
       "      <th>Predicted PM2.5_Bi</th>\n",
       "    </tr>\n",
       "    <tr>\n",
       "      <th>datetime</th>\n",
       "      <th></th>\n",
       "      <th></th>\n",
       "    </tr>\n",
       "  </thead>\n",
       "  <tbody>\n",
       "    <tr>\n",
       "      <th>2022-01-04 00:00:00</th>\n",
       "      <td>29</td>\n",
       "      <td>30.193062</td>\n",
       "    </tr>\n",
       "    <tr>\n",
       "      <th>2022-01-04 01:00:00</th>\n",
       "      <td>35</td>\n",
       "      <td>30.642991</td>\n",
       "    </tr>\n",
       "    <tr>\n",
       "      <th>2022-01-04 02:00:00</th>\n",
       "      <td>37</td>\n",
       "      <td>34.401198</td>\n",
       "    </tr>\n",
       "    <tr>\n",
       "      <th>2022-01-04 03:00:00</th>\n",
       "      <td>47</td>\n",
       "      <td>38.019436</td>\n",
       "    </tr>\n",
       "    <tr>\n",
       "      <th>2022-01-04 04:00:00</th>\n",
       "      <td>50</td>\n",
       "      <td>39.942829</td>\n",
       "    </tr>\n",
       "  </tbody>\n",
       "</table>\n",
       "</div>"
      ],
      "text/plain": [
       "                     PM2.5  Predicted PM2.5_Bi\n",
       "datetime                                      \n",
       "2022-01-04 00:00:00     29           30.193062\n",
       "2022-01-04 01:00:00     35           30.642991\n",
       "2022-01-04 02:00:00     37           34.401198\n",
       "2022-01-04 03:00:00     47           38.019436\n",
       "2022-01-04 04:00:00     50           39.942829"
      ]
     },
     "execution_count": 407,
     "metadata": {},
     "output_type": "execute_result"
    }
   ],
   "source": [
    "test_df2['Predicted PM2.5_Bi'] = bi_rnn_predictions\n",
    "test_df2.head()"
   ]
  },
  {
   "cell_type": "code",
   "execution_count": 408,
   "id": "a99035f4",
   "metadata": {},
   "outputs": [
    {
     "data": {
      "image/png": "[encoded data removed]",
      "text/plain": [
       "<Figure size 576x432 with 1 Axes>"
      ]
     },
     "metadata": {
      "needs_background": "light"
     },
     "output_type": "display_data"
    }
   ],
   "source": [
    "test_df2.plot(figsize=(8,6), color = ['blue', 'red']);\n",
    "plt.title(\"PM2.5 Prediction - Bidirectional RNN Model\")\n",
    "plt.ylabel('ug/m^3')\n",
    "plt.show()"
   ]
  },
  {
   "cell_type": "markdown",
   "id": "747da45a",
   "metadata": {},
   "source": [
    "# Summary\n",
    "The PACF plots showed that pollutants changes in Din Daeng District, Bangkok had insignificantly relationship with its lag 1. Even though each pollutant seemed to have effects on each other, their errors after training with Vector Autoregression model did not clearly different from training with Autoregression model. Moreover, both VAR and AR models were still not good to predict the value in the next five days (120 hours) as their errors were still high compared to their means."
   ]
  }
 ],
 "metadata": {
  "kernelspec": {
   "display_name": "Python 3 (ipykernel)",
   "language": "python",
   "name": "python3"
  },
  "language_info": {
   "codemirror_mode": {
    "name": "ipython",
    "version": 3
   },
   "file_extension": ".py",
   "mimetype": "text/x-python",
   "name": "python",
   "nbconvert_exporter": "python",
   "pygments_lexer": "ipython3",
   "version": "3.8.10"
  }
 },
 "nbformat": 4,
 "nbformat_minor": 5
}
