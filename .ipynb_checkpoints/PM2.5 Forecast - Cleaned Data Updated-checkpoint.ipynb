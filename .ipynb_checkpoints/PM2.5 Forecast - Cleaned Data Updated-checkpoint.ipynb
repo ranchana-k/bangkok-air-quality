{
 "cells": [
  {
   "cell_type": "markdown",
   "id": "35dab1eb",
   "metadata": {},
   "source": [
    "# Bangkok PM2.5 Forecast - Cleaned Data Updated\n",
    "\n",
    "\n",
    "## Dataset\n",
    "The data collected for time series analysis and prediction with VAR and AR were from Dec 1, 2021 to Jan 5, 2022. As it was hourly measured, there were 864 rows in total with 815 rows (with differencing level 1) for training and 48 rows for testing. Then, the dataset was updated to Feb 23, 2022 09:00:00 (totally 2,026 data rows) in order to train with RNN model.\n"
   ]
  },
  {
   "cell_type": "markdown",
   "id": "2b66041f",
   "metadata": {},
   "source": [
    "## Import libraries"
   ]
  },
  {
   "cell_type": "code",
   "execution_count": 1,
   "id": "e0cfb751",
   "metadata": {},
   "outputs": [],
   "source": [
    "import pandas as pd\n",
    "import numpy as np"
   ]
  },
  {
   "cell_type": "markdown",
   "id": "882032e5",
   "metadata": {},
   "source": [
    "## Import Data and Data Preparation"
   ]
  },
  {
   "cell_type": "code",
   "execution_count": 2,
   "id": "de9ec789",
   "metadata": {},
   "outputs": [],
   "source": [
    "df1 = pd.read_csv('report_54t_dindaeng.csv')\n",
    "df2 = pd.read_csv('report_54t_dindaeng2.csv')"
   ]
  },
  {
   "cell_type": "code",
   "execution_count": 3,
   "id": "c9206267",
   "metadata": {},
   "outputs": [
    {
     "name": "stdout",
     "output_type": "stream",
     "text": [
      "864\n",
      "1162\n"
     ]
    }
   ],
   "source": [
    "print(len(df1))\n",
    "print(len(df2))"
   ]
  },
  {
   "cell_type": "code",
   "execution_count": 4,
   "id": "9b7e3bbc",
   "metadata": {},
   "outputs": [
    {
     "data": {
      "text/html": [
       "<div>\n",
       "<style scoped>\n",
       "    .dataframe tbody tr th:only-of-type {\n",
       "        vertical-align: middle;\n",
       "    }\n",
       "\n",
       "    .dataframe tbody tr th {\n",
       "        vertical-align: top;\n",
       "    }\n",
       "\n",
       "    .dataframe thead th {\n",
       "        text-align: right;\n",
       "    }\n",
       "</style>\n",
       "<table border=\"1\" class=\"dataframe\">\n",
       "  <thead>\n",
       "    <tr style=\"text-align: right;\">\n",
       "      <th></th>\n",
       "      <th>No</th>\n",
       "      <th>date</th>\n",
       "      <th>time</th>\n",
       "      <th>PM2.5</th>\n",
       "      <th>PM10</th>\n",
       "      <th>O3</th>\n",
       "      <th>CO</th>\n",
       "      <th>NO2</th>\n",
       "    </tr>\n",
       "  </thead>\n",
       "  <tbody>\n",
       "    <tr>\n",
       "      <th>0</th>\n",
       "      <td>1</td>\n",
       "      <td>2021-12-01</td>\n",
       "      <td>00:00 - 01:00</td>\n",
       "      <td>32</td>\n",
       "      <td>79</td>\n",
       "      <td>18.0</td>\n",
       "      <td>1.28</td>\n",
       "      <td>32.0</td>\n",
       "    </tr>\n",
       "    <tr>\n",
       "      <th>1</th>\n",
       "      <td>2</td>\n",
       "      <td>2021-12-01</td>\n",
       "      <td>01:00 - 02:00</td>\n",
       "      <td>27</td>\n",
       "      <td>78</td>\n",
       "      <td>19.0</td>\n",
       "      <td>1.23</td>\n",
       "      <td>29.0</td>\n",
       "    </tr>\n",
       "    <tr>\n",
       "      <th>2</th>\n",
       "      <td>3</td>\n",
       "      <td>2021-12-01</td>\n",
       "      <td>02:00 - 03:00</td>\n",
       "      <td>25</td>\n",
       "      <td>74</td>\n",
       "      <td>21.0</td>\n",
       "      <td>1.22</td>\n",
       "      <td>25.0</td>\n",
       "    </tr>\n",
       "    <tr>\n",
       "      <th>3</th>\n",
       "      <td>4</td>\n",
       "      <td>2021-12-01</td>\n",
       "      <td>03:00 - 04:00</td>\n",
       "      <td>33</td>\n",
       "      <td>72</td>\n",
       "      <td>30.0</td>\n",
       "      <td>1.15</td>\n",
       "      <td>18.0</td>\n",
       "    </tr>\n",
       "    <tr>\n",
       "      <th>4</th>\n",
       "      <td>5</td>\n",
       "      <td>2021-12-01</td>\n",
       "      <td>04:00 - 05:00</td>\n",
       "      <td>40</td>\n",
       "      <td>66</td>\n",
       "      <td>19.0</td>\n",
       "      <td>1.23</td>\n",
       "      <td>26.0</td>\n",
       "    </tr>\n",
       "  </tbody>\n",
       "</table>\n",
       "</div>"
      ],
      "text/plain": [
       "   No        date           time  PM2.5  PM10    O3    CO   NO2\n",
       "0   1  2021-12-01  00:00 - 01:00     32    79  18.0  1.28  32.0\n",
       "1   2  2021-12-01  01:00 - 02:00     27    78  19.0  1.23  29.0\n",
       "2   3  2021-12-01  02:00 - 03:00     25    74  21.0  1.22  25.0\n",
       "3   4  2021-12-01  03:00 - 04:00     33    72  30.0  1.15  18.0\n",
       "4   5  2021-12-01  04:00 - 05:00     40    66  19.0  1.23  26.0"
      ]
     },
     "execution_count": 4,
     "metadata": {},
     "output_type": "execute_result"
    }
   ],
   "source": [
    "raw_data = pd.concat([df1, df2])\n",
    "raw_data.head()"
   ]
  },
  {
   "cell_type": "code",
   "execution_count": 5,
   "id": "9529a35d",
   "metadata": {},
   "outputs": [],
   "source": [
    "# drop 'No' column \n",
    "raw_data = raw_data.drop(['No'], axis=1)"
   ]
  },
  {
   "cell_type": "code",
   "execution_count": 6,
   "id": "3336994b",
   "metadata": {},
   "outputs": [
    {
     "data": {
      "text/html": [
       "<div>\n",
       "<style scoped>\n",
       "    .dataframe tbody tr th:only-of-type {\n",
       "        vertical-align: middle;\n",
       "    }\n",
       "\n",
       "    .dataframe tbody tr th {\n",
       "        vertical-align: top;\n",
       "    }\n",
       "\n",
       "    .dataframe thead th {\n",
       "        text-align: right;\n",
       "    }\n",
       "</style>\n",
       "<table border=\"1\" class=\"dataframe\">\n",
       "  <thead>\n",
       "    <tr style=\"text-align: right;\">\n",
       "      <th></th>\n",
       "      <th>date</th>\n",
       "      <th>time</th>\n",
       "      <th>PM2.5</th>\n",
       "      <th>PM10</th>\n",
       "      <th>O3</th>\n",
       "      <th>CO</th>\n",
       "      <th>NO2</th>\n",
       "      <th>time_</th>\n",
       "    </tr>\n",
       "  </thead>\n",
       "  <tbody>\n",
       "    <tr>\n",
       "      <th>0</th>\n",
       "      <td>2021-12-01</td>\n",
       "      <td>00:00 - 01:00</td>\n",
       "      <td>32</td>\n",
       "      <td>79</td>\n",
       "      <td>18.0</td>\n",
       "      <td>1.28</td>\n",
       "      <td>32.0</td>\n",
       "      <td>00:00</td>\n",
       "    </tr>\n",
       "    <tr>\n",
       "      <th>1</th>\n",
       "      <td>2021-12-01</td>\n",
       "      <td>01:00 - 02:00</td>\n",
       "      <td>27</td>\n",
       "      <td>78</td>\n",
       "      <td>19.0</td>\n",
       "      <td>1.23</td>\n",
       "      <td>29.0</td>\n",
       "      <td>01:00</td>\n",
       "    </tr>\n",
       "    <tr>\n",
       "      <th>2</th>\n",
       "      <td>2021-12-01</td>\n",
       "      <td>02:00 - 03:00</td>\n",
       "      <td>25</td>\n",
       "      <td>74</td>\n",
       "      <td>21.0</td>\n",
       "      <td>1.22</td>\n",
       "      <td>25.0</td>\n",
       "      <td>02:00</td>\n",
       "    </tr>\n",
       "    <tr>\n",
       "      <th>3</th>\n",
       "      <td>2021-12-01</td>\n",
       "      <td>03:00 - 04:00</td>\n",
       "      <td>33</td>\n",
       "      <td>72</td>\n",
       "      <td>30.0</td>\n",
       "      <td>1.15</td>\n",
       "      <td>18.0</td>\n",
       "      <td>03:00</td>\n",
       "    </tr>\n",
       "    <tr>\n",
       "      <th>4</th>\n",
       "      <td>2021-12-01</td>\n",
       "      <td>04:00 - 05:00</td>\n",
       "      <td>40</td>\n",
       "      <td>66</td>\n",
       "      <td>19.0</td>\n",
       "      <td>1.23</td>\n",
       "      <td>26.0</td>\n",
       "      <td>04:00</td>\n",
       "    </tr>\n",
       "  </tbody>\n",
       "</table>\n",
       "</div>"
      ],
      "text/plain": [
       "         date           time  PM2.5  PM10    O3    CO   NO2  time_\n",
       "0  2021-12-01  00:00 - 01:00     32    79  18.0  1.28  32.0  00:00\n",
       "1  2021-12-01  01:00 - 02:00     27    78  19.0  1.23  29.0  01:00\n",
       "2  2021-12-01  02:00 - 03:00     25    74  21.0  1.22  25.0  02:00\n",
       "3  2021-12-01  03:00 - 04:00     33    72  30.0  1.15  18.0  03:00\n",
       "4  2021-12-01  04:00 - 05:00     40    66  19.0  1.23  26.0  04:00"
      ]
     },
     "execution_count": 6,
     "metadata": {},
     "output_type": "execute_result"
    }
   ],
   "source": [
    "raw_data['time_'] = raw_data['time'].str.split().str.get(0)\n",
    "raw_data.head()"
   ]
  },
  {
   "cell_type": "code",
   "execution_count": 7,
   "id": "bb827676",
   "metadata": {},
   "outputs": [
    {
     "data": {
      "text/html": [
       "<div>\n",
       "<style scoped>\n",
       "    .dataframe tbody tr th:only-of-type {\n",
       "        vertical-align: middle;\n",
       "    }\n",
       "\n",
       "    .dataframe tbody tr th {\n",
       "        vertical-align: top;\n",
       "    }\n",
       "\n",
       "    .dataframe thead th {\n",
       "        text-align: right;\n",
       "    }\n",
       "</style>\n",
       "<table border=\"1\" class=\"dataframe\">\n",
       "  <thead>\n",
       "    <tr style=\"text-align: right;\">\n",
       "      <th></th>\n",
       "      <th>date</th>\n",
       "      <th>time</th>\n",
       "      <th>PM2.5</th>\n",
       "      <th>PM10</th>\n",
       "      <th>O3</th>\n",
       "      <th>CO</th>\n",
       "      <th>NO2</th>\n",
       "      <th>time_</th>\n",
       "      <th>datetime</th>\n",
       "    </tr>\n",
       "  </thead>\n",
       "  <tbody>\n",
       "    <tr>\n",
       "      <th>0</th>\n",
       "      <td>2021-12-01</td>\n",
       "      <td>00:00 - 01:00</td>\n",
       "      <td>32</td>\n",
       "      <td>79</td>\n",
       "      <td>18.0</td>\n",
       "      <td>1.28</td>\n",
       "      <td>32.0</td>\n",
       "      <td>00:00</td>\n",
       "      <td>2021-12-01 00:00:00</td>\n",
       "    </tr>\n",
       "    <tr>\n",
       "      <th>1</th>\n",
       "      <td>2021-12-01</td>\n",
       "      <td>01:00 - 02:00</td>\n",
       "      <td>27</td>\n",
       "      <td>78</td>\n",
       "      <td>19.0</td>\n",
       "      <td>1.23</td>\n",
       "      <td>29.0</td>\n",
       "      <td>01:00</td>\n",
       "      <td>2021-12-01 01:00:00</td>\n",
       "    </tr>\n",
       "    <tr>\n",
       "      <th>2</th>\n",
       "      <td>2021-12-01</td>\n",
       "      <td>02:00 - 03:00</td>\n",
       "      <td>25</td>\n",
       "      <td>74</td>\n",
       "      <td>21.0</td>\n",
       "      <td>1.22</td>\n",
       "      <td>25.0</td>\n",
       "      <td>02:00</td>\n",
       "      <td>2021-12-01 02:00:00</td>\n",
       "    </tr>\n",
       "    <tr>\n",
       "      <th>3</th>\n",
       "      <td>2021-12-01</td>\n",
       "      <td>03:00 - 04:00</td>\n",
       "      <td>33</td>\n",
       "      <td>72</td>\n",
       "      <td>30.0</td>\n",
       "      <td>1.15</td>\n",
       "      <td>18.0</td>\n",
       "      <td>03:00</td>\n",
       "      <td>2021-12-01 03:00:00</td>\n",
       "    </tr>\n",
       "    <tr>\n",
       "      <th>4</th>\n",
       "      <td>2021-12-01</td>\n",
       "      <td>04:00 - 05:00</td>\n",
       "      <td>40</td>\n",
       "      <td>66</td>\n",
       "      <td>19.0</td>\n",
       "      <td>1.23</td>\n",
       "      <td>26.0</td>\n",
       "      <td>04:00</td>\n",
       "      <td>2021-12-01 04:00:00</td>\n",
       "    </tr>\n",
       "  </tbody>\n",
       "</table>\n",
       "</div>"
      ],
      "text/plain": [
       "         date           time  PM2.5  PM10    O3    CO   NO2  time_  \\\n",
       "0  2021-12-01  00:00 - 01:00     32    79  18.0  1.28  32.0  00:00   \n",
       "1  2021-12-01  01:00 - 02:00     27    78  19.0  1.23  29.0  01:00   \n",
       "2  2021-12-01  02:00 - 03:00     25    74  21.0  1.22  25.0  02:00   \n",
       "3  2021-12-01  03:00 - 04:00     33    72  30.0  1.15  18.0  03:00   \n",
       "4  2021-12-01  04:00 - 05:00     40    66  19.0  1.23  26.0  04:00   \n",
       "\n",
       "              datetime  \n",
       "0  2021-12-01 00:00:00  \n",
       "1  2021-12-01 01:00:00  \n",
       "2  2021-12-01 02:00:00  \n",
       "3  2021-12-01 03:00:00  \n",
       "4  2021-12-01 04:00:00  "
      ]
     },
     "execution_count": 7,
     "metadata": {},
     "output_type": "execute_result"
    }
   ],
   "source": [
    "raw_data['datetime'] = raw_data['date'] + ' ' + raw_data['time_'] + ':00'\n",
    "raw_data.head()"
   ]
  },
  {
   "cell_type": "code",
   "execution_count": 8,
   "id": "e942a7b2",
   "metadata": {},
   "outputs": [
    {
     "data": {
      "text/html": [
       "<div>\n",
       "<style scoped>\n",
       "    .dataframe tbody tr th:only-of-type {\n",
       "        vertical-align: middle;\n",
       "    }\n",
       "\n",
       "    .dataframe tbody tr th {\n",
       "        vertical-align: top;\n",
       "    }\n",
       "\n",
       "    .dataframe thead th {\n",
       "        text-align: right;\n",
       "    }\n",
       "</style>\n",
       "<table border=\"1\" class=\"dataframe\">\n",
       "  <thead>\n",
       "    <tr style=\"text-align: right;\">\n",
       "      <th></th>\n",
       "      <th>datetime</th>\n",
       "      <th>PM2.5</th>\n",
       "      <th>PM10</th>\n",
       "      <th>O3</th>\n",
       "      <th>CO</th>\n",
       "      <th>NO2</th>\n",
       "    </tr>\n",
       "  </thead>\n",
       "  <tbody>\n",
       "    <tr>\n",
       "      <th>0</th>\n",
       "      <td>2021-12-01 00:00:00</td>\n",
       "      <td>32</td>\n",
       "      <td>79</td>\n",
       "      <td>18.0</td>\n",
       "      <td>1.28</td>\n",
       "      <td>32.0</td>\n",
       "    </tr>\n",
       "    <tr>\n",
       "      <th>1</th>\n",
       "      <td>2021-12-01 01:00:00</td>\n",
       "      <td>27</td>\n",
       "      <td>78</td>\n",
       "      <td>19.0</td>\n",
       "      <td>1.23</td>\n",
       "      <td>29.0</td>\n",
       "    </tr>\n",
       "    <tr>\n",
       "      <th>2</th>\n",
       "      <td>2021-12-01 02:00:00</td>\n",
       "      <td>25</td>\n",
       "      <td>74</td>\n",
       "      <td>21.0</td>\n",
       "      <td>1.22</td>\n",
       "      <td>25.0</td>\n",
       "    </tr>\n",
       "    <tr>\n",
       "      <th>3</th>\n",
       "      <td>2021-12-01 03:00:00</td>\n",
       "      <td>33</td>\n",
       "      <td>72</td>\n",
       "      <td>30.0</td>\n",
       "      <td>1.15</td>\n",
       "      <td>18.0</td>\n",
       "    </tr>\n",
       "    <tr>\n",
       "      <th>4</th>\n",
       "      <td>2021-12-01 04:00:00</td>\n",
       "      <td>40</td>\n",
       "      <td>66</td>\n",
       "      <td>19.0</td>\n",
       "      <td>1.23</td>\n",
       "      <td>26.0</td>\n",
       "    </tr>\n",
       "  </tbody>\n",
       "</table>\n",
       "</div>"
      ],
      "text/plain": [
       "              datetime  PM2.5  PM10    O3    CO   NO2\n",
       "0  2021-12-01 00:00:00     32    79  18.0  1.28  32.0\n",
       "1  2021-12-01 01:00:00     27    78  19.0  1.23  29.0\n",
       "2  2021-12-01 02:00:00     25    74  21.0  1.22  25.0\n",
       "3  2021-12-01 03:00:00     33    72  30.0  1.15  18.0\n",
       "4  2021-12-01 04:00:00     40    66  19.0  1.23  26.0"
      ]
     },
     "execution_count": 8,
     "metadata": {},
     "output_type": "execute_result"
    }
   ],
   "source": [
    "pollutants = raw_data[['datetime', 'PM2.5', 'PM10', 'O3', 'CO', 'NO2']]\n",
    "pollutants.head()"
   ]
  },
  {
   "cell_type": "code",
   "execution_count": 9,
   "id": "f52a5181",
   "metadata": {},
   "outputs": [
    {
     "name": "stderr",
     "output_type": "stream",
     "text": [
      "/tmp/ipykernel_34125/2103422390.py:1: SettingWithCopyWarning: \n",
      "A value is trying to be set on a copy of a slice from a DataFrame.\n",
      "Try using .loc[row_indexer,col_indexer] = value instead\n",
      "\n",
      "See the caveats in the documentation: https://pandas.pydata.org/pandas-docs/stable/user_guide/indexing.html#returning-a-view-versus-a-copy\n",
      "  pollutants['datetime'] = pd.to_datetime(pollutants[\"datetime\"])\n"
     ]
    }
   ],
   "source": [
    "pollutants['datetime'] = pd.to_datetime(pollutants[\"datetime\"])\n",
    "pollutants.set_index('datetime', inplace=True)\n",
    "pollutants.index.freq = 'H'"
   ]
  },
  {
   "cell_type": "code",
   "execution_count": 10,
   "id": "81c1d9c5",
   "metadata": {},
   "outputs": [
    {
     "data": {
      "text/html": [
       "<div>\n",
       "<style scoped>\n",
       "    .dataframe tbody tr th:only-of-type {\n",
       "        vertical-align: middle;\n",
       "    }\n",
       "\n",
       "    .dataframe tbody tr th {\n",
       "        vertical-align: top;\n",
       "    }\n",
       "\n",
       "    .dataframe thead th {\n",
       "        text-align: right;\n",
       "    }\n",
       "</style>\n",
       "<table border=\"1\" class=\"dataframe\">\n",
       "  <thead>\n",
       "    <tr style=\"text-align: right;\">\n",
       "      <th></th>\n",
       "      <th>PM2.5</th>\n",
       "      <th>PM10</th>\n",
       "      <th>O3</th>\n",
       "      <th>CO</th>\n",
       "      <th>NO2</th>\n",
       "    </tr>\n",
       "    <tr>\n",
       "      <th>datetime</th>\n",
       "      <th></th>\n",
       "      <th></th>\n",
       "      <th></th>\n",
       "      <th></th>\n",
       "      <th></th>\n",
       "    </tr>\n",
       "  </thead>\n",
       "  <tbody>\n",
       "    <tr>\n",
       "      <th>2021-12-01 00:00:00</th>\n",
       "      <td>32</td>\n",
       "      <td>79</td>\n",
       "      <td>18.0</td>\n",
       "      <td>1.28</td>\n",
       "      <td>32.0</td>\n",
       "    </tr>\n",
       "    <tr>\n",
       "      <th>2021-12-01 01:00:00</th>\n",
       "      <td>27</td>\n",
       "      <td>78</td>\n",
       "      <td>19.0</td>\n",
       "      <td>1.23</td>\n",
       "      <td>29.0</td>\n",
       "    </tr>\n",
       "    <tr>\n",
       "      <th>2021-12-01 02:00:00</th>\n",
       "      <td>25</td>\n",
       "      <td>74</td>\n",
       "      <td>21.0</td>\n",
       "      <td>1.22</td>\n",
       "      <td>25.0</td>\n",
       "    </tr>\n",
       "    <tr>\n",
       "      <th>2021-12-01 03:00:00</th>\n",
       "      <td>33</td>\n",
       "      <td>72</td>\n",
       "      <td>30.0</td>\n",
       "      <td>1.15</td>\n",
       "      <td>18.0</td>\n",
       "    </tr>\n",
       "    <tr>\n",
       "      <th>2021-12-01 04:00:00</th>\n",
       "      <td>40</td>\n",
       "      <td>66</td>\n",
       "      <td>19.0</td>\n",
       "      <td>1.23</td>\n",
       "      <td>26.0</td>\n",
       "    </tr>\n",
       "  </tbody>\n",
       "</table>\n",
       "</div>"
      ],
      "text/plain": [
       "                     PM2.5  PM10    O3    CO   NO2\n",
       "datetime                                          \n",
       "2021-12-01 00:00:00     32    79  18.0  1.28  32.0\n",
       "2021-12-01 01:00:00     27    78  19.0  1.23  29.0\n",
       "2021-12-01 02:00:00     25    74  21.0  1.22  25.0\n",
       "2021-12-01 03:00:00     33    72  30.0  1.15  18.0\n",
       "2021-12-01 04:00:00     40    66  19.0  1.23  26.0"
      ]
     },
     "execution_count": 10,
     "metadata": {},
     "output_type": "execute_result"
    }
   ],
   "source": [
    "pollutants.head()"
   ]
  },
  {
   "cell_type": "code",
   "execution_count": 11,
   "id": "cd12d5e0",
   "metadata": {},
   "outputs": [
    {
     "data": {
      "text/plain": [
       "DatetimeIndex(['2021-12-01 00:00:00', '2021-12-01 01:00:00',\n",
       "               '2021-12-01 02:00:00', '2021-12-01 03:00:00',\n",
       "               '2021-12-01 04:00:00', '2021-12-01 05:00:00',\n",
       "               '2021-12-01 06:00:00', '2021-12-01 07:00:00',\n",
       "               '2021-12-01 08:00:00', '2021-12-01 09:00:00',\n",
       "               ...\n",
       "               '2022-02-23 00:00:00', '2022-02-23 01:00:00',\n",
       "               '2022-02-23 02:00:00', '2022-02-23 03:00:00',\n",
       "               '2022-02-23 04:00:00', '2022-02-23 05:00:00',\n",
       "               '2022-02-23 06:00:00', '2022-02-23 07:00:00',\n",
       "               '2022-02-23 08:00:00', '2022-02-23 09:00:00'],\n",
       "              dtype='datetime64[ns]', name='datetime', length=2026, freq='H')"
      ]
     },
     "execution_count": 11,
     "metadata": {},
     "output_type": "execute_result"
    }
   ],
   "source": [
    "pollutants.index"
   ]
  },
  {
   "cell_type": "code",
   "execution_count": 12,
   "id": "1e649877",
   "metadata": {},
   "outputs": [
    {
     "data": {
      "text/plain": [
       "PM2.5      0\n",
       "PM10       0\n",
       "O3       199\n",
       "CO       145\n",
       "NO2      145\n",
       "dtype: int64"
      ]
     },
     "execution_count": 12,
     "metadata": {},
     "output_type": "execute_result"
    }
   ],
   "source": [
    "pollutants.isna().sum()"
   ]
  },
  {
   "cell_type": "code",
   "execution_count": 13,
   "id": "d60519db",
   "metadata": {},
   "outputs": [
    {
     "data": {
      "text/plain": [
       "PM2.5    0\n",
       "PM10     0\n",
       "O3       0\n",
       "CO       0\n",
       "NO2      0\n",
       "dtype: int64"
      ]
     },
     "execution_count": 13,
     "metadata": {},
     "output_type": "execute_result"
    }
   ],
   "source": [
    "cleaned_pollutants = pollutants.fillna(method='ffill')\n",
    "cleaned_pollutants.isna().sum()"
   ]
  },
  {
   "cell_type": "code",
   "execution_count": 14,
   "id": "f57ec8be",
   "metadata": {},
   "outputs": [],
   "source": [
    "cleaned_pollutants.to_csv('cleaned_dataset_updated.csv')"
   ]
  }
 ],
 "metadata": {
  "kernelspec": {
   "display_name": "Python 3 (ipykernel)",
   "language": "python",
   "name": "python3"
  },
  "language_info": {
   "codemirror_mode": {
    "name": "ipython",
    "version": 3
   },
   "file_extension": ".py",
   "mimetype": "text/x-python",
   "name": "python",
   "nbconvert_exporter": "python",
   "pygments_lexer": "ipython3",
   "version": "3.8.10"
  }
 },
 "nbformat": 4,
 "nbformat_minor": 5
}
